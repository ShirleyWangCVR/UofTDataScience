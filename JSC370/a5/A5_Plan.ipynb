{
 "cells": [
  {
   "cell_type": "markdown",
   "metadata": {},
   "source": [
    "# Topic: Pokemon Popularity and its impact on Sales\n",
    "\n",
    "When Pokemon Sword and Shield was announced, tons of people were incredibly angry since over 400 pokemon were cut from the game.\n",
    "\n",
    "One Argument: Why play a Pokemon game if you can't catch your favourite pokemon in it?\n",
    "\n",
    "Narrow scope a little.\n",
    "\n",
    "1. What pokemon do people tend to like anyways.  What factors seem to influence people liking a pokemon.\n",
    "2. How many pokemon were cut that people actually care a lot about.\n",
    "3. Did cutting the pokedex matter to the sales?  \n",
    "4. How much does having popular pokemon that people like in the games matter to the sales and ratings anyways.\n",
    "5. In the future, they probably will have to keep cutting pokemon from new games cause games have size limits.  Can introducing a new pokemon with similar features to the old ones cut still achieve the popularity of the old ones?"
   ]
  },
  {
   "cell_type": "markdown",
   "metadata": {},
   "source": [
    "# Data\n",
    "\n",
    "https://www.kaggle.com/sacchin/pokemon-with-stats-generation-8\n",
    "\n",
    "Dataset of all pokemon (gen 1 to 8) with stats and if they're in galar pokedex or not.  Types are in japanese, will need to convert by hand.\n",
    "\n",
    "https://www.kaggle.com/alopez247/pokemon\n",
    "\n",
    "Contains more info about pokemon gen 1 to 7, like height, friendship, is legendary, whatnot.\n",
    "\n",
    "https://pokemon2020.pokemon.com/en-us/?cid=&utm_source=tw&utm_medium=social&utm_campaign=vg&utm_term=pokemonoftheyear\n",
    "\n",
    "Pokemon 2020 website popularity poll (would need to copy out everything myself cause it's not formatted at all).  Only contains top 30 pokemon though.\n",
    "\n",
    "1. https://docs.google.com/spreadsheets/d/1c16Wh4AawHGbTi3Eq1DGZQdM4FMUlJO1YwXJZ_ylRvg/edit#gid=557303698\n",
    "\n",
    "2. https://pastebin.com/LvhaTx7w\n",
    "\n",
    "Results of reddit popularity survey for all gen 1 to 7 pokemon.  Reddit popularity poll (over 52000 votes)\n",
    "\n",
    "https://vgsales.fandom.com/wiki/Pok%C3%A9mon\n",
    "\n",
    "Has a table of sales for all mainline pokemon games.\n",
    "\n",
    "https://en.wikipedia.org/wiki/Pok%C3%A9mon_(video_game_series)\n",
    "\n",
    "Sales but also some ratings."
   ]
  },
  {
   "cell_type": "markdown",
   "metadata": {},
   "source": [
    "# Design\n",
    "\n",
    "- Audience: people who won't shut up on youtube and twitter about this.  Pokemon fans in general.\n",
    "- Insights about Data: discover what kind of pokemon are popular and how much it actually affects the game's sales\n",
    "- How does your statistical analysis support these insights?  See below\n",
    "- Why is this important?  Pokemon is a pretty popular game, so it's important at least hobby-wise to a lot of people.\n",
    "- What is the story that you are going to tell?   \n",
    "    1. Point out what sorts of pokemon people tend to like\n",
    "    2. Did SwSh tried to include popular pokemon that people like\n",
    "    3. If having popular pokemon in a game matters or not to the sales and ratings of the game\n",
    "    4. Can a new pokemon with similar features to an old popular pokemon have around the same level of popularity as the old, and can this assist in planning cuts to the pokedex in the future.\n",
    "- What effect are you hoping to have?  Honestly i just want people on twitter and youtube to shut up about this, make them realize it's really not that big of a deal."
   ]
  },
  {
   "cell_type": "markdown",
   "metadata": {},
   "source": [
    "## What factors seem to influence people liking a pokemon.\n",
    "- how strong is it (6 factors: HP, Atk, Satk, Def, Sdef, Speed)\n",
    "- evolutionary status (none, first, middle, last)\n",
    "- does it have a mega\n",
    "- what type is it (18 factors)\n",
    "- what does it look like (one of my datasets has a pretty simple body style descriptor, not incredibly detailed but may be useful) (most likely a big factor most likely for individual preferances, dunno how well it'll do in predictions though)\n",
    "\n",
    "Using votes from the reddit poll as response and factors as predictors, try and find trends.  Visualize best trends found.\n",
    "\n",
    "Could also have a most popular vs least popular visualization example."
   ]
  },
  {
   "cell_type": "markdown",
   "metadata": {},
   "source": [
    "## How many pokemon were cut that people actually care about?\n",
    "\n",
    "Using votes from the reddit poll, we can give each pokemon a rough estimate of how many people would be disappointed if it wasn't included.  Each pokemon can be given a rank from 1 to 720 of how popular it is, and number of votes times 320000 is a rough estimate of how many people would be upset if it wasn't included.\n",
    "\n",
    "Tally up total popularity of included pokemon vs total popularity of not included pokemon.  Also probably look at average popularity too.  Boxplot of distributions of popularity ranks.  Some more visualizations."
   ]
  },
  {
   "cell_type": "markdown",
   "metadata": {},
   "source": [
    "## Did cutting the pokedex matter to the sales?\n",
    "\n",
    "Honestly I can tell u now no, the sales are pretty constant.  Ratings are also pretty constant.  \n",
    "\n",
    "I could try and use some of the stuff learned above to try and classify how popular the new pokemon in SwSh are, to create a measure of how good the new pokemon are and if they can make up for the ones cut out."
   ]
  },
  {
   "cell_type": "markdown",
   "metadata": {},
   "source": [
    "## How much does having popular pokemon that people like in the games matter to the sales and ratings anyways.\n",
    "\n",
    "I could try and view the popularity of pokemon vs the games.  The problem here is all games except the 8th include all pokemon from previous games, so theoretically if they did matter then the sales would always be increasing.  So I'll try and view popularity of new pokemon each generation, see how that trend changes over time, and if it's correlated with the sales and ratings at all."
   ]
  },
  {
   "cell_type": "markdown",
   "metadata": {},
   "source": [
    "## Conclusion?\n",
    "\n",
    "If I can identify pokemon people tend to like, then whenever pokemon from old games need to be cut in the new game they could just introduce a similar pokemon to appease those people.  Also, I'd like to show that having popular and well liked pokemon in the game doesn't matter to the pokemon game's sales just to shut up annoying people on twitter."
   ]
  },
  {
   "cell_type": "code",
   "execution_count": null,
   "metadata": {},
   "outputs": [],
   "source": []
  },
  {
   "cell_type": "code",
   "execution_count": null,
   "metadata": {},
   "outputs": [],
   "source": []
  },
  {
   "cell_type": "code",
   "execution_count": null,
   "metadata": {},
   "outputs": [],
   "source": []
  }
 ],
 "metadata": {
  "kernelspec": {
   "display_name": "Python 3",
   "language": "python",
   "name": "python3"
  },
  "language_info": {
   "codemirror_mode": {
    "name": "ipython",
    "version": 3
   },
   "file_extension": ".py",
   "mimetype": "text/x-python",
   "name": "python",
   "nbconvert_exporter": "python",
   "pygments_lexer": "ipython3",
   "version": "3.7.6"
  }
 },
 "nbformat": 4,
 "nbformat_minor": 4
}
