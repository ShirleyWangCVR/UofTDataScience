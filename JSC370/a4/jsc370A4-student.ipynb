{
 "cells": [
  {
   "cell_type": "markdown",
   "metadata": {
    "toc": true
   },
   "source": [
    "<h1>JSC370 - Assignment #4<span class=\"tocSkip\"></span></h1>\n",
    "<div class=\"toc\"><ul class=\"toc-item\"><li><span><a href=\"#JSC370---Assignment-#4\" data-toc-modified-id=\"JSC370---Assignment-#4-1\"><span class=\"toc-item-num\">1&nbsp;&nbsp;</span>JSC370 - Assignment #4</a></span><ul class=\"toc-item\"><li><span><a href=\"#Instructions\" data-toc-modified-id=\"Instructions-1.1\"><span class=\"toc-item-num\">1.1&nbsp;&nbsp;</span>Instructions</a></span></li><li><span><a href=\"#Background\" data-toc-modified-id=\"Background-1.2\"><span class=\"toc-item-num\">1.2&nbsp;&nbsp;</span>Background</a></span><ul class=\"toc-item\"><li><span><a href=\"#Why-Use-Pedestrian-Location-Data-in-Public-Space-Design,-Operations,-and-Management\" data-toc-modified-id=\"Why-Use-Pedestrian-Location-Data-in-Public-Space-Design,-Operations,-and-Management-1.2.1\"><span class=\"toc-item-num\">1.2.1&nbsp;&nbsp;</span>Why Use Pedestrian Location Data in Public Space Design, Operations, and Management</a></span></li><li><span><a href=\"#Challenges-with-Collecting-Data-in-Public-Spaces\" data-toc-modified-id=\"Challenges-with-Collecting-Data-in-Public-Spaces-1.2.2\"><span class=\"toc-item-num\">1.2.2&nbsp;&nbsp;</span>Challenges with Collecting Data in Public Spaces</a></span></li></ul></li><li><span><a href=\"#Project-Objective\" data-toc-modified-id=\"Project-Objective-1.3\"><span class=\"toc-item-num\">1.3&nbsp;&nbsp;</span>Project Objective</a></span></li><li><span><a href=\"#Assignment-Questions\" data-toc-modified-id=\"Assignment-Questions-1.4\"><span class=\"toc-item-num\">1.4&nbsp;&nbsp;</span>Assignment Questions</a></span></li><li><span><a href=\"#Mandatory-Project-Workflow\" data-toc-modified-id=\"Mandatory-Project-Workflow-1.5\"><span class=\"toc-item-num\">1.5&nbsp;&nbsp;</span>Mandatory Project Workflow</a></span><ul class=\"toc-item\"><li><span><a href=\"#Git-Tools-Useful-for-working-with-Jupyter-Notebooks\" data-toc-modified-id=\"Git-Tools-Useful-for-working-with-Jupyter-Notebooks-1.5.1\"><span class=\"toc-item-num\">1.5.1&nbsp;&nbsp;</span>Git Tools Useful for working with Jupyter Notebooks</a></span></li></ul></li><li><span><a href=\"#Presentation\" data-toc-modified-id=\"Presentation-1.6\"><span class=\"toc-item-num\">1.6&nbsp;&nbsp;</span>Presentation</a></span></li><li><span><a href=\"#User-Documentation\" data-toc-modified-id=\"User-Documentation-1.7\"><span class=\"toc-item-num\">1.7&nbsp;&nbsp;</span>User Documentation</a></span></li><li><span><a href=\"#Issues-to-consider\" data-toc-modified-id=\"Issues-to-consider-1.8\"><span class=\"toc-item-num\">1.8&nbsp;&nbsp;</span>Issues to consider</a></span></li></ul></li><li><span><a href=\"#Preparation-Lab-Expectations\" data-toc-modified-id=\"Preparation-Lab-Expectations-2\"><span class=\"toc-item-num\">2&nbsp;&nbsp;</span>Preparation Lab Expectations</a></span></li><li><span><a href=\"#Presentation-Expectations\" data-toc-modified-id=\"Presentation-Expectations-3\"><span class=\"toc-item-num\">3&nbsp;&nbsp;</span>Presentation Expectations</a></span><ul class=\"toc-item\"><li><span><a href=\"#General-Presentation-Guidelines\" data-toc-modified-id=\"General-Presentation-Guidelines-3.1\"><span class=\"toc-item-num\">3.1&nbsp;&nbsp;</span>General Presentation Guidelines</a></span></li></ul></li><li><span><a href=\"#User-Documentation-for-Interactive-web-page\" data-toc-modified-id=\"User-Documentation-for-Interactive-web-page-4\"><span class=\"toc-item-num\">4&nbsp;&nbsp;</span>User Documentation for Interactive web page</a></span><ul class=\"toc-item\"><li><span><a href=\"#How-will-my-user-documentation-be-evaluated?\" data-toc-modified-id=\"How-will-my-user-documentation-be-evaluated?-4.1\"><span class=\"toc-item-num\">4.1&nbsp;&nbsp;</span>How will my user documentation be evaluated?</a></span></li><li><span><a href=\"#How-will-the-web-page-be-evaluated?\" data-toc-modified-id=\"How-will-the-web-page-be-evaluated?-4.2\"><span class=\"toc-item-num\">4.2&nbsp;&nbsp;</span>How will the web page be evaluated?</a></span></li></ul></li><li><span><a href=\"#Data\" data-toc-modified-id=\"Data-5\"><span class=\"toc-item-num\">5&nbsp;&nbsp;</span>Data</a></span><ul class=\"toc-item\"><li><span><a href=\"#307-Calendar-of-Events\" data-toc-modified-id=\"307-Calendar-of-Events-5.1\"><span class=\"toc-item-num\">5.1&nbsp;&nbsp;</span>307 Calendar of Events</a></span></li><li><span><a href=\"#Data-Access-Using-the-Numina-API\" data-toc-modified-id=\"Data-Access-Using-the-Numina-API-5.2\"><span class=\"toc-item-num\">5.2&nbsp;&nbsp;</span>Data Access Using the Numina API</a></span></li><li><span><a href=\"#A-few-more-items-from-Numina-that-may-be-helpful\" data-toc-modified-id=\"A-few-more-items-from-Numina-that-may-be-helpful-5.3\"><span class=\"toc-item-num\">5.3&nbsp;&nbsp;</span>A few more items from Numina that may be helpful</a></span></li><li><span><a href=\"#Access-data-via-the-Numina-Dashboard\" data-toc-modified-id=\"Access-data-via-the-Numina-Dashboard-5.4\"><span class=\"toc-item-num\">5.4&nbsp;&nbsp;</span>Access data via the Numina Dashboard</a></span></li><li><span><a href=\"#Steps-to-access-the-data-using-the-API\" data-toc-modified-id=\"Steps-to-access-the-data-using-the-API-5.5\"><span class=\"toc-item-num\">5.5&nbsp;&nbsp;</span>Steps to access the data using the API</a></span></li><li><span><a href=\"#Sample-Queries\" data-toc-modified-id=\"Sample-Queries-5.6\"><span class=\"toc-item-num\">5.6&nbsp;&nbsp;</span>Sample Queries</a></span><ul class=\"toc-item\"><li><span><a href=\"#Counts\" data-toc-modified-id=\"Counts-5.6.1\"><span class=\"toc-item-num\">5.6.1&nbsp;&nbsp;</span>Counts</a></span></li><li><span><a href=\"#Heatmaps\" data-toc-modified-id=\"Heatmaps-5.6.2\"><span class=\"toc-item-num\">5.6.2&nbsp;&nbsp;</span>Heatmaps</a></span></li><li><span><a href=\"#Heatmap-Calculation\" data-toc-modified-id=\"Heatmap-Calculation-5.6.3\"><span class=\"toc-item-num\">5.6.3&nbsp;&nbsp;</span>Heatmap Calculation</a></span></li></ul></li></ul></li></ul></div>"
   ]
  },
  {
   "cell_type": "markdown",
   "metadata": {},
   "source": [
    "# JSC370 - Assignment #4 \n",
    "\n",
    "<font size=\"4\">  \n",
    "Due dates: \n",
    "    <ul style=\"list-style-type:none;\"> \n",
    "    <em> \n",
    "        <li> &#8594; Presentation on March 17, 18:00-20:00 </li> \n",
    "        <br>\n",
    "        <li> &#8594; Final submission on March 23, 23:59 </li> \n",
    "    </em>\n",
    "</font>\n",
    "\n",
    "\n",
    "## Instructions\n",
    "\n",
    "In this assignment you will be working in pairs.  The group assignments are:\n",
    "\n",
    "1. SY and TS\n",
    "2. MX and SW\n",
    "3. LH and DG\n",
    "4. JH and HL\n",
    "\n",
    "## Background\n",
    "\n",
    "### Why Use Pedestrian Location Data in Public Space Design, Operations, and Management\n",
    "\n",
    "With books such as the Social Life of Small Urban Spaces, Holly Whyte presented pioneering research in observing, recording, and quantifying pedestrian life in public spaces, and argued for an approach to designing public spaces that is based on empirical observations of people’s behaviors and interactions, rather than on the designer’s preconceived notions. His work has been hugely influential for the design and planning professions: for example, architect Jan Gehl employs the [Public Space Public Life (PSPL) study](https://www.toronto.ca/ext/digital_comm/pdfs/city-planning/2018-10-15-downtown-parks-public-realm-plan-public-space-public-life-study.pdf), an ethnographic method based on quantifying who and how many people spend time where, to successfully improve the quality of life in public spaces around the world.\n",
    "\n",
    "Because public spaces evolve over time, these data-driven methods are useful for not only the designers but also the operators and managers. By looking at how pedestrian life in public spaces changes longitudinally, through time and in response to particular interventions, operators and managers can take more effective and responsive actions to improve the quality of life in public space.\n",
    "\n",
    "### Challenges with Collecting Data in Public Spaces  \n",
    "\n",
    "There are ongoing challenges with an effective data-driven approach to public space design, operations, and management:\n",
    "\n",
    "- *Data is not detailed or granular enough, or is poorly understood:* existing data collection methods for measuring life in public space often lack the spatial or temporal granularity to paint a truly accurate picture of what goes on. And even if collected, there aren’t very many good analytic tools for understanding what the data reveals, or good models that link quality of life in public spaces with explanatory variables.\n",
    "\n",
    "\n",
    "- *Data collection methods lack legitimacy:* in contrast to low-fidelity observational methods such as manual pen-and-paper surveys, there are increasingly sophisticated ways of measuring pedestrian location in public space (such as wifi beacons) that lack the necessary protection for personally identifiable information. Furthermore, in many cases where these technologies are implemented, such as in retail environments, data collection is undertaken without the clear understanding and consent of its targets, or an explicit link to public benefits.\n",
    "\n",
    "\n",
    "This project aims to demonstrate that it is possible to carry out data collection on pedestrian activities in public space in a way that is consistent with the highest standards of privacy protection, and that the collected data can be analyzed to inform how best to improve the quality of life in public spaces.  If successful, this collaboration will provide a demonstration case for SWL’s hypothesis that responsible data collection and analysis can help planners, designers, operators, and managers take steps to improve quality of urban life, and that it is possible to do so while setting a new bar for privacy and data ethics.\n",
    "\n",
    "\n",
    "\n",
    "## Project Objective\n",
    "\n",
    "Build an interactive web page using a Jupyter notebook with a Python kernel, [ipywidgets](https://ipywidgets.readthedocs.io/en/latest/index.html), and [voila](https://voila.readthedocs.io/en/stable/) to serve the notebook as a web page. The web page should display and explain the data allowing the user to answer the [questions](#Questions).  \n",
    "\n",
    "\n",
    "## Assignment Questions\n",
    "\n",
    "\n",
    "-  How can we use the data to understand dwell time (i.e., where people spend a lot of time) at 307? Which areas of 307 do people pass through? Where do people tend to linger? How does dwell time change over time? \n",
    "\n",
    "\n",
    "- During events at 307 do people tend to dwell in certain spots or choose certain desire lines(i.e., where people come from and where they go)?  Are dwell times or desire lines different compared to times when there are no events?  \n",
    "\n",
    "\n",
    "- 307 requires maintenance after 500 visitors or 500 hours of use, when should 307 plan on scheduling maintenance operations (e.g., what days and times)?\n",
    "\n",
    "\n",
    "- Create a privacy philosophy for the web page and incorporate the philosophy into the web page.  Numina claims that their sensors are able to provide \"Intelligence without surveillance\".  Nevertheless, people, cars, etc. detected by these sensors are recorded without consent.  Does this method of data collection balance individual privacy and benefits for society?  \n",
    "\n",
    "<a href=\"https://numina.co/our-privacy-principles/\"><img src=\"numina_privacy.png\" alt=\"Smiley face\" height=\"400\" width=\"500\"> </a>\n",
    "\n",
    "\n",
    "\n",
    "## Mandatory Project Workflow\n",
    "\n",
    "- Each student clones the assignment repository from Github to their local machine, and **starts a unique branch** to work on their part of the assignment.\n",
    "\n",
    "\n",
    "- Students work on their branches, committing changes and pushing their branch to the shared repository.\n",
    "\n",
    "\n",
    "- When each student finishes their part of the assignment, they start a pull request.\n",
    "\n",
    "\n",
    "- Each group works together to review the proposed changes, discuss improvements or alternatives, and resolve conflicting changes arising from concurrent development.\n",
    "\n",
    "\n",
    "- When the students agree on a resolution, they merge each pull request.  The teaching team can leave feedback on commits or pull requests if they are tagged in the comments. \n",
    "\n",
    "\n",
    "- Both members of the team should contribute equally to building the web page and documentation.  It's not appropriate for one member to work on building the web page and the other to work on the documentation. \n",
    "\n",
    "\n",
    "### Git Tools Useful for working with Jupyter Notebooks\n",
    "\n",
    "\n",
    "[nbdime](https://nbdime.readthedocs.io/en/latest/#) is a very useful Python library for working with .ipynb files with git and Github. \n",
    "\n",
    "\n",
    "## Presentation\n",
    "\n",
    "Your presentation should demonstrate how your interactive Jupyter notebook answers the [questions](#Questions). Your presentation should use [RISE](https://rise.readthedocs.io/en/maint-5.6/) to create slides.  You may also demonstrate parts of your project using voila. \n",
    "\n",
    "\n",
    "## User Documentation\n",
    "\n",
    "You and your partner will create [user documentation](#User-Documentation-for-Interactive-web page) for the web page. The documentation should be done \n",
    "\n",
    "\n",
    "\n",
    "## Issues to consider\n",
    "\n",
    "- What information will the user see on the web page?\n",
    "\n",
    "- How will your group display different data? As a visualization, table, text, or combination? Where will you add interactivity?  How will you know if your choices lead to effective and accurate communication of information?\n",
    "\n",
    "- How will your group define dwell time and desire lines?\n",
    "\n",
    "\n",
    "# Preparation Lab Expectations\n",
    "\n",
    "- This lab will take place on March 10, 6-8.\n",
    "\n",
    "\n",
    "- Use this time to get familiar with the assignment expectations.\n",
    "\n",
    "\n",
    "- Work with your project partner?  It's OK (and encouraged) to share information.\n",
    "\n",
    "\n",
    "- Develop strategies on how you plan to tackle the points in [Issues to consider](#Issues-to-consider) and other challenges such as which data you will present, how you will present the data, and web page layout.\n",
    "\n",
    "\n",
    "- During the last part of the tutorial give a very short presentation on your group's plan.  \n",
    "\n",
    "\n",
    "- By the end of the tutorial commit you and your partner should decide on how you will split-up the work.  Collaborate on a brief written plan then commit and push to your assignment repository.  \n",
    "\n",
    "\n",
    "\n",
    "# Presentation Expectations\n",
    "\n",
    "The time allotted for each presentation is 7 minutes plus 3 minutes for questions/discussion. Each person should present for approximately half the time (i.e., 3.5 minutes). This time limit will be enforced. If you exceed the time limit then you will be asked to stop the presentation. This means that you should rehearse your presentation timing before you present to the class.\n",
    "\n",
    "\n",
    "## General Presentation Guidelines\n",
    "\n",
    "The goal of the presentation is to effectively communicate how librarians can use your web page to answer the [questions](#Questions) (i.e., the communication is aimed at a non-technical, but educated, audience). This does not mean that you should not include technical details, but you should aim to communicate the findings to an audience without a background in statistics, math, or computer science.\n",
    "\n",
    "You will need to remind us about the project, but only tell us what we really need to know. We are curious about the results, and how you present the results, but they are not the only purpose of this presentation. So, what should you include? Examples, of questions to consider as you prepare your presentation are:\n",
    "\n",
    "- What problem did your group set out to solve?\n",
    "\n",
    "\n",
    "- How did your group define the problem?\n",
    "\n",
    "\n",
    "- Does your web page support SWL’s hypothesis that responsible data collection and analysis can help planners, designers, operators, and managers take steps to improve quality of urban life, and that it is possible to do so while setting a new bar for privacy and data ethics.\n",
    "\n",
    "Your presentation will be graded using the [presentation rubric.](https://jsc370.github.io/assignment_rubrics.html#presentation_rubric)\n",
    "\n",
    "The Jupyter notebook you used for the presentation should be pushed to your Github repository for this assignment by <u>**March 3, 18:00**</u>.\n",
    "\n",
    "\n",
    "# User Documentation for Interactive web page\n",
    "\n",
    "- The user documentation should explain to users what data is being displayed on your web page.   For example, if you use the data to do a calculation or create a plot then explain why the calculation was done, and how it should be interpreted.\n",
    "\n",
    "- The documentation should be broken into sections that correspond to the sections of your web page. \n",
    "\n",
    "- The user documentation should be done using a Jupyter notebook.  Ideally your group would find a way to incorporate the documentation into the design of the web page, although this isn't necessary.\n",
    "\n",
    "\n",
    "## How will my user documentation be evaluated?\n",
    "\n",
    "Your user documentation will be evaluated for clarity and conciseness.\n",
    "\n",
    "**Titles [1-5]:** There should be an appropriate title for each section of the web page.\n",
    "\n",
    "**Introductions [1-5]:** What is the the purpose of each section? \n",
    "\n",
    "**Methods [1-5]:** Statistical calculations and data visualizations should be clearly explained to users in each section of the web page without assuming a background in statistics, math, or computer science.\n",
    "\n",
    "**General Considerations [1-5]:** The documentation should be presented in logical order, with well-organized sections, no grammatical, spelling, or punctuation errors, an appropriate level of technical detail, and be clear and easy to follow.\n",
    "\n",
    "**Workflow[1-5]:** Groups should follow the [project workflow](#Mandatory-Project-Workflow) by creating a branch for each member, pull requests, and merges using git and Github.\n",
    "\n",
    "## How will the web page be evaluated?\n",
    "\n",
    "The web page and user documentation will be considered the \"written report\" for this assignment.  70% of the written report mark will be based on the web page and 30% will be based on the user documentation.\n",
    "\n",
    "The web page be graded by evaluating:\n",
    "\n",
    "- Workflow will be evaluated according to [Mandatory Project Workflow](#Mandatory-Project-Workflow).\n",
    "\n",
    "- Data analysis and programming will be evaluated according to the [data analysis](https://jsc370.github.io/assignment_rubrics.html#data_analysis_rubric) and [programming](https://jsc370.github.io/assignment_rubrics.html#programming_rubric) rubrics.\n",
    "\n",
    "\n",
    "\n",
    "# Data\n",
    "    \n",
    "The data in the sandbox goes from the installation date of the first SWL sensor, which was 2019-02-20, through the date the sandbox was created, which was 2020-01-12. The other two sensors were installed around 2020-03-20.\n",
    "\n",
    "## 307 Calendar of Events\n",
    "\n",
    "<em><mark>Coming soon ... </mark></em>\n",
    "\n",
    "\n",
    "\n",
    "## Data Access Using the Numina API\n",
    "\n",
    "The 307 data can be accessed using the [Numina API](https://developer.numina.co/#introduction).  \n",
    "\n",
    "\n",
    "## A few more items from Numina that may be helpful\n",
    "\n",
    "\n",
    "- A [sample Menu of Metrics](https://docs.google.com/presentation/d/11VPloAa6Lfe2G0Llekp5yVabzgqkU-bAb9rCVCI57mI/edit?usp=sharing) that shows some example data science questions and analyses.\n",
    "\n",
    "\n",
    "- A [presentation](https://numina.co/numina-presents-at-transit-techies-nyc/) given at Numina that shows how some of our data is structured and how Behavior Zones work on the backend. The relevant technical pieces start around 7:42.\n",
    "\n",
    "\n",
    "- [Downtown Brooklyn Case Study](https://numina.co/developers-annotation-dbp/)\n",
    "\n",
    "\n",
    "## Access data via the Numina Dashboard\n",
    "\n",
    "- Login to the dashboard and select a sensor.\n",
    "\n",
    "- Select mode.\n",
    "\n",
    "- <mark> Add a behviour zone (optional).</mark> \n",
    "\n",
    "- Select time frame.\n",
    "\n",
    "- Export CSV.\n",
    "\n",
    "![](numina_dashboard.png)\n",
    "\n",
    "\n",
    "## Steps to access the data using the API\n",
    "\n",
    "1. Setup your Numina login and password.\n",
    "\n",
    "![](numina-email.png)\n",
    "\n",
    "\n",
    "2. The login and password that you setup using the dashboard can be used to access data via the API.  The Numina API is a GrpahQL API.  If this is your first time working with GraphQL then you can learn the fundamentals [here](https://www.howtographql.com), but we are really only going to be using some basic queries to fetch data.  \n",
    "\n",
    "\n",
    "\n",
    "3. Once you have setup your account then you are ready to get a login token from the Numina API. It's good practice to keep your credentials confidential. So, store your login and password in another file, say `login.py` and use the magic `%run` to read your credentials into your Jupyter notebook. \n",
    "\n",
    "\n",
    "\n",
    "The file `login.py` should contain:\n",
    "\n",
    "```\n",
    "login = \"yourname@utoronto.ca\"\n",
    "pwd = \"yourpassword\"\n",
    "```"
   ]
  },
  {
   "cell_type": "code",
   "execution_count": 16,
   "metadata": {},
   "outputs": [],
   "source": [
    "# store login data in login.py\n",
    "%run login.py"
   ]
  },
  {
   "cell_type": "markdown",
   "metadata": {},
   "source": [
    "4. A sample login query is below. "
   ]
  },
  {
   "cell_type": "code",
   "execution_count": 17,
   "metadata": {},
   "outputs": [],
   "source": [
    "# login query as multiline formatted string\n",
    "# this assumes that login and pwd are defined \n",
    "# above\n",
    "\n",
    "loginquery = f\"\"\"\n",
    "mutation {{\n",
    "  logIn(\n",
    "      email:\\\"{login}\\\",\n",
    "      password:\\\"{pwd}\\\") {{\n",
    "    jwt {{\n",
    "      token\n",
    "      exp\n",
    "    }}\n",
    "  }}\n",
    "}}\n",
    "\"\"\""
   ]
  },
  {
   "cell_type": "markdown",
   "metadata": {},
   "source": [
    "5. A [POST](https://www.w3schools.com/python/ref_requests_post.asp) request can be issued to the server using the [`requests` library](https://requests.readthedocs.io/en/master/user/quickstart/)."
   ]
  },
  {
   "cell_type": "code",
   "execution_count": 18,
   "metadata": {},
   "outputs": [
    {
     "data": {
      "text/plain": [
       "<Response [200]>"
      ]
     },
     "execution_count": 18,
     "metadata": {},
     "output_type": "execute_result"
    }
   ],
   "source": [
    "import requests\n",
    "url = 'https://api.numina.co/graphql'\n",
    "\n",
    "mylogin = requests.post(url, json={'query': loginquery})\n",
    "mylogin"
   ]
  },
  {
   "cell_type": "markdown",
   "metadata": {},
   "source": [
    "A login token was successfully returned by the Numina server (i.e., a [response of 200](https://www.w3.org/Protocols/rfc2616/rfc2616-sec10.html) was returned).   Now, store the token in `token` for use in subsequent queries."
   ]
  },
  {
   "cell_type": "code",
   "execution_count": 19,
   "metadata": {},
   "outputs": [],
   "source": [
    "token = mylogin.json()['data']['logIn']['jwt']['token']"
   ]
  },
  {
   "cell_type": "markdown",
   "metadata": {},
   "source": [
    "Note that tokens expire after 24 hours by default."
   ]
  },
  {
   "cell_type": "code",
   "execution_count": 20,
   "metadata": {},
   "outputs": [
    {
     "data": {
      "text/plain": [
       "'2020-03-06T18:16:39.318117'"
      ]
     },
     "execution_count": 20,
     "metadata": {},
     "output_type": "execute_result"
    }
   ],
   "source": [
    "expdate = mylogin.json()['data']['logIn']['jwt']['exp']\n",
    "expdate"
   ]
  },
  {
   "cell_type": "markdown",
   "metadata": {},
   "source": [
    "## Sample Queries\n",
    "\n",
    "The following query requests all devices (sensors) serial number, and `rawId` that can be used as a unique way to identify the device in other requests.  "
   ]
  },
  {
   "cell_type": "code",
   "execution_count": 21,
   "metadata": {},
   "outputs": [],
   "source": [
    "query1 = \"\"\"\n",
    "query {\n",
    "  devices {\n",
    "    count\n",
    "    edges {\n",
    "      node {\n",
    "        rawId\n",
    "        name\n",
    "        serialno\n",
    "      }\n",
    "    }\n",
    "  }\n",
    "}\n",
    "\"\"\"\n",
    "\n",
    "devices = requests.post(url, json={'query': query1}, headers = {'Authorization':token})"
   ]
  },
  {
   "cell_type": "code",
   "execution_count": 22,
   "metadata": {
    "scrolled": true
   },
   "outputs": [
    {
     "data": {
      "text/plain": [
       "{'data': {'devices': {'count': 3,\n",
       "   'edges': [{'node': {'name': 'Streetscape - Sandbox',\n",
       "      'rawId': '1b41b3eb5c254ea188c5bba172a89f76',\n",
       "      'serialno': 'SWLSANDBOX1'}},\n",
       "    {'node': {'name': 'Outside - Sandbox',\n",
       "      'rawId': '29b315c428c54c77833d10822b429ded',\n",
       "      'serialno': 'SWLSANDBOX3'}},\n",
       "    {'node': {'name': 'Under Raincoat - Sandbox',\n",
       "      'rawId': 'b0e5945bb2b14ad5977b138cd534c42e',\n",
       "      'serialno': 'SWLSANDBOX2'}}]}}}"
      ]
     },
     "execution_count": 22,
     "metadata": {},
     "output_type": "execute_result"
    }
   ],
   "source": [
    "devices.json()"
   ]
  },
  {
   "cell_type": "markdown",
   "metadata": {},
   "source": [
    "### Counts\n",
    "\n",
    "[Counts queries are used to get counts of objects that were observed in a given time interval.](https://developer.numina.co/#counts)\n",
    "\n",
    "The following query finds the number of pedestrians detected daily by the indoor sensor (the sensor that has name Streetscape - Sandbox) from 2019-12-01 to 2019-12-31. "
   ]
  },
  {
   "cell_type": "code",
   "execution_count": 23,
   "metadata": {},
   "outputs": [],
   "source": [
    "query2 = \"\"\"\n",
    "query {\n",
    "  feedCountMetrics(\n",
    "    serialnos:[\"SWLSANDBOX1\"],\n",
    "    startTime:\"2019-12-01T00:00:00\",\n",
    "    endTime:\"2020-12-31T00:00:00\",\n",
    "    objClasses:[\"pedestrian\"],\n",
    "    timezone:\"America/New_York\",\n",
    "    interval:\"24h\") {\n",
    "    edges {\n",
    "      node {\n",
    "        serialno\n",
    "        result\n",
    "        objClass\n",
    "        time\n",
    "      }\n",
    "    }\n",
    "  }\n",
    "}\n",
    "\"\"\"\n",
    "\n",
    "dec2019peds = requests.post(url, json={'query': query2}, headers = {'Authorization':token})"
   ]
  },
  {
   "cell_type": "markdown",
   "metadata": {},
   "source": [
    "The pedestrian count is shown for 1 December 2019."
   ]
  },
  {
   "cell_type": "code",
   "execution_count": 24,
   "metadata": {},
   "outputs": [
    {
     "name": "stdout",
     "output_type": "stream",
     "text": [
      "{\n",
      " \"node\": {\n",
      "  \"objClass\": \"pedestrian\",\n",
      "  \"result\": 1.0,\n",
      "  \"serialno\": \"SWLSANDBOX1\",\n",
      "  \"time\": \"2019-12-01T00:00:00-05:00\"\n",
      " }\n",
      "}\n"
     ]
    }
   ],
   "source": [
    "import json\n",
    "\n",
    "print(json.dumps(dec2019peds.json()['data']['feedCountMetrics']['edges'][0], indent = 1))"
   ]
  },
  {
   "cell_type": "markdown",
   "metadata": {},
   "source": [
    "### Heatmaps\n",
    "\n",
    "[A heatmap is an array of values representing the spatial distribution of activity levels.](https://developer.numina.co/#heatmaps)\n"
   ]
  },
  {
   "cell_type": "code",
   "execution_count": 25,
   "metadata": {},
   "outputs": [],
   "source": [
    "query3 = \"\"\"\n",
    "query {\n",
    "  feedHeatmaps(\n",
    "    serialno: \"SWLSANDBOX1\",\n",
    "    startTime:\"2019-12-01T00:00:00\",\n",
    "    endTime:\"2019-12-31T00:00:00\",\n",
    "    objClasses:[\"pedestrian\"],\n",
    "    timezone:\"America/New_York\") {\n",
    "    edges {\n",
    "      node {\n",
    "        time\n",
    "        objClass\n",
    "        heatmap\n",
    "      }\n",
    "    }\n",
    "  }\n",
    "}\n",
    "\"\"\"\n",
    "\n",
    "dec2019heat = requests.post(url, json={'query': query3}, headers = {'Authorization':token})"
   ]
  },
  {
   "cell_type": "code",
   "execution_count": 26,
   "metadata": {},
   "outputs": [
    {
     "data": {
      "text/plain": [
       "[[495, 39, 0.192], [496, 39, 0.192], [497, 39, 0.192]]"
      ]
     },
     "execution_count": 26,
     "metadata": {},
     "output_type": "execute_result"
    }
   ],
   "source": [
    "dec2019heat.json()['data']['feedHeatmaps']['edges'][0]['node']['heatmap'][0:3]"
   ]
  },
  {
   "cell_type": "markdown",
   "metadata": {},
   "source": [
    "Visualization of this data can be done in the Numina dashboard \n",
    "\n",
    "\n",
    "![](heatmap_2019-01-12_2019-31-12.png)\n",
    "\n",
    "or you can use a library such as [OpenCV-Python](https://opencv-python-tutroals.readthedocs.io/en/latest/py_tutorials/py_tutorials.html) (an R wrapper for open-CV is also available [here](https://github.com/ropensci/opencv))."
   ]
  },
  {
   "cell_type": "markdown",
   "metadata": {},
   "source": [
    "### Heatmap Calculation\n",
    "\n",
    "A brief description on how Numina calculates heatmaps.\n",
    "\n",
    "1. We treat the paths our objects take across an image as matrices where traveled pixels are 1s and all other pixels are 0s.\n",
    "\n",
    "2. We then aggregate all these matrices on our backend to produce a dense matrix representing the rough activity at each pixel. \n",
    "\n",
    "A simple example of how this would look with two objects paths is shown below, note how the pixel where the paths overlap has a value of 2:\n",
    "\n",
    "![](heatmap_path.png)\n",
    "\n",
    "\n",
    "Now, picture that this process occurs for thousands of object paths. The resulting aggregated matrix is then normalized so that it's values are between 0 and 1, and passed through a histogram equalization algorithm to add contrast to the resulting visualization. Finally, the aggregated, normalized and equalized matrix is color mapped using the [jet colour scheme](https://www.npmjs.com/package/colormap) and overlaid on the sample image to represent relative activity in the scene."
   ]
  }
 ],
 "metadata": {
  "hide_input": false,
  "kernelspec": {
   "display_name": "Python 3",
   "language": "python",
   "name": "python3"
  },
  "language_info": {
   "codemirror_mode": {
    "name": "ipython",
    "version": 3
   },
   "file_extension": ".py",
   "mimetype": "text/x-python",
   "name": "python",
   "nbconvert_exporter": "python",
   "pygments_lexer": "ipython3",
   "version": "3.7.6"
  },
  "toc": {
   "base_numbering": 1,
   "nav_menu": {},
   "number_sections": true,
   "sideBar": true,
   "skip_h1_title": false,
   "title_cell": "JSC370 - Assignment #4",
   "title_sidebar": "Contents",
   "toc_cell": true,
   "toc_position": {},
   "toc_section_display": true,
   "toc_window_display": true
  }
 },
 "nbformat": 4,
 "nbformat_minor": 4
}
