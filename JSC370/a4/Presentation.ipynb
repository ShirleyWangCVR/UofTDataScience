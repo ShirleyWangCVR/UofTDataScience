{
 "cells": [
  {
   "cell_type": "code",
   "execution_count": 1,
   "metadata": {
    "slideshow": {
     "slide_type": "skip"
    }
   },
   "outputs": [],
   "source": [
    "import requests\n",
    "import json\n",
    "import pandas as pd\n",
    "import numpy as np\n",
    "import glob\n",
    "import datetime\n",
    "import warnings\n",
    "# ignore the warnings\n",
    "warnings.filterwarnings('ignore')\n",
    "import matplotlib.pyplot as plt\n",
    "import matplotlib.image as mpimg\n",
    "import matplotlib.cm as cm\n",
    "import matplotlib.widgets as mpl_widgets\n",
    "import math\n",
    "import seaborn as sns\n",
    "\n",
    "import plotly.express as px\n",
    "import plotly.graph_objects as go\n",
    "from plotly.subplots import make_subplots\n",
    "\n",
    "import ipywidgets as widgets\n",
    "from ipywidgets import Layout\n",
    "from ipywidgets import interact\n",
    "from ipywidgets import interactive, HBox, VBox\n",
    "\n",
    "from calendar import monthrange\n",
    "\n",
    "from IPython.display import display\n",
    "from time import sleep\n",
    "from statsmodels.tsa.holtwinters import ExponentialSmoothing"
   ]
  },
  {
   "cell_type": "code",
   "execution_count": 2,
   "metadata": {
    "slideshow": {
     "slide_type": "skip"
    }
   },
   "outputs": [],
   "source": [
    "# store login data in login.py\n",
    "%run login.py"
   ]
  },
  {
   "cell_type": "code",
   "execution_count": 3,
   "metadata": {
    "slideshow": {
     "slide_type": "skip"
    }
   },
   "outputs": [],
   "source": [
    "loginquery = f\"\"\"\n",
    "mutation {{\n",
    "  logIn(\n",
    "      email:\\\"{login}\\\",\n",
    "      password:\\\"{pwd}\\\") {{\n",
    "    jwt {{\n",
    "      token\n",
    "      exp\n",
    "    }}\n",
    "  }}\n",
    "}}\n",
    "\"\"\""
   ]
  },
  {
   "cell_type": "code",
   "execution_count": 4,
   "metadata": {
    "slideshow": {
     "slide_type": "skip"
    }
   },
   "outputs": [
    {
     "data": {
      "text/plain": [
       "<Response [200]>"
      ]
     },
     "execution_count": 4,
     "metadata": {},
     "output_type": "execute_result"
    }
   ],
   "source": [
    "url = 'https://api.numina.co/graphql'\n",
    "mylogin = requests.post(url, json={'query': loginquery})\n",
    "mylogin"
   ]
  },
  {
   "cell_type": "code",
   "execution_count": 5,
   "metadata": {
    "slideshow": {
     "slide_type": "skip"
    }
   },
   "outputs": [],
   "source": [
    "token = mylogin.json()['data']['logIn']['jwt']['token']"
   ]
  },
  {
   "cell_type": "code",
   "execution_count": 6,
   "metadata": {
    "slideshow": {
     "slide_type": "skip"
    }
   },
   "outputs": [
    {
     "data": {
      "text/plain": [
       "'2020-03-18T22:42:52.725851'"
      ]
     },
     "execution_count": 6,
     "metadata": {},
     "output_type": "execute_result"
    }
   ],
   "source": [
    "expdate = mylogin.json()['data']['logIn']['jwt']['exp']\n",
    "expdate"
   ]
  },
  {
   "cell_type": "markdown",
   "metadata": {
    "hideCode": true,
    "hidePrompt": true,
    "slideshow": {
     "slide_type": "slide"
    }
   },
   "source": [
    "# Improving the Quality of Urban Life\n",
    "\n",
    "Authors: Mingwei (Yuka) Xu, Shirley Wang"
   ]
  },
  {
   "cell_type": "markdown",
   "metadata": {
    "slideshow": {
     "slide_type": "slide"
    }
   },
   "source": [
    "# Background\n",
    "\n",
    "- Data collected from sensors located around 307 Sidewalk Labs\n",
    "- SWL's hypothesis\n",
    "    - Responsible data collection and analysis can help us to improve quality of urban life\n",
    "    - Setting a new bar for privacy and data ethics"
   ]
  },
  {
   "cell_type": "markdown",
   "metadata": {
    "hideCode": true,
    "hideOutput": true,
    "slideshow": {
     "slide_type": "slide"
    }
   },
   "source": [
    "# Data Summary\n",
    "- Three sensors: \n",
    "    - Streetscape(Feb 20 2019 - Jan 12 2020)\n",
    "    - Outside(Mar 20 2019 - Jan 12 2020)\n",
    "    - Under Raincoat(Mar 20 2019 - Dec 6 2020)\n",
    "- Query Numina for either counts or a heatmap of a time interval.\n",
    "- Sensors do not store any information about the people it sees, so if a person walks off frame and then back in frame later in the same time interval, it is likely they are counted twice.  \n",
    "    - At times of high movement among people at 307, it is very likely many people are counted more than once."
   ]
  },
  {
   "cell_type": "markdown",
   "metadata": {
    "hideCode": true,
    "hidePrompt": true,
    "slideshow": {
     "slide_type": "slide"
    }
   },
   "source": [
    "# How Does Dwell Time Change?\n",
    "\n",
    "- Dwell Time: Where people spend their time.\n",
    "- Select a Day or Month, and then select a time interval to loop through that time range for.\n",
    "    - 1 Day: 15 minutes, 1 hour, 6 hours\n",
    "    - 1 Month: 6 hours, 1 day\n",
    "- Heatmap Over Time: Shows heatmaps for that time range, in time interval increments.  Gives an idea of where people tended to be and what paths they took through that time range.\n",
    "- Most Common Spots: Takes the sum of all heatmaps in Heatmap Over Time, to give an idea of where people tended to be throughout that entire time range."
   ]
  },
  {
   "cell_type": "code",
   "execution_count": 7,
   "metadata": {
    "slideshow": {
     "slide_type": "skip"
    }
   },
   "outputs": [],
   "source": [
    "# useful global stuff\n",
    "locations = {\"Streetscape\": [\"SWLSANDBOX1\", \"streetscape.png\"], \n",
    "             \"Under Raincoat\": [\"SWLSANDBOX2\", \"under_raincoat.png\"], \n",
    "             \"Outside\": [\"SWLSANDBOX3\", \"outside.png\"]}"
   ]
  },
  {
   "cell_type": "code",
   "execution_count": 8,
   "metadata": {
    "slideshow": {
     "slide_type": "skip"
    }
   },
   "outputs": [],
   "source": [
    "# widgets\n",
    "\n",
    "error_messages = widgets.Output()\n",
    "\n",
    "# day selections\n",
    "day_picker = widgets.DatePicker(\n",
    "    description='Date:',\n",
    "    disabled=False\n",
    ")\n",
    "\n",
    "day_timerange_dd = widgets.Dropdown(options = [\"15 Minutes\", \"1 Hour\", \"6 Hours\"], \n",
    "                                    description=\"By:\")\n",
    "\n",
    "area_dd = widgets.Dropdown(options=list(locations.keys()), description=\"Area:\")\n",
    "\n",
    "day_select = widgets.Button(description='Select Day', disabled=False, button_style='')\n",
    "\n",
    "day_selections = widgets.VBox([day_picker, day_timerange_dd, area_dd, day_select, error_messages])\n",
    "\n",
    "# month selections\n",
    "months_choices = {}\n",
    "for i in range(1,13):\n",
    "    months_choices[datetime.date(2019, i, 1).strftime('%B')] = i\n",
    "\n",
    "month_dd = widgets.Dropdown(options = list(months_choices.keys()), description=\"Month:\")\n",
    "year_dd = widgets.Dropdown(options = [2019, 2020], description=\"Year:\")\n",
    "month_timerange_dd = widgets.Dropdown(options = [\"6 Hours\", \"1 Day\"], description=\"By:\")\n",
    "\n",
    "month_select = widgets.Button(description='Select Month', disabled=False, button_style='')\n",
    "\n",
    "month_selections = widgets.VBox([month_dd, year_dd, month_timerange_dd, area_dd, month_select, error_messages])\n",
    "\n",
    "# loading bar\n",
    "loading1 = widgets.IntProgress(value=0, min=0, max=10, step=1, description='Loading:', \n",
    "                               bar_style='info', orientation='horizontal')\n",
    "\n",
    "# output widgets\n",
    "heatmap_by_time = widgets.Output() #go.FigureWidget() \n",
    "heatmap_popular_areas = go.FigureWidget()\n",
    "\n",
    "# selections in folding accordian tabs\n",
    "selections1 = widgets.Accordion(children=[day_selections, month_selections])\n",
    "selections1.set_title(0, 'Show One Day')\n",
    "selections1.set_title(1, 'Show One Month')\n",
    "\n",
    "# output graph tabs\n",
    "tab1 = widgets.Tab([heatmap_by_time, heatmap_popular_areas])\n",
    "tab1.set_title(0, \"Heatmap Over Time\")\n",
    "tab1.set_title(1, \"Most Common Spots\")"
   ]
  },
  {
   "cell_type": "code",
   "execution_count": 9,
   "metadata": {
    "slideshow": {
     "slide_type": "skip"
    }
   },
   "outputs": [],
   "source": [
    "# functions\n",
    "\n",
    "minutes15 = datetime.timedelta(minutes=15)\n",
    "onehour = datetime.timedelta(hours=1)\n",
    "sixhours = datetime.timedelta(hours=6)\n",
    "oneday = datetime.timedelta(days=1)\n",
    "\n",
    "def process_date_selection(clicked):\n",
    "    if day_picker.value:\n",
    "        startday = datetime.datetime(day_picker.value.year, day_picker.value.month, day_picker.value.day)\n",
    "        \n",
    "        if day_timerange_dd.value == \"15 Minutes\":\n",
    "            timegap = minutes15\n",
    "            num_iters = 24 * 4\n",
    "        elif day_timerange_dd.value == \"1 Hour\":\n",
    "            timegap = onehour\n",
    "            num_iters = 24 \n",
    "        else:\n",
    "            timegap = sixhours\n",
    "            num_iters = 4\n",
    "            \n",
    "        location = locations[area_dd.value][0]\n",
    "        img = locations[area_dd.value][1]\n",
    "        \n",
    "        loading1.max = num_iters + 5\n",
    "        loading1.value = 0\n",
    "        loading1.bar_style = \"info\"\n",
    "        \n",
    "        display_heatmaps(startday, timegap, location, num_iters, img)\n",
    "        \n",
    "    else:\n",
    "        error_messages.clear_output()\n",
    "        with error_messages:\n",
    "            print(\"Please Select A Day\")\n",
    "            \n",
    "            \n",
    "def process_month_selection(clicked):\n",
    "    #date_or_month = \"Date\"\n",
    "    #startday = daypicker.value\n",
    "    year = year_dd.value\n",
    "    month = months_choices[month_dd.value]\n",
    "    startday = datetime.datetime(year=year, month=month, day=1)\n",
    "\n",
    "    if month_timerange_dd.value == \"6 Hours\":\n",
    "        timegap = sixhours\n",
    "        num_iters = 4 * monthrange(year, month)[1]\n",
    "    else:\n",
    "        timegap = oneday\n",
    "        num_iters = monthrange(year, month)[1]\n",
    "\n",
    "    location = locations[area_dd.value][0]\n",
    "    img = locations[area_dd.value][1]\n",
    "    \n",
    "    loading1.max = num_iters + 5\n",
    "    loading1.value = 0\n",
    "    loading1.bar_style = \"info\"\n",
    "\n",
    "    display_heatmaps(startday, timegap, location, num_iters, img)\n",
    "    \n",
    "    \n",
    "def display_heatmaps(startday, timegap, location, num_iters, img):\n",
    "    heatmaps = query_heatmap_info(startday, timegap, location, num_iters)\n",
    "    create_heatmaps(heatmaps, img, num_iters)\n",
    "        \n",
    "\n",
    "def query_heatmap_info(starttime, timegap, location, num_iters):\n",
    "    heatmaps = {}\n",
    "    for i in range(num_iters):\n",
    "        str_start = (starttime + timegap * i).strftime(\"%Y-%m-%dT%H:%M:%S\")\n",
    "        str_end = (starttime + timegap * (i + 1)).strftime(\"%Y-%m-%dT%H:%M:%S\")\n",
    "\n",
    "        heatmapquery = f\"\"\"\n",
    "        query {{\n",
    "          feedHeatmaps(\n",
    "            serialno:\\\"{location}\\\",\n",
    "            startTime:\\\"{str_start}\\\",\n",
    "            endTime:\\\"{str_end}\\\",\n",
    "            objClasses:[\"pedestrian\"],\n",
    "            timezone:\"America/New_York\") {{\n",
    "            edges {{\n",
    "              node {{\n",
    "                time\n",
    "                objClass\n",
    "                heatmap\n",
    "              }}\n",
    "            }}\n",
    "          }}\n",
    "        }}\n",
    "        \"\"\"\n",
    "\n",
    "        heatmap_request = requests.post(url, json={'query': heatmapquery}, headers = {'Authorization':token})\n",
    "        heatmaps[str_start] = heatmap_request.json()[\"data\"][\"feedHeatmaps\"][\"edges\"][0][\"node\"][\"heatmap\"]\n",
    "        loading1.value = loading1.value + 1\n",
    "        \n",
    "    return heatmaps\n",
    "\n",
    "\n",
    "def create_heatmaps(heatmaps, img, num_iters):\n",
    "    # put heatmap data into a dataframe to draw heatmaps as scatterplots\n",
    "    data = pd.DataFrame(columns=[\"x\", \"y\", \"value\", \"DateTime\"])\n",
    "    for heat in heatmaps:\n",
    "        new = pd.DataFrame(heatmaps[heat])\n",
    "        # need some data even if no one there so the frame is there on the graph\n",
    "        if len(new) == 0:\n",
    "            new = pd.DataFrame({0: [0, 0], 1: [0, 0], 2: [0, 1]})\n",
    "\n",
    "        new[\"DateTime\"] = heat\n",
    "        new = new.rename(columns={0: \"x\", 1: \"y\", 2: \"value\"})\n",
    "        data = data.append(new)\n",
    "    data[\"value\"] = data[\"value\"].astype(float)\n",
    "    \n",
    "    loading1.value = loading1.value + 1\n",
    "    \n",
    "    # due to the high volumne of data in a heatmap, to effectively visualize and plot \n",
    "    # the graph with the animations I've cut down on the data by keeping every 2nd or 3rd point\n",
    "    if data[\"DateTime\"].value_counts().values[0] > 20000:\n",
    "        cut_data = data[(data[\"x\"] % 3 == 0) & (data[\"y\"] % 3 == 0)]\n",
    "    elif data[\"DateTime\"].value_counts().values[0] > 10000:\n",
    "        cut_data = data[(data[\"x\"] % 2 == 0) & (data[\"y\"] % 2 == 0)]\n",
    "    else:\n",
    "        cut_data = data\n",
    "\n",
    "    if cut_data[\"DateTime\"].value_counts().values[0] > 4000:\n",
    "        # clunky when switching cause so much data to plot\n",
    "        stayonframe = 3000\n",
    "    else:\n",
    "        stayonframe = 2000\n",
    "        \n",
    "    heatmap_colorscale = px.colors.sequential.Jet[1:5]\n",
    "    loading1.value = loading1.value + 1\n",
    "\n",
    "    # heatmap with animations\n",
    "    fig = px.scatter(cut_data, x=\"x\", y=\"y\", color=\"value\", animation_frame=\"DateTime\",\n",
    "                     range_x=[0, 640], range_y=[480, 0], color_continuous_scale=heatmap_colorscale,\n",
    "                     width=800, height=700, opacity=0.5, range_color=[0, 1],\n",
    "                     labels={\"x\": \"\", \"y\": \"\"})\n",
    "    fig.layout.updatemenus[0].buttons[0].args[1][\"frame\"][\"duration\"] = stayonframe\n",
    "    fig.layout.updatemenus[0].buttons[0].args[1][\"transition\"][\"duration\"] = 1000\n",
    "    fig.add_layout_image(\n",
    "            dict(\n",
    "                source=img,\n",
    "                xref=\"x\",\n",
    "                yref=\"y\",\n",
    "                x=0,\n",
    "                y=0,\n",
    "                sizex=640,\n",
    "                sizey=480,\n",
    "                sizing=\"stretch\",\n",
    "                opacity=1,\n",
    "                layer=\"below\")\n",
    "    )\n",
    "    fig.update_layout(xaxis=dict(showgrid=False, zeroline=False, ticks='',\n",
    "                      showticklabels=False),\n",
    "                      yaxis=dict(showgrid=False, zeroline=False, ticks='',\n",
    "                      showticklabels=False))\n",
    "    fig.update_traces(marker=dict(size=10))\n",
    "    \n",
    "    heatmap_by_time.clear_output()\n",
    "    with heatmap_by_time:\n",
    "        fig.show()\n",
    "    \n",
    "    #heatmap_by_time.data = []\n",
    "    #heatmap_by_time.add_traces(fig.data)\n",
    "    #heatmap_by_time.layout = fig.layout\n",
    "    loading1.value = loading1.value + 1\n",
    "    \n",
    "    # get data for heatmap of common areas\n",
    "    summed_heatmap = data.groupby([\"x\", \"y\"])[\"value\"].sum()\n",
    "    summed_heatmap = summed_heatmap.reset_index()\n",
    "    summed_heatmap = summed_heatmap[(summed_heatmap[\"x\"] != 0) & (summed_heatmap[\"x\"] != 0)]\n",
    "\n",
    "    if (len(summed_heatmap)) > 0:\n",
    "        max_val = max(list(summed_heatmap[\"value\"]))\n",
    "        min_val = min(list(summed_heatmap[\"value\"]))\n",
    "        bound = (max_val - min_val) / 4 + min_val\n",
    "    else:\n",
    "        max_val = 1\n",
    "        bound = 0\n",
    "        \n",
    "    summed_heatmap = summed_heatmap[summed_heatmap[\"value\"] > bound]\n",
    "    \n",
    "    loading1.value = loading1.value + 1\n",
    "    \n",
    "    # create heatmap of the common areas\n",
    "    fig = px.scatter(summed_heatmap, x=\"x\", y=\"y\", color=\"value\", range_x=[0, 640], \n",
    "                     range_y=[480, 0], color_continuous_scale=heatmap_colorscale,\n",
    "                     width=800, height=600, opacity=0.3, range_color=[0, max_val],\n",
    "                     labels={\"x\": \"\", \"y\": \"\"})\n",
    "    fig.add_layout_image(dict(source=img,\n",
    "                                xref=\"x\",\n",
    "                                yref=\"y\",\n",
    "                                x=0,\n",
    "                                y=0,\n",
    "                                sizex=640,\n",
    "                                sizey=480,\n",
    "                                sizing=\"stretch\",\n",
    "                                opacity=1,\n",
    "                                layer=\"below\"))\n",
    "    fig.update_layout(xaxis=dict(showgrid=False, zeroline=False, ticks='',\n",
    "                      showticklabels=False),\n",
    "                      yaxis=dict(showgrid=False, zeroline=False, ticks='',\n",
    "                      showticklabels=False))\n",
    "    \n",
    "    heatmap_popular_areas.data = []\n",
    "    heatmap_popular_areas.add_traces(fig.data)\n",
    "    heatmap_popular_areas.layout = fig.layout\n",
    "    loading1.value = loading1.value + 1\n",
    "    loading1.bar_style = \"success\""
   ]
  },
  {
   "cell_type": "code",
   "execution_count": 10,
   "metadata": {
    "slideshow": {
     "slide_type": "skip"
    }
   },
   "outputs": [],
   "source": [
    "# buttons activate functions\n",
    "day_select.on_click(process_date_selection)\n",
    "month_select.on_click(process_month_selection)"
   ]
  },
  {
   "cell_type": "code",
   "execution_count": 11,
   "metadata": {
    "hide_input": true,
    "slideshow": {
     "slide_type": "subslide"
    }
   },
   "outputs": [
    {
     "data": {
      "application/vnd.jupyter.widget-view+json": {
       "model_id": "74a0633c94ce40aea38d50dbaf2e1359",
       "version_major": 2,
       "version_minor": 0
      },
      "text/plain": [
       "Accordion(children=(VBox(children=(DatePicker(value=None, description='Date:'), Dropdown(description='By:', op…"
      ]
     },
     "metadata": {},
     "output_type": "display_data"
    },
    {
     "data": {
      "application/vnd.jupyter.widget-view+json": {
       "model_id": "552b0046e0264c7d9dbf9ae6da8861f6",
       "version_major": 2,
       "version_minor": 0
      },
      "text/plain": [
       "IntProgress(value=0, bar_style='info', description='Loading:', max=10)"
      ]
     },
     "metadata": {},
     "output_type": "display_data"
    },
    {
     "data": {
      "application/vnd.jupyter.widget-view+json": {
       "model_id": "f3e302947a194eb5bc73f147bf0739b3",
       "version_major": 2,
       "version_minor": 0
      },
      "text/plain": [
       "Tab(children=(Output(), FigureWidget({\n",
       "    'data': [], 'layout': {'template': '...'}\n",
       "})), _titles={'0': 'Heatm…"
      ]
     },
     "metadata": {},
     "output_type": "display_data"
    }
   ],
   "source": [
    "# display widgets\n",
    "display(selections1)\n",
    "display(loading1)\n",
    "display(tab1)"
   ]
  },
  {
   "cell_type": "markdown",
   "metadata": {
    "hideCode": true,
    "hidePrompt": true,
    "slideshow": {
     "slide_type": "slide"
    }
   },
   "source": [
    "# Dwell Time During Events vs No Events\n",
    "\n",
    "\n",
    "- Definition of Event Day:\n",
    "    - Having 500 people in an hour at daytime\n",
    "- Where people come from and where they go?\n",
    "- Where people will concentrate at?"
   ]
  },
  {
   "cell_type": "code",
   "execution_count": 12,
   "metadata": {
    "slideshow": {
     "slide_type": "skip"
    }
   },
   "outputs": [],
   "source": [
    "# read the counts data according to the parameters\n",
    "def read_count(locations, str_start, str_end, interval):\n",
    "    all_counts = pd.DataFrame(columns=[\"time\", \"Streetscape\", \n",
    "                                       \"Under Raincoat\", \"Outside\"])\n",
    "    # loop over the locations to get the different result\n",
    "    for loc in locations:\n",
    "        countquery = f\"\"\"\n",
    "        query{{\n",
    "          feedCountMetrics(\n",
    "            serialnos:\\\"{locations[loc][0]}\\\",\n",
    "            startTime:\\\"{str_start}\\\",\n",
    "            endTime:\\\"{str_end}\\\",\n",
    "            objClasses:[\"pedestrian\"],\n",
    "            timezone:\"America/New_York\",\n",
    "            interval:\\\"{interval}\\\") {{\n",
    "            edges {{\n",
    "              node {{\n",
    "                serialno\n",
    "                result\n",
    "                objClass\n",
    "                time\n",
    "              }}\n",
    "            }}\n",
    "          }}\n",
    "        }}\n",
    "        \"\"\"\n",
    "        counts = requests.post(url, json={'query': countquery}, \n",
    "                               headers = {'Authorization':token})\n",
    "        counts = counts.json()['data']['feedCountMetrics']['edges']\n",
    "        counts_lst = []\n",
    "        for i in range(len(counts)):\n",
    "            counts_lst += [counts[i]['node']]\n",
    "        counts = pd.DataFrame.from_dict(\n",
    "            counts_lst, orient='columns').drop(\n",
    "            ['objClass','serialno'],axis=1).rename(columns={'result':str(loc)})\n",
    "        # create new dataframe or fill in na\n",
    "        if all_counts['time'].count() == 0:\n",
    "            all_counts = all_counts.append(counts)\n",
    "        else:\n",
    "            all_counts = all_counts.combine_first(counts)\n",
    "    # convert the number of people to float\n",
    "    all_counts[[\"Streetscape\",\"Under Raincoat\", \"Outside\"]] = \\\n",
    "                all_counts[[\"Streetscape\",\"Under Raincoat\", \"Outside\"]].astype(float)\n",
    "    # sum all data together to get the overall information\n",
    "    all_counts['total'] = all_counts[[\"Streetscape\",\"Under Raincoat\", \"Outside\"]].sum(1)\n",
    "    # change the time to timestamp\n",
    "    all_counts['time'] = pd.to_datetime(\n",
    "            all_counts['time'], format=\"%Y-%m-%dT%H:%M:%S%z\")\n",
    "    return all_counts"
   ]
  },
  {
   "cell_type": "code",
   "execution_count": 13,
   "metadata": {
    "slideshow": {
     "slide_type": "skip"
    }
   },
   "outputs": [],
   "source": [
    "# find a way to define an event\n",
    "# we might define the event as larger than 500 people overall?\n",
    "def check_events(count_data):\n",
    "    sub_count = read_count(locations,datetime.datetime.strftime(\n",
    "                        count_data['time'].iloc[0],'%Y-%m-%dT%H:%M:%S'),\n",
    "                               datetime.datetime.strftime(\n",
    "                        count_data['time'].iloc[-1],\n",
    "                                   '%Y-%m-%dT%H:%M:%S'),\"1h\")\n",
    "    sub_count['event'] = sub_count['total'].apply(lambda x: 1 if x>=500 else 0)\n",
    "    sub_count['time'] = sub_count['time'].apply(lambda x: str(x).split(' ')[0]+\\\n",
    "                                                \" 00:00:00-05:00:00\")\n",
    "    sub_count = sub_count.groupby('time').max().reset_index()\n",
    "    sub_count['time'] = pd.to_datetime(\n",
    "            sub_count['time'], format=\"%Y-%m-%d %H:%M:%S%z\")\n",
    "    count_data = count_data.merge(sub_count[['time','event']],on='time')\n",
    "    \n",
    "    return count_data"
   ]
  },
  {
   "cell_type": "code",
   "execution_count": 14,
   "metadata": {
    "slideshow": {
     "slide_type": "skip"
    }
   },
   "outputs": [],
   "source": [
    "def read_heatmap(location, str_start, str_end):\n",
    "    heatmapquery = f\"\"\"\n",
    "    query {{\n",
    "      feedHeatmaps(\n",
    "        serialno:\\\"{locations[location][0]}\\\",\n",
    "        startTime:\\\"{str_start}\\\",\n",
    "        endTime:\\\"{str_end}\\\",\n",
    "        objClasses:[\"pedestrian\"],\n",
    "        timezone:\"America/New_York\") {{\n",
    "        edges {{\n",
    "          node {{\n",
    "            time\n",
    "            objClass\n",
    "            heatmap\n",
    "          }}\n",
    "        }}\n",
    "      }}\n",
    "    }}\n",
    "    \"\"\"\n",
    "\n",
    "    heatmap_request = requests.post(url, json={'query': heatmapquery}, \n",
    "                                    headers = {'Authorization':token})\n",
    "    heatmaps = heatmap_request.json()[\"data\"][\"feedHeatmaps\"][\"edges\"][0][\"node\"][\"heatmap\"]\n",
    "    heatmaps = pd.DataFrame(heatmaps, columns=[\"x\", \"y\", \"value\"])\n",
    "    heatmaps = heatmaps.append(pd.DataFrame(\n",
    "            {\"x\": [0, 0], \"y\": [0, 0], \"value\": [0, 1]}))\n",
    "    return heatmaps"
   ]
  },
  {
   "cell_type": "code",
   "execution_count": 15,
   "metadata": {
    "slideshow": {
     "slide_type": "skip"
    }
   },
   "outputs": [],
   "source": [
    "# create dataframe for question 2\n",
    "dates = [datetime.date(2019, 2, j) for j in range(20, 29)]\n",
    "dates += [datetime.date(i, j, 1) for i in range(2019, 2020) for j in range(3, 13)]\n",
    "dates += [datetime.date(2020, 1, i) for i in range(1, 13)]\n",
    "hour = [str(i).zfill(2)+\":\"+j+\":00\" for i in range(0,24) for j in [\"00\",\"15\",\"30\",\"45\"]]\n",
    "all_events = check_events(read_count(\n",
    "        locations,\"2019-02-20T00:00:00\",\"2020-01-12T00:00:00\",\"24h\"))\n",
    "events_option = all_events[all_events['event']==1]['time'].astype(str).str[:10]\n",
    "non_events_option = all_events[all_events['event']==0]['time'].astype(str).str[:10]"
   ]
  },
  {
   "cell_type": "code",
   "execution_count": 16,
   "metadata": {
    "hideCode": false,
    "slideshow": {
     "slide_type": "skip"
    }
   },
   "outputs": [],
   "source": [
    "# define the function to complete question 2\n",
    "def compare_events(date, event, non_event, location, interval, time):\n",
    "    # calculate the time\n",
    "    time_event_asdate = datetime.datetime.strptime(event+\" \"+time,\n",
    "                    \"%Y-%m-%d %H:%M:%S\")\n",
    "    time_non_event_asdate = datetime.datetime.strptime(non_event+\" \"+time,\n",
    "                    \"%Y-%m-%d %H:%M:%S\")\n",
    "    if interval == '15 min':\n",
    "        time_end_event = str(time_event_asdate+datetime.timedelta(minutes=15))\n",
    "        time_non_end_event = str(time_non_event_asdate+datetime.timedelta(minutes=15))\n",
    "    elif interval == 'hour':\n",
    "        time_end_event = str(time_event_asdate+datetime.timedelta(hours = 1))\n",
    "        time_non_end_event = str(time_non_event_asdate+datetime.timedelta(hours=1))\n",
    "    elif interval == '6 hours':\n",
    "        time_end_event = str(time_event_asdate+datetime.timedelta(hours = 6))\n",
    "        time_non_end_event = str(time_non_event_asdate+datetime.timedelta(hours=6))\n",
    "    else:\n",
    "        time_end_event = str(time_event_asdate+datetime.timedelta(days = 1))\n",
    "        time_non_end_event = str(time_non_event_asdate+datetime.timedelta(days=1))\n",
    "    time_end_event = time_end_event.replace(\" \",\"T\")\n",
    "    time_non_end_event = time_non_end_event.replace(\" \",\"T\")\n",
    "    \n",
    "    # create heatmaps according to the event or non event day\n",
    "    heatmaps_event = read_heatmap(location, \n",
    "                    datetime.datetime.strftime(\n",
    "                        time_event_asdate,'%Y-%m-%dT%H:%M:%S'), time_end_event)\n",
    "    heatmaps_non_event = read_heatmap(location, \n",
    "                    datetime.datetime.strftime(\n",
    "                        time_non_event_asdate,'%Y-%m-%dT%H:%M:%S'), time_non_end_event)\n",
    "    # plot heatmaps\n",
    "    fig,axs = plt.subplots(1,2,figsize=(20,7),sharey=True)\n",
    "    ax = axs[0].scatter(x=heatmaps_event[\"x\"], y=heatmaps_event[\"y\"],\n",
    "                            c=heatmaps_event[\"value\"],cmap=\"jet\",vmin=0, vmax=1)\n",
    "    axs[0].set_title(\"Event Day \"+str(event),fontsize=15)\n",
    "    axs[1].scatter(x=heatmaps_non_event[\"x\"], y=heatmaps_non_event[\"y\"],\n",
    "                   c= heatmaps_non_event[\"value\"],cmap=\"jet\",vmin=0, vmax=1)\n",
    "    axs[1].set_title(\"No Event Day \"+str(non_event),fontsize=15)\n",
    "    for i in range(0,2):\n",
    "        if location == 'Streetscape':\n",
    "            img = plt.imread(\"streetscape.png\")\n",
    "        elif location == 'Under Raincoat':\n",
    "            img = plt.imread(\"under_raincoat.png\")\n",
    "        else:\n",
    "            img = plt.imread(\"outside.png\")\n",
    "        axs[i].imshow(img,zorder=0)\n",
    "        axs[i].set_yticks([])\n",
    "        axs[i].set_xticks([])\n",
    "        axs[i].axis('off')\n",
    "    # color bar\n",
    "    cbar = fig.colorbar(ax, ax=axs.ravel().tolist())\n",
    "    fig.suptitle('Heatmap for '+location,fontsize=20)\n",
    "    plt.show()\n",
    "\n",
    "\n",
    "# interactive widget\n",
    "date_widget = widgets.SelectionRangeSlider(\n",
    "             options=dates,\n",
    "             index=(0, 7),\n",
    "             description='Date:',\n",
    "             disabled=False, layout=Layout(width='45%'))\n",
    "event_widget = widgets.Dropdown(\n",
    "             options=events_option,\n",
    "             description='Event:',\n",
    "             disabled=False, layout=Layout(width='45%'))\n",
    "non_event_widget = widgets.Dropdown(\n",
    "             options=non_events_option,\n",
    "             description='No Event:',\n",
    "             disabled=False, layout=Layout(width='45%'))\n",
    "# update interactive widget\n",
    "def update_event_day(*args):\n",
    "    # define the start and the end period\n",
    "    start = datetime.datetime.combine(date_widget.value[0], \n",
    "                        datetime.datetime.min.time())\n",
    "    end = datetime.datetime.combine(date_widget.value[1],\n",
    "                        datetime.datetime.min.time())\n",
    "    event_widget.options = [time for time in events_option if \\\n",
    "                            ((datetime.datetime.strptime(time,\n",
    "                    \"%Y-%m-%d\") >= start) & (datetime.datetime.strptime(time,\n",
    "                    \"%Y-%m-%d\") <= end))]\n",
    "    \n",
    "    non_event_widget.options = [time for time in non_events_option if\\\n",
    "                                ((datetime.datetime.strptime(time,\n",
    "                    \"%Y-%m-%d\") >= start) & (datetime.datetime.strptime(time,\n",
    "                    \"%Y-%m-%d\") <= end))]\n",
    "    \n",
    "date_widget.observe(update_event_day, 'value')\n",
    "\n",
    "\n",
    "# present the dashboard\n",
    "widget = interactive(compare_events, \n",
    "         date = date_widget,\n",
    "         event = event_widget, \n",
    "         non_event = non_event_widget, #change to non_event\n",
    "         location = widgets.Dropdown(\n",
    "             options=['Streetscape','Under Raincoat','Outside'],\n",
    "             description='Location:',\n",
    "             disabled=False, layout=Layout(width='45%')), \n",
    "         interval = widgets.Dropdown(\n",
    "             options=['15 min','hour','6 hours','day'],\n",
    "             description='By:',\n",
    "             disabled=False, layout=Layout(width='45%')), \n",
    "         time = widgets.Dropdown(\n",
    "             options=hour,\n",
    "             description='Time:',\n",
    "             disabled=False, layout=Layout(width='45%')), )\n",
    "\n",
    "controls = HBox(widget.children[1:-1], \n",
    "                layout = Layout(flex_flow='row wrap'))\n",
    "output = widget.children[-1]"
   ]
  },
  {
   "cell_type": "code",
   "execution_count": 17,
   "metadata": {
    "hide_input": true,
    "slideshow": {
     "slide_type": "subslide"
    }
   },
   "outputs": [
    {
     "data": {
      "application/vnd.jupyter.widget-view+json": {
       "model_id": "65e36867d12940b898b08d1035302dd5",
       "version_major": 2,
       "version_minor": 0
      },
      "text/plain": [
       "VBox(children=(SelectionRangeSlider(description='Date:', index=(0, 7), layout=Layout(width='45%'), options=(da…"
      ]
     },
     "metadata": {},
     "output_type": "display_data"
    }
   ],
   "source": [
    "display(VBox([widget.children[0], controls, output]))"
   ]
  },
  {
   "cell_type": "markdown",
   "metadata": {
    "hideCode": true,
    "hidePrompt": true,
    "slideshow": {
     "slide_type": "slide"
    }
   },
   "source": [
    "# When Should 307 Scheduling Maintenance?\n",
    "- 307 requires maintenance on the sensors after 500 visitors or 500 hours\n",
    "- 500 hours = roughly 3 weeks\n",
    "- Using count data over the entire time range, in 1 hour increments\n",
    "- Time Series model using Holt-Winters Exponential Smoothing to try and predict future visitors \n",
    "- A majority of the data becomes residual due to extremely high counts on event days"
   ]
  },
  {
   "cell_type": "code",
   "execution_count": 18,
   "metadata": {
    "slideshow": {
     "slide_type": "skip"
    }
   },
   "outputs": [],
   "source": [
    "# widgets\n",
    "\n",
    "# inputs\n",
    "area_dd2 = widgets.Dropdown(options=list(locations.keys()), description=\"Area:\")\n",
    "area_btn = widgets.Button(description='Select Area', disabled=False, button_style='')\n",
    "\n",
    "# loading bar\n",
    "loading2 = widgets.IntProgress(value=0, min=0, max=12, step=1, description='Loading:', \n",
    "                               bar_style='info', orientation='horizontal')\n",
    "\n",
    "# outputs\n",
    "time_graph = go.FigureWidget()\n",
    "average_timeto500 = go.FigureWidget()\n",
    "expected_event_hours = go.FigureWidget()\n",
    "reached_500_hours = go.FigureWidget()\n",
    "\n",
    "browser_render = widgets.Button(description='Render in Browser', disabled=False, button_style='')\n",
    "\n",
    "# putting them together\n",
    "\n",
    "area_selections = widgets.VBox([area_dd2, area_btn])\n",
    "time_tab = widgets.VBox([browser_render, time_graph])\n",
    "\n",
    "# selections in folding accordian tabs\n",
    "selections2 = widgets.Accordion(children=[area_selections])\n",
    "selections2.set_title(0, 'Select Area')\n",
    "\n",
    "# output graph tabs\n",
    "tab2 = widgets.Tab([time_tab, average_timeto500, expected_event_hours, reached_500_hours])\n",
    "tab2.set_title(0, \"Counts & Predictions\")\n",
    "tab2.set_title(1, \"Time to 500 Visitors\")\n",
    "tab2.set_title(2, \"Hours of Over 500 \")\n",
    "tab2.set_title(3, \"Hours 500 Reached\")"
   ]
  },
  {
   "cell_type": "code",
   "execution_count": 19,
   "metadata": {
    "slideshow": {
     "slide_type": "skip"
    }
   },
   "outputs": [],
   "source": [
    "# functions\n",
    "\n",
    "timeseries_figure = None\n",
    "\n",
    "def show_in_browser(click):\n",
    "    if timeseries_figure:\n",
    "        timeseries_figure.show(renderer=\"browser\")\n",
    "\n",
    "\n",
    "def update_maintenance_graphs(click):\n",
    "    global timeseries_figure\n",
    "    loading2.value = 0\n",
    "    loading2.bar_style = \"info\"\n",
    "    loading2.value = loading2.value + 1\n",
    "    \n",
    "    count_data = process_area_selection()\n",
    "    loading2.value = loading2.value + 1\n",
    "    \n",
    "    maybe_events = count_data[count_data[\"result\"] >= 500]\n",
    "    our_event_days = list(maybe_events[\"date\"].value_counts().index)\n",
    "    loading2.value = loading2.value + 1\n",
    "    \n",
    "    over_capacity, gaps, over_capacity_dates, over_capacity_times = get_visitor_data(count_data, our_event_days)\n",
    "    loading2.value = loading2.value + 1\n",
    "    \n",
    "    model, predictions, predicted_time_gaps, reached_capacity = fit_timeseries_model(count_data)\n",
    "    loading2.value = loading2.value + 1\n",
    "    \n",
    "    figure = draw_timeseries_graph(count_data, model, predictions, over_capacity, reached_capacity)\n",
    "    timeseries_figure = figure\n",
    "    loading2.value = loading2.value + 1\n",
    "    \n",
    "    hours_graphs(count_data, over_capacity_times, maybe_events, gaps, predicted_time_gaps)\n",
    "    \n",
    "    loading2.value = loading2.value + 1\n",
    "    loading2.bar_style = \"success\"\n",
    "    \n",
    "\n",
    "def process_area_selection():\n",
    "    location = locations[area_dd2.value][0]\n",
    "    if area_dd2.value == \"Streetscape\":\n",
    "        starttime = \"2019-02-20T00:00:00\"\n",
    "        endtime = \"2020-01-12T00:00:00\"\n",
    "    \n",
    "    elif area_dd2.value == \"Under Raincoat\":\n",
    "        starttime = \"2019-03-20T00:00:00\"\n",
    "        endtime = \"2019-12-06T00:00:00\"\n",
    "        \n",
    "    else: # Outside\n",
    "        starttime = \"2019-03-19T00:00:00\"\n",
    "        endtime = \"2020-01-12T00:00:00\"\n",
    "    \n",
    "    hourquery = f\"\"\"\n",
    "    query {{\n",
    "      feedCountMetrics(\n",
    "        serialnos:[\\\"{location}\\\"],\n",
    "        startTime:\\\"{starttime}\\\",\n",
    "        endTime:\\\"{endtime}\\\",\n",
    "        objClasses:[\"pedestrian\"],\n",
    "        timezone:\"America/New_York\",\n",
    "        interval:\"1h\") {{\n",
    "        edges {{\n",
    "          node {{\n",
    "            serialno\n",
    "            result\n",
    "            objClass\n",
    "            time\n",
    "          }}\n",
    "        }}\n",
    "      }}\n",
    "    }}\n",
    "    \"\"\"\n",
    "    all_streetscape_counts = requests.post(url, json={'query': hourquery}, headers = {'Authorization':token})\n",
    "    counts_list = all_streetscape_counts.json()[\"data\"][\"feedCountMetrics\"][\"edges\"]\n",
    "    count_data = pd.DataFrame()\n",
    "    for node in counts_list:\n",
    "        data = pd.DataFrame(node[\"node\"], index=[0])\n",
    "        count_data = count_data.append(data)\n",
    "        \n",
    "    count_data = count_data.reset_index(drop=True)\n",
    "    count_data = count_data.rename(columns={\"time\": \"datetime\"})\n",
    "    count_data[\"date\"] = count_data[\"datetime\"].apply(lambda x: x[0:10])\n",
    "    count_data[\"time\"] = count_data[\"datetime\"].apply(lambda x: x[11:19])\n",
    "    \n",
    "    return count_data\n",
    "\n",
    "\n",
    "def get_visitor_data(count_data, our_event_days):\n",
    "    visitors = 0\n",
    "    over_capacity = []\n",
    "    gaps = []\n",
    "    over_capacity_dates = []\n",
    "    over_capacity_times = []\n",
    "\n",
    "    days_skipped = 0  # cause they're events\n",
    "    for i, r in count_data.iterrows():\n",
    "        if r[\"date\"] not in our_event_days:\n",
    "\n",
    "            visitors = visitors + r[\"result\"]\n",
    "            if visitors > 500:\n",
    "                visitors = 0\n",
    "\n",
    "                if len(over_capacity) > 0:\n",
    "                    last = over_capacity[len(over_capacity) - 1]\n",
    "                    curr_time = datetime.datetime.strptime(r[\"datetime\"], \"%Y-%m-%dT%H:%M:%S%z\")\n",
    "                    last_time = datetime.datetime.strptime(last, \"%Y-%m-%dT%H:%M:%S%z\")\n",
    "                    time_gap = curr_time - last_time\n",
    "                    time_gap = time_gap - datetime.timedelta(hours=1) * days_skipped\n",
    "                    gaps.append(time_gap)\n",
    "\n",
    "                over_capacity.append(r[\"datetime\"])\n",
    "                over_capacity_dates.append(r[\"date\"])\n",
    "                over_capacity_times.append(r[\"time\"])\n",
    "                days_skipped = 0\n",
    "        else:\n",
    "            if r[\"time\"] == '00:00:00':\n",
    "                days_skipped = days_skipped + 1\n",
    "                \n",
    "    gaps_hours = []\n",
    "    for timegap in gaps:\n",
    "        gaps_hours.append(timegap.days * 24 + timegap.seconds // 3600)\n",
    "                \n",
    "    return over_capacity, gaps_hours, over_capacity_dates, over_capacity_times\n",
    "\n",
    "\n",
    "def fit_timeseries_model(count_data):\n",
    "    fit_data = count_data[[\"datetime\", \"result\"]]\n",
    "    fit_data = fit_data.set_index(\"datetime\")\n",
    "    fit_data = pd.Series(fit_data[\"result\"])\n",
    "    # 24 seasonal periods since we have hourly data \n",
    "    model = ExponentialSmoothing(fit_data, seasonal_periods=24, trend='add', seasonal='add').fit()\n",
    "    predictions = pd.DataFrame(model.forecast(768)).reset_index().rename(columns={\"index\": \"Datetime\", 0: \"Visitors\"})\n",
    "    predictions[\"Visitors\"] = predictions[\"Visitors\"].apply(lambda x: int(max(x, 0)))\n",
    "    \n",
    "    visitors = 0\n",
    "    predicted_time_gaps = []\n",
    "    reached_capacity = []\n",
    "    for i, r in predictions.iterrows():\n",
    "        visitors = visitors + r[\"Visitors\"]\n",
    "        if visitors > 500:\n",
    "            visitors = 0\n",
    "            if len(predicted_time_gaps) == 0:\n",
    "                last = predictions.loc[0][\"Datetime\"].to_pydatetime()\n",
    "            else:\n",
    "                last = reached_capacity[len(reached_capacity) - 1].to_pydatetime()\n",
    "            curr = r[\"Datetime\"].to_pydatetime()\n",
    "            gap = curr - last\n",
    "            predicted_time_gaps.append(gap)\n",
    "            reached_capacity.append(r[\"Datetime\"])\n",
    "            \n",
    "    gaps_hours = []\n",
    "    for timegap in predicted_time_gaps:\n",
    "        gaps_hours.append(timegap.days * 24 + timegap.seconds // 3600)\n",
    "            \n",
    "    return model, predictions,gaps_hours, reached_capacity\n",
    "\n",
    "\n",
    "def draw_timeseries_graph(count_data, model, predictions, over_capacity, reached_capacity):\n",
    "    fig = go.Figure() \n",
    "    fig.add_trace(go.Scatter(x=count_data[\"datetime\"], y=count_data[\"result\"],\n",
    "                             mode=\"lines\", name=\"Observed\"))\n",
    "    fig.add_trace(go.Scatter(x=model.fittedvalues.index, y=model.fittedvalues.values,\n",
    "                             mode='lines', name='Fitted'))\n",
    "    fig.add_trace(go.Scatter(x=predictions[\"Datetime\"], y=predictions[\"Visitors\"],\n",
    "                             mode='lines', name='Predicted'))\n",
    "    fig.add_trace(go.Scatter(x = count_data[count_data[\"result\"] > 500][\"datetime\"],\n",
    "                             y = count_data[count_data[\"result\"] > 500][\"result\"], \n",
    "                             name= \"Expected Events\", mode='markers'))\n",
    "    loading2.value = loading2.value + 1\n",
    "\n",
    "    for i in range(len(over_capacity)):\n",
    "        fig.add_shape(\n",
    "            # Line Vertical\n",
    "            dict(\n",
    "                type=\"line\",\n",
    "                x0=over_capacity[i],\n",
    "                y0=0,\n",
    "                x1=over_capacity[i],\n",
    "                y1=max(count_data[\"result\"]) + 100,\n",
    "                line=dict(color=\"aqua\", width=1)\n",
    "        ))\n",
    "\n",
    "    # so that the vertical lines show up in in the legend\n",
    "    fig.add_trace(go.Scatter(x=[over_capacity[0]], y=[0],\n",
    "                             mode='lines', name='500 Visitors Reached', line=dict(color=\"aqua\")))\n",
    "    \n",
    "    loading2.value = loading2.value + 1\n",
    "\n",
    "    for i in range(len(reached_capacity)):\n",
    "        fig.add_shape(\n",
    "            # Line Vertical\n",
    "            dict(\n",
    "                type=\"line\",\n",
    "                x0=reached_capacity[i],\n",
    "                y0=0,\n",
    "                x1=reached_capacity[i],\n",
    "                y1=max(count_data[\"result\"]) + 100,\n",
    "                line=dict(color=\"rgb(231,107,243)\", width=1)\n",
    "        ))\n",
    "        \n",
    "    if len(reached_capacity) > 0:\n",
    "        spot = reached_capacity[0]\n",
    "    else:\n",
    "        spot = \"2020-01-12T00:00:00-05:00\"\n",
    "\n",
    "    fig.add_trace(go.Scatter(x=[spot], y=[0],\n",
    "                             mode='lines', name='Predicted 500 Visitors Reached', \n",
    "                             line=dict(color=\"rgb(231,107,243)\")))\n",
    "\n",
    "    fig.update_layout(xaxis_rangeslider_visible=True, width=900, height=600, \n",
    "                      xaxis=dict(title=\"DateTime\"), yaxis=dict(title=\"Number of Pedestrians\"), \n",
    "                      title=\"Observed and Predicted Pedestrian Counts and When 500 Visitors are Reached\")\n",
    "    \n",
    "    time_graph.data = []\n",
    "    time_graph.add_traces(fig.data)\n",
    "    time_graph.layout = fig.layout\n",
    "    return fig\n",
    "\n",
    "\n",
    "def hours_graphs(count_data, over_capacity_times, maybe_events, gaps_hours, predicted_gaps_hours):\n",
    "    times = list(count_data[\"time\"].value_counts().index)\n",
    "    times.sort()\n",
    "    time_counts = pd.DataFrame({\"Time\": times})\n",
    "    time_counts[\"Count\"] = 0\n",
    "\n",
    "    these_hours = pd.Series(over_capacity_times).value_counts()\n",
    "    for i, r in time_counts.iterrows():\n",
    "        if r[\"Time\"] in these_hours.index:\n",
    "            time_counts.loc[i, \"Count\"] = these_hours[r[\"Time\"]]\n",
    "\n",
    "    fig = px.bar(time_counts, x='Time', y='Count')\n",
    "    fig.add_shape(\n",
    "            # Line Vertical\n",
    "            dict(\n",
    "                type=\"line\",\n",
    "                x0=\"07:00:00\",\n",
    "                y0=0,\n",
    "                x1=\"07:00:00\",\n",
    "                y1=max(time_counts[\"Count\"]) + 5,\n",
    "                line=dict(color=\"red\", width=3)\n",
    "    ))\n",
    "\n",
    "    fig.add_shape(\n",
    "            # Line Vertical\n",
    "            dict(\n",
    "                type=\"line\",\n",
    "                x0=\"20:00:00\",\n",
    "                y0=0,\n",
    "                x1=\"20:00:00\",\n",
    "                y1=max(time_counts[\"Count\"]) + 5,\n",
    "                line=dict(color=\"red\", width=3)\n",
    "    ))\n",
    "\n",
    "    fig.update_layout(title=\"Hours When Sidewalk Labs Reaches Over 500 Visitors\")\n",
    "    reached_500_hours.data = []\n",
    "    reached_500_hours.add_traces(fig.data)\n",
    "    reached_500_hours.layout = fig.layout\n",
    "    loading2.value = loading2.value + 1\n",
    "    \n",
    "    \n",
    "    times = list(count_data[\"time\"].value_counts().index)\n",
    "    times.sort()\n",
    "    time_counts = pd.DataFrame({\"Time\": times})\n",
    "    time_counts[\"Count\"] = 0\n",
    "\n",
    "    these_hours = maybe_events[\"time\"].value_counts()\n",
    "    for i, r in time_counts.iterrows():\n",
    "        if r[\"Time\"] in these_hours.index:\n",
    "            time_counts.loc[i, \"Count\"] = these_hours[r[\"Time\"]]\n",
    "\n",
    "    fig = px.bar(time_counts, x='Time', y='Count')\n",
    "    fig.add_shape(\n",
    "            # Line Vertical\n",
    "            dict(\n",
    "                type=\"line\",\n",
    "                x0=\"07:00:00\",\n",
    "                y0=0,\n",
    "                x1=\"07:00:00\",\n",
    "                y1=max(time_counts[\"Count\"]) + 5,\n",
    "                line=dict(color=\"red\", width=3)\n",
    "    ))\n",
    "\n",
    "    fig.add_shape(\n",
    "            # Line Vertical\n",
    "            dict(\n",
    "                type=\"line\",\n",
    "                x0=\"20:00:00\",\n",
    "                y0=0,\n",
    "                x1=\"20:00:00\",\n",
    "                y1=max(time_counts[\"Count\"]) + 5,\n",
    "                line=dict(color=\"red\", width=3)\n",
    "    ))\n",
    "\n",
    "    fig.update_layout(title=\"Hours With Over 500 Pedestrians Counted\")    \n",
    "    \n",
    "    expected_event_hours.data = []\n",
    "    expected_event_hours.add_traces(fig.data)\n",
    "    expected_event_hours.layout = fig.layout\n",
    "    loading2.value = loading2.value + 1\n",
    "    \n",
    "    \n",
    "    fig = go.Figure()\n",
    "    fig.add_trace(go.Histogram(x=gaps_hours, \n",
    "                               marker=dict(color=\"fuchsia\", line=dict(color=\"grey\")), \n",
    "                               xbins=dict(size=10),\n",
    "                               name=\"Hours To 500 Visitors\"))\n",
    "    fig.add_trace(go.Histogram(x=predicted_gaps_hours, \n",
    "                               marker=dict(color=\"rgb(255, 217, 102)\"),\n",
    "                               xbins=dict(size=10), \n",
    "                               name=\"Predicted Hours To 500 Visitors Next Month\"))\n",
    "\n",
    "    fig.update_layout(barmode='overlay', width=900, height=600, \n",
    "                      xaxis=dict(title=\"Hours\"), yaxis=dict(title=\"Count\"), \n",
    "                      title=\"Number of Hours to Reach 500 Visitors\")\n",
    "    fig.update_traces(opacity=0.75)\n",
    "    \n",
    "    average_timeto500.data = []\n",
    "    average_timeto500.add_traces(fig.data)\n",
    "    average_timeto500.layout = fig.layout\n",
    "    loading2.value = loading2.value + 1\n",
    "    "
   ]
  },
  {
   "cell_type": "code",
   "execution_count": 20,
   "metadata": {
    "slideshow": {
     "slide_type": "skip"
    }
   },
   "outputs": [],
   "source": [
    "area_btn.on_click(update_maintenance_graphs)\n",
    "browser_render.on_click(show_in_browser)"
   ]
  },
  {
   "cell_type": "code",
   "execution_count": 21,
   "metadata": {
    "hide_input": true,
    "slideshow": {
     "slide_type": "subslide"
    }
   },
   "outputs": [
    {
     "data": {
      "application/vnd.jupyter.widget-view+json": {
       "model_id": "c7bde30a86e5404b9661268d84d3f8b3",
       "version_major": 2,
       "version_minor": 0
      },
      "text/plain": [
       "Accordion(children=(VBox(children=(Dropdown(description='Area:', options=('Streetscape', 'Under Raincoat', 'Ou…"
      ]
     },
     "metadata": {},
     "output_type": "display_data"
    },
    {
     "data": {
      "application/vnd.jupyter.widget-view+json": {
       "model_id": "0df6ed540fba406d9a9bdc40d71dcb84",
       "version_major": 2,
       "version_minor": 0
      },
      "text/plain": [
       "IntProgress(value=0, bar_style='info', description='Loading:', max=12)"
      ]
     },
     "metadata": {},
     "output_type": "display_data"
    },
    {
     "data": {
      "application/vnd.jupyter.widget-view+json": {
       "model_id": "c9e1a979f5ee4bb9af7567374f40f506",
       "version_major": 2,
       "version_minor": 0
      },
      "text/plain": [
       "Tab(children=(VBox(children=(Button(description='Render in Browser', style=ButtonStyle()), FigureWidget({\n",
       "    …"
      ]
     },
     "metadata": {},
     "output_type": "display_data"
    },
    {
     "name": "stderr",
     "output_type": "stream",
     "text": [
      "C:\\Users\\shirl\\Anaconda3\\envs\\datasci\\lib\\site-packages\\statsmodels\\tsa\\base\\tsa_model.py:162: ValueWarning:\n",
      "\n",
      "No frequency information was provided, so inferred frequency H will be used.\n",
      "\n"
     ]
    }
   ],
   "source": [
    "display(selections2)\n",
    "display(loading2)\n",
    "display(tab2)"
   ]
  },
  {
   "cell_type": "markdown",
   "metadata": {
    "hideCode": true,
    "hidePrompt": true,
    "slideshow": {
     "slide_type": "slide"
    }
   },
   "source": [
    "# Privacy Philosophy\n",
    "\n",
    "- Numina's philosophy is \"Intelligence Without Surveillance\", although it's debatable how well it upholds that.  \n",
    "- We would like to uphold that motto, with interactive widgets that provide useful information about the movements and behaviour around Sidewalk Labs that also do not compromise the privacy of anyone involved.  \n",
    "- Nowhere is the direct count of how many people were at this specific location at this specific time displayed.\n",
    "- Heatmaps do not have counts of people to better preserve privacy.\n",
    "- All data is always directly loaded from Numina each time, instead of being stored in a file."
   ]
  },
  {
   "cell_type": "markdown",
   "metadata": {
    "slideshow": {
     "slide_type": "slide"
    }
   },
   "source": [
    "# Thanks For Listening\n",
    "\n",
    "- Questions now\n",
    "- Stay inside, wash your hands."
   ]
  }
 ],
 "metadata": {
  "celltoolbar": "Slideshow",
  "hide_code_all_hidden": true,
  "kernelspec": {
   "display_name": "Python 3",
   "language": "python",
   "name": "python3"
  },
  "language_info": {
   "codemirror_mode": {
    "name": "ipython",
    "version": 3
   },
   "file_extension": ".py",
   "mimetype": "text/x-python",
   "name": "python",
   "nbconvert_exporter": "python",
   "pygments_lexer": "ipython3",
   "version": "3.7.6"
  }
 },
 "nbformat": 4,
 "nbformat_minor": 2
}
