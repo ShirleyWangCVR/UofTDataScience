{
 "cells": [
  {
   "cell_type": "markdown",
   "metadata": {},
   "source": [
    "# JSC370 - Class 6, Feb. 13, 2020\n",
    "\n",
    "## Github Demo\n",
    "\n",
    "1. Go to the github classroom link.\n",
    "\n",
    "\n",
    "2. Make sure you and your partner both have access to the repository.\n",
    "\n",
    "\n",
    "3. Clone the repository on your computer.\n",
    "\n",
    "\n",
    "4. Create a new branch with `git branch [your-name]`, where `your-name` is your first name or user name on Github.com.  \n",
    "\n",
    "\n",
    "5. Checkout the branch with `git checkout [your-name]`.\n",
    "\n",
    "\n",
    "6. **Person 1:** Add a markdown cell before the first code cell below and add some text that describes the interactive plot in the first code cell. **Person 2:** Add a markdown cell before the second code cell below and add some text that describes the interactive plot in the first code cell.\n",
    "\n",
    "\n",
    "7. Each person commit changes to their branch `git commit -a -m gitdemo.ipynb` or by uploading the file directly to your branch on Github.com, and push the branch to Github: `git push --set-upstream origin [your_name]`. The option `set-upstream origin` is required the first time you push.  \n",
    "\n",
    "\n",
    "8. Go to Github.com and open a pull request.  Give you pull request a title with a brief description.\n",
    "\n",
    "\n",
    "9. Merge your Pull Request. \n",
    "\n",
    "\n",
    "11. Look over the changes in the diffs and makes sure they're what you want to submit.\n",
    "\n",
    "\n",
    "12. To bring the changes in both branches together you can merge the branch [your-name] into the master branch.\n",
    "\n",
    "    - Click the green Merge pull request button to merge the changes into master.\n",
    "    - Click Confirm merge."
   ]
  },
  {
   "cell_type": "markdown",
   "metadata": {},
   "source": [
    "# Person 1 \n",
    "\n",
    "I'm not sure i haven't downloaded ipywidgets."
   ]
  },
  {
   "cell_type": "markdown",
   "metadata": {},
   "source": [
    "new cell by person 1"
   ]
  },
  {
   "cell_type": "code",
   "execution_count": 1,
   "metadata": {},
   "outputs": [
    {
     "data": {
      "application/vnd.jupyter.widget-view+json": {
       "model_id": "176c215d92c24129b5ce494242ce5d72",
       "version_major": 2,
       "version_minor": 0
      },
      "text/plain": [
       "interactive(children=(IntSlider(value=1, description='mean', max=7), IntSlider(value=1, description='sd', max=…"
      ]
     },
     "metadata": {},
     "output_type": "display_data"
    },
    {
     "data": {
      "application/vnd.jupyter.widget-view+json": {
       "model_id": "85cf90d7edd6453dafae9eb92ffed113",
       "version_major": 2,
       "version_minor": 0
      },
      "text/plain": [
       "HTML(value='<b>Drag the slider to explore different normal distributions</b>')"
      ]
     },
     "metadata": {},
     "output_type": "display_data"
    }
   ],
   "source": [
    "from ipywidgets import interact\n",
    "import ipywidgets as widgets\n",
    "from scipy.stats import norm\n",
    "import matplotlib.pyplot as plt\n",
    "import numpy as np\n",
    "\n",
    "def plotnorm(mean,sd):\n",
    "    fig, ax = plt.subplots()\n",
    "    x0 = np.linspace(norm.ppf(0.01, loc = 0, scale = 1),norm.ppf(0.99, loc = 0, scale = 1), 100)\n",
    "    x = np.linspace(norm.ppf(0.01, loc = mean, scale = sd),norm.ppf(0.99, loc = mean, scale = sd), 100)\n",
    "    plt.plot(x0, norm.pdf(x0, loc = 0, scale =1), lw=5, alpha=0.6, label='N(0,1)')\n",
    "    plt.legend()\n",
    "    plt.plot(x, norm.pdf(x, loc = mean, scale =sd), lw=5, alpha=0.6, label=r'N($\\mu, \\sigma^2)$')\n",
    "    plt.legend()\n",
    "    \n",
    "    plt.axvline(x=0, color = 'red')\n",
    "    plt.axvline(x=mean)\n",
    "    #plt.show()\n",
    "\n",
    "\n",
    "interact(plotnorm, mean = widgets.IntSlider(value=1, min=0, max=7, step=1),\n",
    "                   sd = widgets.IntSlider(value=1, min=1, max=5, step=1))\n",
    "\n",
    "widgets.HTML(\n",
    "    value=\"<b>Drag the slider to explore different normal distributions</b>\",\n",
    ")"
   ]
  },
  {
   "cell_type": "code",
   "execution_count": null,
   "metadata": {},
   "outputs": [],
   "source": [
    "tao sun here"
   ]
  },
  {
   "cell_type": "markdown",
   "metadata": {},
   "source": [
    "# Person 2\n",
    "\n",
    "Add text to describe the widget."
   ]
  },
  {
   "cell_type": "code",
   "execution_count": 2,
   "metadata": {},
   "outputs": [
    {
     "data": {
      "application/vnd.jupyter.widget-view+json": {
       "model_id": "548278e8644a41b7903856e007b7f469",
       "version_major": 2,
       "version_minor": 0
      },
      "text/plain": [
       "interactive(children=(IntSlider(value=1, description='mean', max=20), IntSlider(value=1, description='sd', max…"
      ]
     },
     "metadata": {},
     "output_type": "display_data"
    },
    {
     "data": {
      "application/vnd.jupyter.widget-view+json": {
       "model_id": "d6be2b0a43054b3db7e310e461c583cb",
       "version_major": 2,
       "version_minor": 0
      },
      "text/plain": [
       "HTML(value='<b>Drag the slider to explore different t distributions</b>')"
      ]
     },
     "metadata": {},
     "output_type": "display_data"
    }
   ],
   "source": [
    "from ipywidgets import interact\n",
    "import ipywidgets as widgets\n",
    "from scipy.stats import t\n",
    "import matplotlib.pyplot as plt\n",
    "import numpy as np\n",
    "\n",
    "def plott(mean,sd, df):\n",
    "    fig, ax = plt.subplots()\n",
    "    x0 = np.linspace(t.ppf(0.01, df = 1, loc = 0, scale = 1),t.ppf(0.99,df=1, loc = 0, scale = 1), 100)\n",
    "    x = np.linspace(t.ppf(0.01, df = df, loc = mean, scale = sd),t.ppf(0.99, df=df, loc = mean, scale = sd), 100)\n",
    "    plt.plot(x0, t.pdf(x0, df=1, loc = 0, scale =1), lw=5, alpha=0.6, label=r'$t_{1}$')\n",
    "    plt.legend()\n",
    "    plt.plot(x, t.pdf(x, df=df, loc = mean, scale =sd), lw=5, alpha=0.6, label=r'$t_{\\nu}$')\n",
    "    plt.legend()\n",
    "    \n",
    "    plt.axvline(x=0, color = 'red')\n",
    "    plt.axvline(x=mean)\n",
    "    #plt.show()\n",
    "\n",
    "\n",
    "interact(plott, mean = widgets.IntSlider(value=1, min=0, max=20, step=1),\n",
    "                   sd = widgets.IntSlider(value=1, min=1, max=5, step=1),\n",
    "                   df = widgets.IntSlider(value=1, min=1, max=30, step=1))\n",
    "\n",
    "widgets.HTML(\n",
    "    value=\"<b>Drag the slider to explore different t distributions</b>\",\n",
    ")"
   ]
  },
  {
   "cell_type": "markdown",
   "metadata": {},
   "source": [
    "# In-class Exercise\n",
    "\n",
    "(a) Create an interactive scatter plot that shows the effect of mean, variance, and sample size on a fitted simple linear regression line.  Assume that the independent variable has $N(\\mu,\\sigma^2)$ distribution.\n",
    "\n",
    "(b) Briefly explain why your interactive scatter plot is effective at communicating the impact of mean, variance, and sample size on simple linear regression.  "
   ]
  },
  {
   "cell_type": "code",
   "execution_count": null,
   "metadata": {},
   "outputs": [],
   "source": []
  },
  {
   "cell_type": "code",
   "execution_count": null,
   "metadata": {},
   "outputs": [],
   "source": []
  }
 ],
 "metadata": {
  "hide_input": false,
  "kernelspec": {
   "display_name": "Python 3",
   "language": "python",
   "name": "python3"
  },
  "language_info": {
   "codemirror_mode": {
    "name": "ipython",
    "version": 3
   },
   "file_extension": ".py",
   "mimetype": "text/x-python",
   "name": "python",
   "nbconvert_exporter": "python",
   "pygments_lexer": "ipython3",
   "version": "3.7.6"
  },
  "widgets": {
   "application/vnd.jupyter.widget-state+json": {
    "state": {
     "0b147c8079674773ac0dd596e6b88e44": {
      "model_module": "@jupyter-widgets/controls",
      "model_module_version": "1.5.0",
      "model_name": "HTMLModel",
      "state": {
       "layout": "IPY_MODEL_f7d1fa79c43d43dc8b211d21f5afa837",
       "style": "IPY_MODEL_25ba4f45741241f29478c21438522f80",
       "value": "<b>Drag the slider to explore different t distributions</b>"
      }
     },
     "0b7d0c36295e44d3a4259244e92e1580": {
      "model_module": "@jupyter-widgets/controls",
      "model_module_version": "1.5.0",
      "model_name": "SliderStyleModel",
      "state": {
       "description_width": ""
      }
     },
     "0f97790491b44a9087c6df7e57279c1b": {
      "model_module": "@jupyter-widgets/base",
      "model_module_version": "1.2.0",
      "model_name": "LayoutModel",
      "state": {}
     },
     "16a9ade3a4684cf2871b0ae3fbd0cd09": {
      "model_module": "@jupyter-widgets/output",
      "model_module_version": "1.0.0",
      "model_name": "OutputModel",
      "state": {
       "layout": "IPY_MODEL_36f7ff24e91546e8b486b800bd5619f3",
       "outputs": [
        {
         "data": {
          "image/png": "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\n",
          "text/plain": "<Figure size 432x288 with 1 Axes>"
         },
         "metadata": {
          "needs_background": "light"
         },
         "output_type": "display_data"
        }
       ]
      }
     },
     "1782098f14aa4b73af1aa63a1e3662c2": {
      "model_module": "@jupyter-widgets/controls",
      "model_module_version": "1.5.0",
      "model_name": "IntSliderModel",
      "state": {
       "description": "df",
       "layout": "IPY_MODEL_0f97790491b44a9087c6df7e57279c1b",
       "max": 30,
       "min": 1,
       "style": "IPY_MODEL_89b30b0128654657806b6217e670c97a",
       "value": 1
      }
     },
     "195d519f87a543bf9785ca046c93ef07": {
      "model_module": "@jupyter-widgets/controls",
      "model_module_version": "1.5.0",
      "model_name": "SliderStyleModel",
      "state": {
       "description_width": ""
      }
     },
     "19a20f0f366548919eaf786f037f4d63": {
      "model_module": "@jupyter-widgets/controls",
      "model_module_version": "1.5.0",
      "model_name": "VBoxModel",
      "state": {
       "_dom_classes": [
        "widget-interact"
       ],
       "children": [
        "IPY_MODEL_5a9fc210407a4345af8ef97c6ac5d7ae",
        "IPY_MODEL_67e998b05124460f8262c138f04b359e",
        "IPY_MODEL_1782098f14aa4b73af1aa63a1e3662c2",
        "IPY_MODEL_16a9ade3a4684cf2871b0ae3fbd0cd09"
       ],
       "layout": "IPY_MODEL_6ed79c7b378e4600b6d3cc002fb3a2b0"
      }
     },
     "23360ff17e4e4636a2bff850eb65cb99": {
      "model_module": "@jupyter-widgets/base",
      "model_module_version": "1.2.0",
      "model_name": "LayoutModel",
      "state": {}
     },
     "25ba4f45741241f29478c21438522f80": {
      "model_module": "@jupyter-widgets/controls",
      "model_module_version": "1.5.0",
      "model_name": "DescriptionStyleModel",
      "state": {
       "description_width": ""
      }
     },
     "2a35015439ff4f7092dc9371d1caa9ba": {
      "model_module": "@jupyter-widgets/controls",
      "model_module_version": "1.5.0",
      "model_name": "HTMLModel",
      "state": {
       "layout": "IPY_MODEL_8244e100acae45ac8d37a76ea0959f49",
       "style": "IPY_MODEL_4be4131e0f3e45e482ec84cdf1e72249",
       "value": "<b>Drag the slider to explore different t distributions</b>"
      }
     },
     "2f2364c3f6af49428741ae3b92acd38f": {
      "model_module": "@jupyter-widgets/base",
      "model_module_version": "1.2.0",
      "model_name": "LayoutModel",
      "state": {}
     },
     "311960f99e6d40b8b7a02aa09230d395": {
      "model_module": "@jupyter-widgets/controls",
      "model_module_version": "1.5.0",
      "model_name": "IntSliderModel",
      "state": {
       "description": "mean",
       "layout": "IPY_MODEL_909803a0b1b14984b04ca32d848130cb",
       "max": 20,
       "style": "IPY_MODEL_195d519f87a543bf9785ca046c93ef07",
       "value": 1
      }
     },
     "36f7ff24e91546e8b486b800bd5619f3": {
      "model_module": "@jupyter-widgets/base",
      "model_module_version": "1.2.0",
      "model_name": "LayoutModel",
      "state": {}
     },
     "3a5770be67cb4b52939091e30c0ba3ee": {
      "model_module": "@jupyter-widgets/output",
      "model_module_version": "1.0.0",
      "model_name": "OutputModel",
      "state": {
       "layout": "IPY_MODEL_c20dd08806e34368a7dd829baf423156",
       "outputs": [
        {
         "data": {
          "image/png": "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\n",
          "text/plain": "<Figure size 432x288 with 1 Axes>"
         },
         "metadata": {
          "needs_background": "light"
         },
         "output_type": "display_data"
        }
       ]
      }
     },
     "413aab54635647e2955b5e7ecc11d5de": {
      "model_module": "@jupyter-widgets/base",
      "model_module_version": "1.2.0",
      "model_name": "LayoutModel",
      "state": {}
     },
     "42c8e79b6be2448da74ef63c2b6834d7": {
      "model_module": "@jupyter-widgets/controls",
      "model_module_version": "1.5.0",
      "model_name": "SliderStyleModel",
      "state": {
       "description_width": ""
      }
     },
     "449ce3c3beca4e11aa52cbc97fedee3f": {
      "model_module": "@jupyter-widgets/base",
      "model_module_version": "1.2.0",
      "model_name": "LayoutModel",
      "state": {}
     },
     "4b2af50da00f4d5a93145b4844eed9de": {
      "model_module": "@jupyter-widgets/controls",
      "model_module_version": "1.5.0",
      "model_name": "SliderStyleModel",
      "state": {
       "description_width": ""
      }
     },
     "4be4131e0f3e45e482ec84cdf1e72249": {
      "model_module": "@jupyter-widgets/controls",
      "model_module_version": "1.5.0",
      "model_name": "DescriptionStyleModel",
      "state": {
       "description_width": ""
      }
     },
     "4f98d9cb589f4fe4bcab2b38ac53f814": {
      "model_module": "@jupyter-widgets/controls",
      "model_module_version": "1.5.0",
      "model_name": "DescriptionStyleModel",
      "state": {
       "description_width": ""
      }
     },
     "5242f3b6a1b34016bafaa8a3bb810039": {
      "model_module": "@jupyter-widgets/controls",
      "model_module_version": "1.5.0",
      "model_name": "IntSliderModel",
      "state": {
       "description": "df",
       "layout": "IPY_MODEL_23360ff17e4e4636a2bff850eb65cb99",
       "max": 30,
       "min": 1,
       "style": "IPY_MODEL_0b7d0c36295e44d3a4259244e92e1580",
       "value": 1
      }
     },
     "540a7e64482847838e40edadd8a4aedc": {
      "model_module": "@jupyter-widgets/base",
      "model_module_version": "1.2.0",
      "model_name": "LayoutModel",
      "state": {}
     },
     "5562afde5f6f4bc288f70e1cd4e88bac": {
      "model_module": "@jupyter-widgets/output",
      "model_module_version": "1.0.0",
      "model_name": "OutputModel",
      "state": {
       "layout": "IPY_MODEL_b37107caf800472a8657bed6eca4d20b",
       "outputs": [
        {
         "data": {
          "image/png": "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\n",
          "text/plain": "<Figure size 432x288 with 1 Axes>"
         },
         "metadata": {
          "needs_background": "light"
         },
         "output_type": "display_data"
        }
       ]
      }
     },
     "5a9fc210407a4345af8ef97c6ac5d7ae": {
      "model_module": "@jupyter-widgets/controls",
      "model_module_version": "1.5.0",
      "model_name": "IntSliderModel",
      "state": {
       "description": "mean",
       "layout": "IPY_MODEL_540a7e64482847838e40edadd8a4aedc",
       "max": 20,
       "style": "IPY_MODEL_81b301b8b1414a809a12496ef1a0e2f6",
       "value": 1
      }
     },
     "66b9c25f431c415fa7871c196e227734": {
      "model_module": "@jupyter-widgets/base",
      "model_module_version": "1.2.0",
      "model_name": "LayoutModel",
      "state": {}
     },
     "67e998b05124460f8262c138f04b359e": {
      "model_module": "@jupyter-widgets/controls",
      "model_module_version": "1.5.0",
      "model_name": "IntSliderModel",
      "state": {
       "description": "sd",
       "layout": "IPY_MODEL_413aab54635647e2955b5e7ecc11d5de",
       "max": 5,
       "min": 1,
       "style": "IPY_MODEL_42c8e79b6be2448da74ef63c2b6834d7",
       "value": 1
      }
     },
     "6a4b888601684be9ba98e371331f4e4b": {
      "model_module": "@jupyter-widgets/base",
      "model_module_version": "1.2.0",
      "model_name": "LayoutModel",
      "state": {}
     },
     "6b4276d9c950464a9a2a9dc158976cc3": {
      "model_module": "@jupyter-widgets/controls",
      "model_module_version": "1.5.0",
      "model_name": "IntSliderModel",
      "state": {
       "description": "sd",
       "layout": "IPY_MODEL_449ce3c3beca4e11aa52cbc97fedee3f",
       "max": 5,
       "min": 1,
       "style": "IPY_MODEL_acb63e71b29049de80e2a8c24307870d",
       "value": 1
      }
     },
     "6b4bff243ae34dd6a73391d5132234de": {
      "model_module": "@jupyter-widgets/base",
      "model_module_version": "1.2.0",
      "model_name": "LayoutModel",
      "state": {}
     },
     "6e538673c3f24cb1aded16c5ec5c4fd3": {
      "model_module": "@jupyter-widgets/controls",
      "model_module_version": "1.5.0",
      "model_name": "IntSliderModel",
      "state": {
       "description": "mean",
       "layout": "IPY_MODEL_f9f9fda4e6654e67b63b62353ed45243",
       "max": 7,
       "style": "IPY_MODEL_e1040fdc96064c15a74e60fd60f674d3",
       "value": 1
      }
     },
     "6ed79c7b378e4600b6d3cc002fb3a2b0": {
      "model_module": "@jupyter-widgets/base",
      "model_module_version": "1.2.0",
      "model_name": "LayoutModel",
      "state": {}
     },
     "713f982473b94769be8ce237b5d92515": {
      "model_module": "@jupyter-widgets/controls",
      "model_module_version": "1.5.0",
      "model_name": "VBoxModel",
      "state": {
       "_dom_classes": [
        "widget-interact"
       ],
       "children": [
        "IPY_MODEL_8820e965e0124c55bfab90322c959de1",
        "IPY_MODEL_ec2d5a1ffe9a45ed9fdb6e155d9c8792",
        "IPY_MODEL_3a5770be67cb4b52939091e30c0ba3ee"
       ],
       "layout": "IPY_MODEL_cf3e6781536e46eba20e5f61aa814ac9"
      }
     },
     "75301818c47d4509ac484542853af6f3": {
      "model_module": "@jupyter-widgets/controls",
      "model_module_version": "1.5.0",
      "model_name": "SliderStyleModel",
      "state": {
       "description_width": ""
      }
     },
     "75772664f4e647dca012073f85264639": {
      "model_module": "@jupyter-widgets/base",
      "model_module_version": "1.2.0",
      "model_name": "LayoutModel",
      "state": {}
     },
     "7f3d00d6b92b4a58ad7aa3dc6e986ced": {
      "model_module": "@jupyter-widgets/base",
      "model_module_version": "1.2.0",
      "model_name": "LayoutModel",
      "state": {}
     },
     "81b301b8b1414a809a12496ef1a0e2f6": {
      "model_module": "@jupyter-widgets/controls",
      "model_module_version": "1.5.0",
      "model_name": "SliderStyleModel",
      "state": {
       "description_width": ""
      }
     },
     "8244e100acae45ac8d37a76ea0959f49": {
      "model_module": "@jupyter-widgets/base",
      "model_module_version": "1.2.0",
      "model_name": "LayoutModel",
      "state": {}
     },
     "8820e965e0124c55bfab90322c959de1": {
      "model_module": "@jupyter-widgets/controls",
      "model_module_version": "1.5.0",
      "model_name": "IntSliderModel",
      "state": {
       "description": "mean",
       "layout": "IPY_MODEL_f34cd81b954741c481da9d59636b01d5",
       "max": 7,
       "style": "IPY_MODEL_4b2af50da00f4d5a93145b4844eed9de",
       "value": 1
      }
     },
     "8849b80c4cd14d2180dee757bb1ce65e": {
      "model_module": "@jupyter-widgets/controls",
      "model_module_version": "1.5.0",
      "model_name": "VBoxModel",
      "state": {
       "_dom_classes": [
        "widget-interact"
       ],
       "children": [
        "IPY_MODEL_6e538673c3f24cb1aded16c5ec5c4fd3",
        "IPY_MODEL_6b4276d9c950464a9a2a9dc158976cc3",
        "IPY_MODEL_d4c4b0d6416145fcabc9e1864388e1c3"
       ],
       "layout": "IPY_MODEL_75772664f4e647dca012073f85264639"
      }
     },
     "89b30b0128654657806b6217e670c97a": {
      "model_module": "@jupyter-widgets/controls",
      "model_module_version": "1.5.0",
      "model_name": "SliderStyleModel",
      "state": {
       "description_width": ""
      }
     },
     "8b18de1194554e8da4b06b07ce61536e": {
      "model_module": "@jupyter-widgets/controls",
      "model_module_version": "1.5.0",
      "model_name": "HTMLModel",
      "state": {
       "layout": "IPY_MODEL_6a4b888601684be9ba98e371331f4e4b",
       "style": "IPY_MODEL_4f98d9cb589f4fe4bcab2b38ac53f814",
       "value": "<b>Drag the slider to explore different normal distributions</b>"
      }
     },
     "909803a0b1b14984b04ca32d848130cb": {
      "model_module": "@jupyter-widgets/base",
      "model_module_version": "1.2.0",
      "model_name": "LayoutModel",
      "state": {}
     },
     "97317cffda6e42d39ae79a5fd17e2044": {
      "model_module": "@jupyter-widgets/base",
      "model_module_version": "1.2.0",
      "model_name": "LayoutModel",
      "state": {}
     },
     "acb63e71b29049de80e2a8c24307870d": {
      "model_module": "@jupyter-widgets/controls",
      "model_module_version": "1.5.0",
      "model_name": "SliderStyleModel",
      "state": {
       "description_width": ""
      }
     },
     "b37107caf800472a8657bed6eca4d20b": {
      "model_module": "@jupyter-widgets/base",
      "model_module_version": "1.2.0",
      "model_name": "LayoutModel",
      "state": {}
     },
     "c20dd08806e34368a7dd829baf423156": {
      "model_module": "@jupyter-widgets/base",
      "model_module_version": "1.2.0",
      "model_name": "LayoutModel",
      "state": {}
     },
     "c4b36893f66d43899bef3ee8608a4642": {
      "model_module": "@jupyter-widgets/controls",
      "model_module_version": "1.5.0",
      "model_name": "VBoxModel",
      "state": {
       "_dom_classes": [
        "widget-interact"
       ],
       "children": [
        "IPY_MODEL_311960f99e6d40b8b7a02aa09230d395",
        "IPY_MODEL_d6b435336143405ca80a30db77c3f731",
        "IPY_MODEL_5242f3b6a1b34016bafaa8a3bb810039",
        "IPY_MODEL_5562afde5f6f4bc288f70e1cd4e88bac"
       ],
       "layout": "IPY_MODEL_7f3d00d6b92b4a58ad7aa3dc6e986ced"
      }
     },
     "cf3e6781536e46eba20e5f61aa814ac9": {
      "model_module": "@jupyter-widgets/base",
      "model_module_version": "1.2.0",
      "model_name": "LayoutModel",
      "state": {}
     },
     "cf86b7a84c6747d992629a156a681c62": {
      "model_module": "@jupyter-widgets/controls",
      "model_module_version": "1.5.0",
      "model_name": "HTMLModel",
      "state": {
       "layout": "IPY_MODEL_6b4bff243ae34dd6a73391d5132234de",
       "style": "IPY_MODEL_e2dc142596994f15976677b7a78c2c9e",
       "value": "<b>Drag the slider to explore different normal distributions</b>"
      }
     },
     "d4c4b0d6416145fcabc9e1864388e1c3": {
      "model_module": "@jupyter-widgets/output",
      "model_module_version": "1.0.0",
      "model_name": "OutputModel",
      "state": {
       "layout": "IPY_MODEL_2f2364c3f6af49428741ae3b92acd38f",
       "outputs": [
        {
         "data": {
          "image/png": "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\n",
          "text/plain": "<Figure size 432x288 with 1 Axes>"
         },
         "metadata": {
          "needs_background": "light"
         },
         "output_type": "display_data"
        }
       ]
      }
     },
     "d6b435336143405ca80a30db77c3f731": {
      "model_module": "@jupyter-widgets/controls",
      "model_module_version": "1.5.0",
      "model_name": "IntSliderModel",
      "state": {
       "description": "sd",
       "layout": "IPY_MODEL_66b9c25f431c415fa7871c196e227734",
       "max": 5,
       "min": 1,
       "style": "IPY_MODEL_75301818c47d4509ac484542853af6f3",
       "value": 1
      }
     },
     "dc3505a2d20240de885235aef4ee4fa9": {
      "model_module": "@jupyter-widgets/controls",
      "model_module_version": "1.5.0",
      "model_name": "SliderStyleModel",
      "state": {
       "description_width": ""
      }
     },
     "e1040fdc96064c15a74e60fd60f674d3": {
      "model_module": "@jupyter-widgets/controls",
      "model_module_version": "1.5.0",
      "model_name": "SliderStyleModel",
      "state": {
       "description_width": ""
      }
     },
     "e2dc142596994f15976677b7a78c2c9e": {
      "model_module": "@jupyter-widgets/controls",
      "model_module_version": "1.5.0",
      "model_name": "DescriptionStyleModel",
      "state": {
       "description_width": ""
      }
     },
     "ec2d5a1ffe9a45ed9fdb6e155d9c8792": {
      "model_module": "@jupyter-widgets/controls",
      "model_module_version": "1.5.0",
      "model_name": "IntSliderModel",
      "state": {
       "description": "sd",
       "layout": "IPY_MODEL_97317cffda6e42d39ae79a5fd17e2044",
       "max": 5,
       "min": 1,
       "style": "IPY_MODEL_dc3505a2d20240de885235aef4ee4fa9",
       "value": 1
      }
     },
     "f34cd81b954741c481da9d59636b01d5": {
      "model_module": "@jupyter-widgets/base",
      "model_module_version": "1.2.0",
      "model_name": "LayoutModel",
      "state": {}
     },
     "f7d1fa79c43d43dc8b211d21f5afa837": {
      "model_module": "@jupyter-widgets/base",
      "model_module_version": "1.2.0",
      "model_name": "LayoutModel",
      "state": {}
     },
     "f9f9fda4e6654e67b63b62353ed45243": {
      "model_module": "@jupyter-widgets/base",
      "model_module_version": "1.2.0",
      "model_name": "LayoutModel",
      "state": {}
     }
    },
    "version_major": 2,
    "version_minor": 0
   }
  }
 },
 "nbformat": 4,
 "nbformat_minor": 2
}
