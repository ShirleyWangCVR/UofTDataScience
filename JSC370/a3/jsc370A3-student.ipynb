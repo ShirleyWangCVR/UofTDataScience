{
 "cells": [
  {
   "cell_type": "markdown",
   "metadata": {
    "slideshow": {
     "slide_type": "-"
    }
   },
   "source": [
    "# JSC370 - Assignment #3\n",
    "\n",
    "\n",
    "## Due dates\n",
    "\n",
    "**Presentation using RISE and voila:** March 3 in Tutorial, 18:00 - 20:00.\n",
    "\n",
    "**User documentation, Jupyter Notebook, other files:** March 9, 23:59.\n",
    "\n",
    "\n",
    "## Instructions\n",
    "\n",
    "In this assignment you will be working in pairs.  The group assignments are below:"
   ]
  },
  {
   "cell_type": "code",
   "execution_count": 1,
   "metadata": {
    "slideshow": {
     "slide_type": "-"
    }
   },
   "outputs": [
    {
     "name": "stdout",
     "output_type": "stream",
     "text": [
      "Group 1 is: SY and MX\n",
      "Group 2 is: TS and SW\n",
      "Group 3 is: JH and DG\n",
      "Group 4 is: LH and HL\n"
     ]
    }
   ],
   "source": [
    "import numpy as np\n",
    "\n",
    "# set random seed to course number \n",
    "np.random.seed(88211) \n",
    "\n",
    "# student initals\n",
    "students = np.array(['DG', 'JH', 'LH', 'HL','TS','SW','MX', 'SY'])\n",
    "\n",
    "# select 4 groups of size without replacement\n",
    "groups = np.random.choice(students, size=(4,2), replace=False)\n",
    "\n",
    "# print out groups for students\n",
    "for i in range(len(groups)):\n",
    "    print('Group', i+1, 'is:', groups[i,0],'and',groups[i,1])"
   ]
  },
  {
   "cell_type": "markdown",
   "metadata": {},
   "source": [
    "## Background\n",
    "\n",
    "The UofT library would like to know about patterns of use among the UofT community for electronic journals.   \n",
    "\n",
    "\n",
    "## Project Objective\n",
    "\n",
    "Build an interactive web page using a Jupyter notebook with a Python kernel, [ipywidgets](https://ipywidgets.readthedocs.io/en/latest/index.html), and [voila](https://voila.readthedocs.io/en/stable/) to serve the notebook as a web page. The web page should display and explain the data (e.g., the number of downloads, number of UofT authors, time, and journal topic) allowing the user to answer the [questions](#Questions).  These types of web pages are often called dashboards.\n",
    "\n",
    "\n",
    "\n",
    "## Assignment Questions\n",
    "\n",
    "- Which journals are downloaded most frequently?\n",
    "\n",
    "- How many authors from UofT publish in the journals that are downloaded?\n",
    "\n",
    "- How do the download patterns change over time?\n",
    "\n",
    "- Can you predict future downloads?\n",
    "\n",
    "- Is it possible to use Web of Science data or another data source such as Crossref (see assignment #1) to gather information on the topic of the journal (e.g., Social Science, Life Science)?\n",
    "\n",
    "-  Which journals/publishers do UofT faculty publish with that are not in our journals collection (represented by the usage reports provided)?\n",
    "\n",
    "- Any other interesting questions that your group think could be answered using this data.\n",
    "\n",
    "\n",
    "## Data\n",
    "\n",
    "The data is confidential and you will be asked to sign an agreement that you will not share the data with individuals outside of this course.  Data access will be communicated in a separate document.\n",
    "\n",
    "**Web of Science dataset** – you will notice that we did not bring all the names of the authors for each artifact. We only brought in the names of the UofT affiliated authors, as well as their position in the author list. These are the columns on the far right of the sheet.\n",
    "\n",
    "**COUNTER reports** – the naming convention is ‘publisher  report type year covered’ so ‘Wiley JR1 2018’. Where available, reports covering  the usage of the content on the Scholars Portal platform (our backup local load copy) the file name will have the addition of the acronym SP in the file name.\n",
    "\n",
    "2014-2018 usage for most publishers are provided. For some, years are missing because reports were not available, we didn’t have a license to the content for part of the period etc.\n",
    "\n",
    "\n",
    "## Mandatory Project Workflow\n",
    "\n",
    "- Each student clones the assignment repository from Github to their local machine, and **starts a unique branch** to work on their part of the assignment.\n",
    "\n",
    "\n",
    "- Students work on their branches, committing changes and pushing their branch to the shared repository.\n",
    "\n",
    "\n",
    "- When each student finishes their part of the assignment, they start a pull request.\n",
    "\n",
    "\n",
    "- Each group works together to review the proposed changes, discuss improvements or alternatives, and resolve conflicting changes arising from concurrent development.\n",
    "\n",
    "\n",
    "- When the students agree on a resolution, they merge each pull request.  The teaching team can leave feedback on commits or pull requests if they are tagged in the comments. \n",
    "\n",
    "\n",
    "- Both members of the team should contribute equally to building the web page and documentation.  It's not appropriate for one member to work on building the web page and the other to work on the documentation. \n",
    "\n",
    "\n",
    "### Git Tools Useful for working with Jupyter Notebooks\n",
    "\n",
    "\n",
    "[nbdime](https://nbdime.readthedocs.io/en/latest/#) is a very useful Python library for working with .ipynb files with git and Github. \n",
    "\n",
    "\n",
    "## Presentation\n",
    "\n",
    "Your presentation should demonstrate how your interactive Jupyter notebook answers the [questions](#Questions). Your presentation should use [RISE](https://rise.readthedocs.io/en/maint-5.6/) to create slides.  You may also demonstrate parts of your project using voila. \n",
    "\n",
    "\n",
    "## User Documentation\n",
    "\n",
    "You and your partner will create [user documentation](#User-Documentation-for-Interactive-web page) for the web page. The documentation should be done \n",
    "\n",
    "\n",
    "\n",
    "## Issues to consider\n",
    "\n",
    "- What information will the user see on the web page?\n",
    "\n",
    "- How will your group display different data? As a visualization, table, text, or combination? Where will you add interactivity?  How will you know if your choices lead to effective and accurate communication of information?\n",
    "\n",
    "- How will your group predict future downloads?  How will you display this information?\n",
    "\n",
    "\n",
    "# Preparation Lab Expectations\n",
    "\n",
    "- This lab will take place on Feb. 25, 6-8.\n",
    "\n",
    "\n",
    "- Use this time to get familiar with the assignment expectations.\n",
    "\n",
    "\n",
    "- Work with your project partner?  It's OK (and encouraged) to share information.\n",
    "\n",
    "\n",
    "- Develop strategies on how you plan to tackle the points in [Issues to consider](#Issues-to-consider) and other challenges such as which data you will present, how you will present the data, and web page layout.\n",
    "\n",
    "\n",
    "- During the last part of the tutorial give a very short presentation on your group's plan.  \n",
    "\n",
    "\n",
    "- By the end of the tutorial commit you and your partner should decide on how you will split-up the work.  Collaborate on a brief written plan then commit and push to your assignment repository.  \n",
    "\n",
    "\n",
    "\n",
    "# Presentation Expectations\n",
    "\n",
    "The time allotted for each presentation is 7 minutes plus 3 minutes for questions/discussion. Each person should present for approximately half the time (i.e., 3.5 minutes). This time limit will be enforced. If you exceed the time limit then you will be asked to stop the presentation. This means that you should rehearse your presentation timing before you present to the class.\n",
    "\n",
    "\n",
    "## General Presentation Guidelines\n",
    "\n",
    "The goal of the presentation is to effectively communicate how librarians can use your web page to answer the [questions](#Questions) (i.e., the communication is aimed at a non-technical, but educated, audience). This does not mean that you should not include technical details, but you should aim to communicate the findings to an audience without a background in statistics, math, or computer science.\n",
    "\n",
    "You will need to remind us about the project, but only tell us what we really need to know. We are curious about the results, and how you present the results, but they are not the only purpose of this presentation. So, what should you include? Examples, of questions to consider as you prepare your presentation are:\n",
    "\n",
    "- What problem did your group set out to solve?\n",
    "\n",
    "\n",
    "- How did your group define the problem?\n",
    "\n",
    "\n",
    "- How will your results help librarians patterns of use among the UofT community for electronic journals? \n",
    "\n",
    "Your presentation will be graded using the [presentation rubric.](https://jsc370.github.io/assignment_rubrics.html#presentation_rubric)\n",
    "\n",
    "The Jupyter notebook you used for the presentation should be pushed to your Github repository for this assignment by <u>**March 3, 18:00**</u>.\n",
    "\n",
    "\n",
    "# User Documentation for Interactive web page\n",
    "\n",
    "- The user documentation should explain to users what data is being displayed on your web page.   For example, if you use the data to do a calculation or create a plot then explain why the calculation was done, and how it should be interpreted.\n",
    "\n",
    "- The documentation should be broken into sections that correspond to the sections of your web page. \n",
    "\n",
    "- The user documentation should be done using a Jupyter notebook.  Ideally your group would find a way to incorporate the documentation into the design of the web page, although this isn't necessary.\n",
    "\n",
    "\n",
    "## How will my user documentation be evaluated?\n",
    "\n",
    "Your user documentation will be evaluated for clarity and conciseness.\n",
    "\n",
    "**Titles [1-5]:** There should be an appropriate title for each section of the web page.\n",
    "\n",
    "**Introductions [1-5]:** What is the the purpose of each section? \n",
    "\n",
    "**Methods [1-5]:** Statistical calculations and data visualizations should be clearly explained to users in each section of the web page without assuming a background in statistics, math, or computer science.\n",
    "\n",
    "**General Considerations [1-5]:** The documentation should be presented in logical order, with well-organized sections, no grammatical, spelling, or punctuation errors, an appropriate level of technical detail, and be clear and easy to follow.\n",
    "\n",
    "**Workflow[1-5]:** Groups should follow the [project workflow](#Mandatory-Project-Workflow) by creating a branch for each member, pull requests, and merges using git and Github.\n",
    "\n",
    "## How will the web page be evaluated?\n",
    "\n",
    "The web page and user documentation will be considered the \"written report\" for this assignment.  70% of the written report mark will be based on the web page and 30% will be based on the user documentation.\n",
    "\n",
    "The web page be graded by evaluating:\n",
    "\n",
    "- Workflow will be evaluated according to [Mandatory Project Workflow](#Mandatory-Project-Workflow).\n",
    "\n",
    "- Data analysis and programming will be evaluated according to the [data analysis](https://jsc370.github.io/assignment_rubrics.html#data_analysis_rubric) and [programming](https://jsc370.github.io/assignment_rubrics.html#programming_rubric) rubrics."
   ]
  },
  {
   "cell_type": "markdown",
   "metadata": {},
   "source": [
    "# Sample Data"
   ]
  },
  {
   "cell_type": "code",
   "execution_count": 2,
   "metadata": {},
   "outputs": [
    {
     "data": {
      "text/html": [
       "<div>\n",
       "<style scoped>\n",
       "    .dataframe tbody tr th:only-of-type {\n",
       "        vertical-align: middle;\n",
       "    }\n",
       "\n",
       "    .dataframe tbody tr th {\n",
       "        vertical-align: top;\n",
       "    }\n",
       "\n",
       "    .dataframe thead th {\n",
       "        text-align: right;\n",
       "    }\n",
       "</style>\n",
       "<table border=\"1\" class=\"dataframe\">\n",
       "  <thead>\n",
       "    <tr style=\"text-align: right;\">\n",
       "      <th></th>\n",
       "      <th>Unnamed: 0</th>\n",
       "      <th>PubDate</th>\n",
       "      <th>Source Title</th>\n",
       "      <th>UofT authors</th>\n",
       "    </tr>\n",
       "  </thead>\n",
       "  <tbody>\n",
       "    <tr>\n",
       "      <th>0</th>\n",
       "      <td>7209</td>\n",
       "      <td>2017-07-01</td>\n",
       "      <td>CURRENT PSYCHIATRY REPORTS</td>\n",
       "      <td>1.0</td>\n",
       "    </tr>\n",
       "    <tr>\n",
       "      <th>1</th>\n",
       "      <td>11987</td>\n",
       "      <td>2017-01-01</td>\n",
       "      <td>RELIGIOUS EDUCATION</td>\n",
       "      <td>1.0</td>\n",
       "    </tr>\n",
       "    <tr>\n",
       "      <th>2</th>\n",
       "      <td>15940</td>\n",
       "      <td>2017-07-31</td>\n",
       "      <td>CANADIAN MEDICAL ASSOCIATION JOURNAL</td>\n",
       "      <td>4.0</td>\n",
       "    </tr>\n",
       "  </tbody>\n",
       "</table>\n",
       "</div>"
      ],
      "text/plain": [
       "   Unnamed: 0     PubDate                          Source Title  UofT authors\n",
       "0        7209  2017-07-01            CURRENT PSYCHIATRY REPORTS           1.0\n",
       "1       11987  2017-01-01                   RELIGIOUS EDUCATION           1.0\n",
       "2       15940  2017-07-31  CANADIAN MEDICAL ASSOCIATION JOURNAL           4.0"
      ]
     },
     "execution_count": 2,
     "metadata": {},
     "output_type": "execute_result"
    }
   ],
   "source": [
    "import pandas as pd\n",
    "import numpy as np\n",
    "\n",
    "uoft2017 = pd.read_csv('uoft_sample_data.csv')\n",
    "uoft2017.head(n=3)"
   ]
  },
  {
   "cell_type": "markdown",
   "metadata": {},
   "source": [
    "# Using ipywidgets to add interactivity\n",
    "\n",
    "The following code cell creates a dropdown menu that let's the user choose a date to display the journals where UofT authors publish. "
   ]
  },
  {
   "cell_type": "code",
   "execution_count": 3,
   "metadata": {
    "hide_input": false,
    "slideshow": {
     "slide_type": "-"
    }
   },
   "outputs": [
    {
     "data": {
      "application/vnd.jupyter.widget-view+json": {
       "model_id": "4efb3292e69246debbb16e15d69dd6ca",
       "version_major": 2,
       "version_minor": 0
      },
      "text/plain": [
       "Dropdown(options=('2017-01-01', '2017-02-01', '2017-03-01', '2017-03-03', '2017-03-14', '2017-04-01', '2017-05…"
      ]
     },
     "metadata": {},
     "output_type": "display_data"
    },
    {
     "data": {
      "application/vnd.jupyter.widget-view+json": {
       "model_id": "45ef139634cd4d639147920a5af4d3aa",
       "version_major": 2,
       "version_minor": 0
      },
      "text/plain": [
       "Output()"
      ]
     },
     "metadata": {},
     "output_type": "display_data"
    }
   ],
   "source": [
    "import ipywidgets as widgets\n",
    "\n",
    "# dropdown menu of dates\n",
    "dd = widgets.Dropdown(options = uoft2017.PubDate.drop_duplicates().sort_values())\n",
    "\n",
    "# Output widget for dataframe\n",
    "out2 = widgets.Output()\n",
    "\n",
    "# display dropdown and dataframe\n",
    "display(dd, out2)\n",
    "\n",
    "# dd_eventhand is an event handler for displaying a filtered view of the dataframe\n",
    "# The callback registered must have the signature handler(change) where change is a \n",
    "# dictionary holding the information about the change.\n",
    "# see https://ipywidgets.readthedocs.io/en/latest/examples/Widget%20Events.html and \n",
    "# the doc string for observe (i.e., print(widgets.Widget.observe.__doc__))\n",
    "\n",
    "def dd_eventhand(change):\n",
    "    out2.clear_output() # clear current output\n",
    "    with out2:\n",
    "        # display three columns of dataframe filtered by date selected in dropdown\n",
    "        display(uoft2017[uoft2017['PubDate'] == change.new][['PubDate','Source Title','UofT authors']].head())\n",
    "\n",
    "dd.observe(dd_eventhand, names = 'value')"
   ]
  },
  {
   "cell_type": "markdown",
   "metadata": {},
   "source": [
    "Now add a plot to display the distribution of UofT authors."
   ]
  },
  {
   "cell_type": "code",
   "execution_count": 4,
   "metadata": {},
   "outputs": [
    {
     "data": {
      "application/vnd.jupyter.widget-view+json": {
       "model_id": "7369b4ae300a4c21b903f245849e715f",
       "version_major": 2,
       "version_minor": 0
      },
      "text/plain": [
       "Dropdown(options=('2017-01-01', '2017-02-01', '2017-03-01', '2017-03-03', '2017-03-14', '2017-04-01', '2017-05…"
      ]
     },
     "metadata": {},
     "output_type": "display_data"
    },
    {
     "data": {
      "application/vnd.jupyter.widget-view+json": {
       "model_id": "7f7af0c25fac4eb99e794d572409d490",
       "version_major": 2,
       "version_minor": 0
      },
      "text/plain": [
       "Output()"
      ]
     },
     "metadata": {},
     "output_type": "display_data"
    },
    {
     "data": {
      "application/vnd.jupyter.widget-view+json": {
       "model_id": "4de5ef8b10e24fe38feca0c91711abcb",
       "version_major": 2,
       "version_minor": 0
      },
      "text/plain": [
       "Output()"
      ]
     },
     "metadata": {},
     "output_type": "display_data"
    }
   ],
   "source": [
    "import matplotlib.pyplot as plt\n",
    "\n",
    "# dropdown menu of dates\n",
    "dd = widgets.Dropdown(options = uoft2017.PubDate.drop_duplicates().sort_values())\n",
    "\n",
    "# Output widget for dataframe\n",
    "out2 = widgets.Output()\n",
    "out3 = widgets.Output()\n",
    "\n",
    "# display dropdown, dataframe\n",
    "display(dd, out2, out3)\n",
    "\n",
    "# dd_eventhand is an event handler for displaying a filtered view of the dataframe\n",
    "# The callback registered must have the signature handler(change) where change is a \n",
    "# dictionary holding the information about the change.\n",
    "# see https://ipywidgets.readthedocs.io/en/latest/examples/Widget%20Events.html and \n",
    "# the doc string for observe (i.e., print(widgets.Widget.observe.__doc__))\n",
    "\n",
    "def dd_eventhand(change):\n",
    "    out2.clear_output() # clear current output\n",
    "    out3.clear_output() # clear current output\n",
    "\n",
    "    with out2:\n",
    "        # display three columns of dataframe filtered by date selected in dropdown\n",
    "        display(uoft2017[uoft2017['PubDate'] == change.new][['PubDate','Source Title','UofT authors']].head())\n",
    "\n",
    "    with out3:\n",
    "        # display histogram of number of authors\n",
    "        fig1 = plt.subplots()\n",
    "        filter = (uoft2017['UofT authors']<=10)\n",
    "        uoft2017[filter]['UofT authors'].hist(bins=10, color='grey', edgecolor='black')\n",
    "        plt.grid(False)\n",
    "        plt.xlabel('Number of Authors')\n",
    "        plt.ylabel('Count')\n",
    "        plt.show(fig1)\n",
    "\n",
    "dd.observe(dd_eventhand, names = 'value')"
   ]
  },
  {
   "cell_type": "markdown",
   "metadata": {},
   "source": [
    "## Create a Dashboard using Tab Layout \n",
    "\n",
    "Add another dropdown menu for Journal menu and display results from dropdown selection in a [tab layout](https://ipywidgets.readthedocs.io/en/latest/examples/Widget%20List.html#Tabs).  \n",
    "\n"
   ]
  },
  {
   "cell_type": "code",
   "execution_count": 5,
   "metadata": {},
   "outputs": [],
   "source": [
    "import matplotlib.pyplot as plt\n",
    "\n",
    "# dropdown menu of dates\n",
    "dd = widgets.Dropdown(options = uoft2017.PubDate.drop_duplicates().sort_values())\n",
    "\n",
    "# dropdown menu of journal titles\n",
    "dd1 = widgets.Dropdown(options = uoft2017['Source Title'].drop_duplicates().sort_values())\n",
    "\n",
    "\n",
    "# Output widget for dataframe\n",
    "out2 = widgets.Output()\n",
    "out3 = widgets.Output()\n",
    "out4 = widgets.Output()\n",
    "\n",
    "#display dropdown, dataframe\n",
    "#display(dd, out2, out3)\n",
    "#display(dd1, out4)\n",
    "\n",
    "# dd_eventhand is an event handler for displaying a filtered view of the dataframe\n",
    "# The callback registered must have the signature handler(change) where change is a \n",
    "# dictionary holding the information about the change.\n",
    "# see https://ipywidgets.readthedocs.io/en/latest/examples/Widget%20Events.html and \n",
    "# the doc string for observe (i.e., print(widgets.Widget.observe.__doc__))\n",
    "\n",
    "def dd_eventhand(change):\n",
    "    out2.clear_output() # clear current output\n",
    "    out3.clear_output() # clear current output\n",
    "\n",
    "    with out2:\n",
    "        # display three columns of dataframe filtered by date selected in dropdown\n",
    "        display(uoft2017[uoft2017['PubDate'] == change.new][['PubDate','Source Title','UofT authors']].head())\n",
    "\n",
    "    with out3:\n",
    "        # display histogram of number of authors\n",
    "        fig1 = plt.subplots()\n",
    "        uoft2017[(uoft2017['PubDate'] == change.new)]['UofT authors'].hist(bins=10, color='grey', edgecolor='black')\n",
    "        plt.grid(False)\n",
    "        plt.xlabel('Number of Authors')\n",
    "        plt.ylabel('Count')\n",
    "        plt.show(fig1)\n",
    "        \n",
    "def dd_eventhand1(change):  \n",
    "    out4.clear_output() # clear current output\n",
    "    with out4:\n",
    "        # display three columns of dataframe filtered by date selected in dropdown\n",
    "        display(uoft2017[uoft2017['Source Title']==change.new][['PubDate','Source Title','UofT authors']].head())\n",
    "\n",
    "\n",
    "dd.observe(dd_eventhand, names = 'value')\n",
    "dd1.observe(dd_eventhand1, names = 'value')"
   ]
  },
  {
   "cell_type": "code",
   "execution_count": 6,
   "metadata": {},
   "outputs": [
    {
     "data": {
      "application/vnd.jupyter.widget-view+json": {
       "model_id": "adfded0e9c934f6aa05e837713913d99",
       "version_major": 2,
       "version_minor": 0
      },
      "text/plain": [
       "HBox(children=(Dropdown(options=('2017-01-01', '2017-02-01', '2017-03-01', '2017-03-03', '2017-03-14', '2017-0…"
      ]
     },
     "metadata": {},
     "output_type": "display_data"
    },
    {
     "data": {
      "application/vnd.jupyter.widget-view+json": {
       "model_id": "fbc70128e5c24f26bd25e3924407b8ac",
       "version_major": 2,
       "version_minor": 0
      },
      "text/plain": [
       "Tab(children=(Output(), Output(), Output()), _titles={'0': 'Date', '1': 'Plot', '2': 'Journal'})"
      ]
     },
     "metadata": {},
     "output_type": "display_data"
    }
   ],
   "source": [
    "input_widgets = widgets.HBox([dd,dd1])\n",
    "display(input_widgets)\n",
    "\n",
    "tab = widgets.Tab([out2, out3, out4])\n",
    "tab.set_title(0, 'Date')\n",
    "tab.set_title(1, 'Plot')\n",
    "tab.set_title(2, 'Journal')\n",
    "display(tab)"
   ]
  },
  {
   "cell_type": "code",
   "execution_count": null,
   "metadata": {},
   "outputs": [],
   "source": []
  }
 ],
 "metadata": {
  "celltoolbar": "Slideshow",
  "hide_input": false,
  "kernelspec": {
   "display_name": "Python 3",
   "language": "python",
   "name": "python3"
  },
  "language_info": {
   "codemirror_mode": {
    "name": "ipython",
    "version": 3
   },
   "file_extension": ".py",
   "mimetype": "text/x-python",
   "name": "python",
   "nbconvert_exporter": "python",
   "pygments_lexer": "ipython3",
   "version": "3.7.6"
  }
 },
 "nbformat": 4,
 "nbformat_minor": 4
}
