{
 "cells": [
  {
   "cell_type": "markdown",
   "metadata": {},
   "source": [
    "# JSC370 - Assignment #3\n",
    "\n",
    "\n",
    "## Due dates\n",
    "\n",
    "**Presentation using RISE and voila:** March 3 in Tutorial, 18:00 - 20:00.\n",
    "\n",
    "**User documentation, Jupyter Notebook, other files:** March 9, 23:59.\n",
    "\n",
    "\n",
    "## Instructions\n",
    "\n",
    "In this assignment you will be working in pairs.  The group assignments are below:"
   ]
  },
  {
   "cell_type": "code",
   "execution_count": 1,
   "metadata": {},
   "outputs": [
    {
     "name": "stdout",
     "output_type": "stream",
     "text": [
      "Group 1 is: TS and MX\n",
      "Group 2 is: LH and SW\n",
      "Group 3 is: SY and HL\n",
      "Group 4 is: JH and DG\n"
     ]
    }
   ],
   "source": [
    "import numpy as np\n",
    "\n",
    "# set random seed to course number \n",
    "np.random.seed(370) \n",
    "\n",
    "# student initals\n",
    "students = np.array(['DG', 'JH', 'LH', 'HL','TS','SW','MX', 'SY'])\n",
    "\n",
    "# select 4 groups of size without replacement\n",
    "groups = np.random.choice(students, size=(4,2), replace=False)\n",
    "\n",
    "# print out groups\n",
    "for i in range(len(groups)):\n",
    "    print('Group', i+1, 'is:', groups[i,0],'and',groups[i,1])"
   ]
  },
  {
   "cell_type": "markdown",
   "metadata": {},
   "source": [
    "## Background\n",
    "\n",
    "The UofT library would like to know about patterns of use among the UofT community for electronic journals.   \n",
    "\n",
    "\n",
    "## Project Objective\n",
    "\n",
    "Build an interactive web page using a Jupyter notebook with a Python kernel, [ipywidgets](https://ipywidgets.readthedocs.io/en/latest/index.html), and [voila](https://voila.readthedocs.io/en/stable/) to serve the notebook as a web page. The web page should display and explain the data (e.g., the number of downloads, number of UofT authors, time, and journal topic) allowing the user to answer the [questions](#Questions).  These types of web pages are often called dashboards.\n",
    "\n",
    "\n",
    "\n",
    "## Assignment Questions\n",
    "\n",
    "- Which journals are downloaded most frequently?\n",
    "\n",
    "- How many authors from UofT publish in the journals that are downloaded?\n",
    "\n",
    "- How do the download patterns change over time?\n",
    "\n",
    "- Can you predict future downloads?\n",
    "\n",
    "- Is it possible to use Web of Science data or another data source such as Crossref (see assignment #1) to gather information on the topic of the journal (e.g., Social Science, Life Science)?\n",
    "\n",
    "- Any other interesting questions that your group think could be answered using this data.\n",
    "\n",
    "\n",
    "## Data\n",
    "\n",
    "The data is confidential and you will be asked to sign an agreement that you will not share the data with individuals outside of this course.  Data access will be communicated in a separate document.\n",
    "\n",
    "\n",
    "## Mandatory Project Workflow\n",
    "\n",
    "- Each student clones the assignment repository from Github to their local machine, and **starts a unique branch** to work on their part of the assignment.\n",
    "\n",
    "\n",
    "- Students work on their branches, committing changes and pushing their branch to the shared repository.\n",
    "\n",
    "\n",
    "- When each student finishes their part of the assignment, they start a pull request.\n",
    "\n",
    "\n",
    "- Each group works together to review the proposed changes, discuss improvements or alternatives, and resolve conflicting changes arising from concurrent development.\n",
    "\n",
    "\n",
    "- When the students agree on a resolution, they merge each pull request.  The teaching team can leave feedback on commits or pull requests if they are tagged in the comments. \n",
    "\n",
    "\n",
    "- Both members of the team should contribute equally to building the web page and documentation.  It's not appropriate for one member to work on building the web page and the other to work on the documentation. \n",
    "\n",
    "\n",
    "### Git Tools Useful for working with Jupyter Notebooks\n",
    "\n",
    "\n",
    "[nbdime](https://nbdime.readthedocs.io/en/latest/#) is a very useful Python library for working with .ipynb files with git and Github. \n",
    "\n",
    "\n",
    "## Presentation\n",
    "\n",
    "Your presentation should demonstrate how your interactive Jupyter notebook answers the [questions](#Questions). Your presentation should use [RISE](https://rise.readthedocs.io/en/maint-5.6/) to create slides.  You may also demonstrate parts of your project using voila. \n",
    "\n",
    "\n",
    "## User Documentation\n",
    "\n",
    "You and your partner will create [user documentation](#User-Documentation-for-Interactive-web page) for the web page. The documentation should be done \n",
    "\n",
    "\n",
    "\n",
    "## Issues to consider\n",
    "\n",
    "- What information will the user see on the web page?\n",
    "\n",
    "- How will your group display different data? As a visualization, table, text, or combination? Where will you add interactivity?  How will you know if your choices lead to effective and accurate communication of information?\n",
    "\n",
    "- How will your group predict future downloads?  How will you display this information?\n",
    "\n",
    "\n",
    "# Preparation Lab Expectations\n",
    "\n",
    "- This lab will take place on Feb. 25, 6-8.\n",
    "\n",
    "\n",
    "- Use this time to get familiar with the assignment expectations.\n",
    "\n",
    "\n",
    "- Work with your project partner?  It's OK (and encouraged) to share information.\n",
    "\n",
    "\n",
    "- Develop strategies on how you plan to tackle the points in [Issues to consider](#Issues-to-consider) and other challenges such as which data you will present, how you will present the data, and web page layout.\n",
    "\n",
    "\n",
    "- During the last part of the tutorial give a very short presentation on your group's plan.  \n",
    "\n",
    "\n",
    "- By the end of the tutorial commit you and your partner should decide on how you will split-up the work.  Collaborate on a brief written plan then commit and push to your assignment repository.  \n",
    "\n",
    "\n",
    "\n",
    "# Presentation Expectations\n",
    "\n",
    "The time allotted for each presentation is 7 minutes plus 3 minutes for questions/discussion. Each person should present for approximately half the time (i.e., 3.5 minutes). This time limit will be enforced. If you exceed the time limit then you will be asked to stop the presentation. This means that you should rehearse your presentation timing before you present to the class.\n",
    "\n",
    "\n",
    "## General Presentation Guidelines\n",
    "\n",
    "The goal of the presentation is to effectively communicate how librarians can use your web page to answer the [questions](#Questions) (i.e., the communication is aimed at a non-technical, but educated, audience). This does not mean that you should not include technical details, but you should aim to communicate the findings to an audience without a background in statistics, math, or computer science.\n",
    "\n",
    "You will need to remind us about the project, but only tell us what we really need to know. We are curious about the results, and how you present the results, but they are not the only purpose of this presentation. So, what should you include? Examples, of questions to consider as you prepare your presentation are:\n",
    "\n",
    "- What problem did your group set out to solve?\n",
    "\n",
    "\n",
    "- How did your group define the problem?\n",
    "\n",
    "\n",
    "- How will your results help librarians patterns of use among the UofT community for electronic journals? \n",
    "\n",
    "Your presentation will be graded using the [presentation rubric.](https://jsc370.github.io/assignment_rubrics.html#presentation_rubric)\n",
    "\n",
    "The Jupyter notebook you used for the presentation should be pushed to your Github repository for this assignment by <u>**March 3, 18:00**</u>.\n",
    "\n",
    "\n",
    "# User Documentation for Interactive web page\n",
    "\n",
    "- The user documentation should explain to users what data is being displayed on your web page.   For example, if you use the data to do a calculation or create a plot then explain why the calculation was done, and how it should be interpreted.\n",
    "\n",
    "- The documentation should be broken into sections that correspond to the sections of your web page. \n",
    "\n",
    "- The user documentation should be done using a Jupyter notebook.  Ideally your group would find a way to incorporate the documentation into the design of the web page, although this isn't necessary.\n",
    "\n",
    "\n",
    "## How will my user documentation be evaluated?\n",
    "\n",
    "Your user documentation will be evaluated for clarity and conciseness.\n",
    "\n",
    "**Titles [1-5]:** There should be an appropriate title for each section of the web page.\n",
    "\n",
    "**Introductions [1-5]:** What is the the purpose of each section? \n",
    "\n",
    "**Methods [1-5]:** Statistical calculations and data visualizations should be clearly explained to users in each section of the web page without assuming a background in statistics, math, or computer science.\n",
    "\n",
    "**General Considerations [1-5]:** The documentation should be presented in logical order, with well-organized sections, no grammatical, spelling, or punctuation errors, an appropriate level of technical detail, and be clear and easy to follow.\n",
    "\n",
    "**Workflow[1-5]:** Groups should follow the [project workflow](#Mandatory-Project-Workflow) by creating a branch for each member, pull requests, and merges using git and Github.\n",
    "\n",
    "## How will the web page be evaluated?\n",
    "\n",
    "The web page and user documentation will be considered the \"written report\" for this assignment.  70% of the written report mark will be based on the web page and 30% will be based on the user documentation.\n",
    "\n",
    "The web page be graded by evaluating:\n",
    "\n",
    "- Workflow will be evaluated according to [Mandatory Project Workflow](#Mandatory-Project-Workflow).\n",
    "\n",
    "- Data analysis and programming will be evaluated according to the [data analysis](https://jsc370.github.io/assignment_rubrics.html#data_analysis_rubric) and [programming](https://jsc370.github.io/assignment_rubrics.html#programming_rubric) rubrics."
   ]
  },
  {
   "cell_type": "markdown",
   "metadata": {},
   "source": [
    "# Sample Data"
   ]
  },
  {
   "cell_type": "code",
   "execution_count": 455,
   "metadata": {},
   "outputs": [
    {
     "data": {
      "text/html": [
       "<div>\n",
       "<style scoped>\n",
       "    .dataframe tbody tr th:only-of-type {\n",
       "        vertical-align: middle;\n",
       "    }\n",
       "\n",
       "    .dataframe tbody tr th {\n",
       "        vertical-align: top;\n",
       "    }\n",
       "\n",
       "    .dataframe thead th {\n",
       "        text-align: right;\n",
       "    }\n",
       "</style>\n",
       "<table border=\"1\" class=\"dataframe\">\n",
       "  <thead>\n",
       "    <tr style=\"text-align: right;\">\n",
       "      <th></th>\n",
       "      <th>Unnamed: 0</th>\n",
       "      <th>PubDate</th>\n",
       "      <th>Source Title</th>\n",
       "      <th>UofT authors</th>\n",
       "    </tr>\n",
       "  </thead>\n",
       "  <tbody>\n",
       "    <tr>\n",
       "      <td>0</td>\n",
       "      <td>7209</td>\n",
       "      <td>2017-07-01</td>\n",
       "      <td>CURRENT PSYCHIATRY REPORTS</td>\n",
       "      <td>1.0</td>\n",
       "    </tr>\n",
       "    <tr>\n",
       "      <td>1</td>\n",
       "      <td>11987</td>\n",
       "      <td>2017-01-01</td>\n",
       "      <td>RELIGIOUS EDUCATION</td>\n",
       "      <td>1.0</td>\n",
       "    </tr>\n",
       "    <tr>\n",
       "      <td>2</td>\n",
       "      <td>15940</td>\n",
       "      <td>2017-07-31</td>\n",
       "      <td>CANADIAN MEDICAL ASSOCIATION JOURNAL</td>\n",
       "      <td>4.0</td>\n",
       "    </tr>\n",
       "  </tbody>\n",
       "</table>\n",
       "</div>"
      ],
      "text/plain": [
       "   Unnamed: 0     PubDate                          Source Title  UofT authors\n",
       "0        7209  2017-07-01            CURRENT PSYCHIATRY REPORTS           1.0\n",
       "1       11987  2017-01-01                   RELIGIOUS EDUCATION           1.0\n",
       "2       15940  2017-07-31  CANADIAN MEDICAL ASSOCIATION JOURNAL           4.0"
      ]
     },
     "execution_count": 455,
     "metadata": {},
     "output_type": "execute_result"
    }
   ],
   "source": [
    "import pandas as pd\n",
    "import numpy as np\n",
    "\n",
    "uoft2017 = pd.read_csv('uoft_sample_data.csv')\n",
    "uoft2017.head(n=3)"
   ]
  },
  {
   "cell_type": "markdown",
   "metadata": {},
   "source": [
    "# Using ipywidgets to add interactivity\n",
    "\n",
    "The following code cell creates a dropdown menu that let's the user choose a date to display the journals where UofT authors publish. "
   ]
  },
  {
   "cell_type": "code",
   "execution_count": 456,
   "metadata": {
    "hide_input": false,
    "slideshow": {
     "slide_type": "-"
    }
   },
   "outputs": [
    {
     "data": {
      "application/vnd.jupyter.widget-view+json": {
       "model_id": "11957eac701a46878892ffbea331e4ae",
       "version_major": 2,
       "version_minor": 0
      },
      "text/plain": [
       "Dropdown(options=('2017-01-01', '2017-02-01', '2017-03-01', '2017-03-03', '2017-03-14', '2017-04-01', '2017-05…"
      ]
     },
     "metadata": {},
     "output_type": "display_data"
    },
    {
     "data": {
      "application/vnd.jupyter.widget-view+json": {
       "model_id": "e6cfda1a5c4546d9a12ea3a8ee428b6c",
       "version_major": 2,
       "version_minor": 0
      },
      "text/plain": [
       "Output()"
      ]
     },
     "metadata": {},
     "output_type": "display_data"
    }
   ],
   "source": [
    "import ipywidgets as widgets\n",
    "\n",
    "# dropdown menu of dates\n",
    "dd = widgets.Dropdown(options = uoft2017.PubDate.drop_duplicates().sort_values())\n",
    "\n",
    "# Output widget for dataframe\n",
    "out2 = widgets.Output()\n",
    "\n",
    "# display dropdown and dataframe\n",
    "display(dd, out2)\n",
    "\n",
    "# dd_eventhand is an event handler for displaying a filtered view of the dataframe\n",
    "# The callback registered must have the signature handler(change) where change is a \n",
    "# dictionary holding the information about the change.\n",
    "# see https://ipywidgets.readthedocs.io/en/latest/examples/Widget%20Events.html and \n",
    "# the doc string for observe (i.e., print(widgets.Widget.observe.__doc__))\n",
    "\n",
    "def dd_eventhand(change):\n",
    "    out2.clear_output() # clear current output\n",
    "    with out2:\n",
    "        # display three columns of dataframe filtered by date selected in dropdown\n",
    "        display(uoft2017[uoft2017['PubDate'] == change.new][['PubDate','Source Title','UofT authors']].head())\n",
    "\n",
    "dd.observe(dd_eventhand, names = 'value')"
   ]
  },
  {
   "cell_type": "markdown",
   "metadata": {},
   "source": [
    "Now add a plot to display the distribution of UofT authors."
   ]
  },
  {
   "cell_type": "code",
   "execution_count": 459,
   "metadata": {},
   "outputs": [
    {
     "data": {
      "application/vnd.jupyter.widget-view+json": {
       "model_id": "326ba8fb05394b8c996d1efb905dee25",
       "version_major": 2,
       "version_minor": 0
      },
      "text/plain": [
       "Dropdown(options=('2017-01-01', '2017-02-01', '2017-03-01', '2017-03-03', '2017-03-14', '2017-04-01', '2017-05…"
      ]
     },
     "metadata": {},
     "output_type": "display_data"
    },
    {
     "data": {
      "application/vnd.jupyter.widget-view+json": {
       "model_id": "fa796e3ca9514573a0a3f1f459fb99f4",
       "version_major": 2,
       "version_minor": 0
      },
      "text/plain": [
       "Output()"
      ]
     },
     "metadata": {},
     "output_type": "display_data"
    },
    {
     "data": {
      "application/vnd.jupyter.widget-view+json": {
       "model_id": "96157f31b9374b7d8981537dbaae6f97",
       "version_major": 2,
       "version_minor": 0
      },
      "text/plain": [
       "Output()"
      ]
     },
     "metadata": {},
     "output_type": "display_data"
    }
   ],
   "source": [
    "import matplotlib.pyplot as plt\n",
    "\n",
    "# dropdown menu of dates\n",
    "dd = widgets.Dropdown(options = uoft2017.PubDate.drop_duplicates().sort_values())\n",
    "\n",
    "# Output widget for dataframe\n",
    "out2 = widgets.Output()\n",
    "out3 = widgets.Output()\n",
    "\n",
    "# display dropdown, dataframe\n",
    "display(dd, out2, out3)\n",
    "\n",
    "# dd_eventhand is an event handler for displaying a filtered view of the dataframe\n",
    "# The callback registered must have the signature handler(change) where change is a \n",
    "# dictionary holding the information about the change.\n",
    "# see https://ipywidgets.readthedocs.io/en/latest/examples/Widget%20Events.html and \n",
    "# the doc string for observe (i.e., print(widgets.Widget.observe.__doc__))\n",
    "\n",
    "def dd_eventhand(change):\n",
    "    out2.clear_output() # clear current output\n",
    "    out3.clear_output() # clear current output\n",
    "\n",
    "    with out2:\n",
    "        # display three columns of dataframe filtered by date selected in dropdown\n",
    "        display(uoft2017[uoft2017['PubDate'] == change.new][['PubDate','Source Title','UofT authors']].head())\n",
    "\n",
    "    with out3:\n",
    "        # display histogram of number of authors\n",
    "        fig1 = plt.subplots()\n",
    "        filter = (uoft2017['UofT authors']<=10)\n",
    "        uoft2017[filter]['UofT authors'].hist(bins=10, color='grey', edgecolor='black')\n",
    "        plt.grid(False)\n",
    "        plt.xlabel('Number of Authors')\n",
    "        plt.ylabel('Count')\n",
    "        plt.show(fig1)\n",
    "\n",
    "dd.observe(dd_eventhand, names = 'value')"
   ]
  },
  {
   "cell_type": "markdown",
   "metadata": {},
   "source": [
    "## Create a Dashboard using Tab Layout \n",
    "\n",
    "Add another dropdown menu for Journal menu and display results from dropdown selection in a [tab layout](https://ipywidgets.readthedocs.io/en/latest/examples/Widget%20List.html#Tabs).  \n",
    "\n"
   ]
  },
  {
   "cell_type": "code",
   "execution_count": 460,
   "metadata": {},
   "outputs": [],
   "source": [
    "import matplotlib.pyplot as plt\n",
    "\n",
    "# dropdown menu of dates\n",
    "dd = widgets.Dropdown(options = uoft2017.PubDate.drop_duplicates().sort_values())\n",
    "\n",
    "# dropdown menu of journal titles\n",
    "dd1 = widgets.Dropdown(options = uoft2017['Source Title'].drop_duplicates().sort_values())\n",
    "\n",
    "\n",
    "# Output widget for dataframe\n",
    "out2 = widgets.Output()\n",
    "out3 = widgets.Output()\n",
    "out4 = widgets.Output()\n",
    "\n",
    "#display dropdown, dataframe\n",
    "#display(dd, out2, out3)\n",
    "#display(dd1, out4)\n",
    "\n",
    "# dd_eventhand is an event handler for displaying a filtered view of the dataframe\n",
    "# The callback registered must have the signature handler(change) where change is a \n",
    "# dictionary holding the information about the change.\n",
    "# see https://ipywidgets.readthedocs.io/en/latest/examples/Widget%20Events.html and \n",
    "# the doc string for observe (i.e., print(widgets.Widget.observe.__doc__))\n",
    "\n",
    "def dd_eventhand(change):\n",
    "    out2.clear_output() # clear current output\n",
    "    out3.clear_output() # clear current output\n",
    "\n",
    "    with out2:\n",
    "        # display three columns of dataframe filtered by date selected in dropdown\n",
    "        display(uoft2017[uoft2017['PubDate'] == change.new][['PubDate','Source Title','UofT authors']].head())\n",
    "\n",
    "    with out3:\n",
    "        # display histogram of number of authors\n",
    "        fig1 = plt.subplots()\n",
    "        uoft2017[(uoft2017['PubDate'] == change.new)]['UofT authors'].hist(bins=10, color='grey', edgecolor='black')\n",
    "        plt.grid(False)\n",
    "        plt.xlabel('Number of Authors')\n",
    "        plt.ylabel('Count')\n",
    "        plt.show(fig1)\n",
    "        \n",
    "def dd_eventhand1(change):  \n",
    "    out4.clear_output() # clear current output\n",
    "    with out4:\n",
    "        # display three columns of dataframe filtered by date selected in dropdown\n",
    "        display(uoft2017[uoft2017['Source Title']==change.new][['PubDate','Source Title','UofT authors']].head())\n",
    "\n",
    "\n",
    "dd.observe(dd_eventhand, names = 'value')\n",
    "dd1.observe(dd_eventhand1, names = 'value')"
   ]
  },
  {
   "cell_type": "code",
   "execution_count": 461,
   "metadata": {},
   "outputs": [
    {
     "data": {
      "application/vnd.jupyter.widget-view+json": {
       "model_id": "950d9b93901a432cb698a1c6eb8cb321",
       "version_major": 2,
       "version_minor": 0
      },
      "text/plain": [
       "HBox(children=(Dropdown(options=('2017-01-01', '2017-02-01', '2017-03-01', '2017-03-03', '2017-03-14', '2017-0…"
      ]
     },
     "metadata": {},
     "output_type": "display_data"
    },
    {
     "data": {
      "application/vnd.jupyter.widget-view+json": {
       "model_id": "4ba8749ab79c48a8af3ef2d60396bd9b",
       "version_major": 2,
       "version_minor": 0
      },
      "text/plain": [
       "Tab(children=(Output(), Output(), Output()), _titles={'0': 'Date', '1': 'Plot', '2': 'Journal'})"
      ]
     },
     "metadata": {},
     "output_type": "display_data"
    }
   ],
   "source": [
    "input_widgets = widgets.HBox([dd,dd1])\n",
    "display(input_widgets)\n",
    "\n",
    "tab = widgets.Tab([out2, out3, out4])\n",
    "tab.set_title(0, 'Date')\n",
    "tab.set_title(1, 'Plot')\n",
    "tab.set_title(2, 'Journal')\n",
    "display(tab)"
   ]
  },
  {
   "cell_type": "code",
   "execution_count": 1,
   "metadata": {},
   "outputs": [],
   "source": [
    "import statsmodels.api as sm\n",
    "from statsmodels.tsa import arima_model\n",
    "import glob\n",
    "import pandas as pd\n",
    "import datetime\n",
    "import calendar\n",
    "import numpy as np\n",
    "from statsmodels.tsa.holtwinters import ExponentialSmoothing\n",
    "import warnings\n",
    "warnings.filterwarnings(\"ignore\")\n",
    "import plotly.graph_objects as go\n",
    "import keras\n",
    "from keras.models import Sequential\n",
    "from keras.layers import Dense\n",
    "from keras.layers import LSTM\n",
    "from sklearn.preprocessing import MinMaxScaler\n",
    "from sklearn.metrics import mean_squared_error"
   ]
  },
  {
   "cell_type": "code",
   "execution_count": 427,
   "metadata": {},
   "outputs": [],
   "source": [
    "df = pd.read_csv(\"JSC370 Data KM.csv\").drop(\"Unnamed: 0\", axis = 1)\n",
    "df_list = []\n",
    "col_list = ['FilePublisher','Journal', 'Publisher','Jan', 'Feb', 'Mar', 'Apr', 'May', 'Jun', 'Jul',\n",
    "            'Aug', 'Sep', 'Oct', 'Nov', 'Dec']\n",
    "time_list = []\n",
    "for year in df.Year.unique():\n",
    "    df_year = df[df[\"Year\"] == year]\n",
    "    col_list_year = col_list.copy()\n",
    "    df_list.append(df_year[col_list])\n",
    "    for j in range(3,len(col_list_year)):\n",
    "        col_list_year[j] = col_list_year[j]  + \"-\" + str(year)\n",
    "        time_list.append(col_list_year[j])\n",
    "    df_list[-1].columns = col_list_year\n",
    "for j in range(3,len(col_list)):\n",
    "    time_list.append(col_list[j] + \"-2019\")\n",
    "    \n",
    "df_time_series = df_list[0]\n",
    "for ind in range(1,len(df_list)):\n",
    "    df_time_series = pd.merge(df_time_series, df_list[ind], on = ['FilePublisher','Journal', 'Publisher'])\n",
    "\n",
    "df_time_series.iloc[:,3:] = df_time_series.iloc[:,3:].astype(\"float64\")\n",
    "df_time_series_fill_0 = df_time_series.fillna(0)\n",
    "df_time_series_dropna = df_time_series.dropna().drop_duplicates()\n",
    "df_time_series_dropna = df_time_series_dropna.groupby(\"Journal\").sum()"
   ]
  },
  {
   "cell_type": "code",
   "execution_count": 430,
   "metadata": {},
   "outputs": [],
   "source": [
    "def get_fit_and_estimate(time_series):\n",
    "    fit = ExponentialSmoothing(np.asarray(time_series), seasonal_periods=9, trend='add', seasonal='add').fit()\n",
    "    return np.concatenate([fit.fittedvalues,fit.forecast(12)],axis=None)\n",
    "def get_time_series_data(df, filename):\n",
    "    time_series_matrix = df.values\n",
    "    fitter_value = np.apply_along_axis(get_fit_and_estimate,1,time_series_matrix)\n",
    "    np.savetxt(filename, fitter_value, delimiter=\",\")\n",
    "#get_time_series_data(df_time_series_dropna,\"time series.csv\")\n",
    "#df_time_series_data = pd.read_csv(\"time series.csv\",header = None)\n",
    "#df_time_series_data.columns = fit_list"
   ]
  },
  {
   "cell_type": "code",
   "execution_count": 435,
   "metadata": {},
   "outputs": [],
   "source": [
    "RNN_matrix = df_time_series_dropna.values\n",
    "\n",
    "def get_RNN_data(series, look_back = 1):\n",
    "    X_matrix = series[:-look_back]\n",
    "    for i in range(1,look_back):\n",
    "        X_matrix = np.concatenate((X_matrix, series[i:-(look_back - i)]), axis = 1)\n",
    "    train_Y_matrix = series[look_back:]\n",
    "    return X_matrix.reshape(len(series) - look_back,1, look_back), train_Y_matrix\n",
    "\n",
    "def rnn_prediction(row, look_back = 1):  \n",
    "    scaler= MinMaxScaler(feature_range=(0, 1))\n",
    "    scaled_data = scaler.fit_transform(row.reshape(-1, 1))\n",
    "    train_X_matrix,train_Y_matrix = get_RNN_data(scaled_data,look_back)\n",
    "    model = Sequential()\n",
    "    model.add(LSTM(4, input_shape=(1, look_back)))\n",
    "    model.add(Dense(1))\n",
    "    model.compile(loss='mean_squared_error', optimizer='adam')\n",
    "    model.fit(train_X_matrix, train_Y_matrix, epochs=80, verbose = 0)\n",
    "    fitted_value = model.predict(train_X_matrix)\n",
    "    predict = []\n",
    "    last_four_value = train_X_matrix[-1]\n",
    "    for i in range(12):\n",
    "        new_value = model.predict(last_four_value.reshape(1,1,look_back))\n",
    "        last_four_value = np.delete(last_four_value,0,1)\n",
    "        last_four_value = np.concatenate((last_four_value,new_value), axis = 1)\n",
    "        predict.append(new_value[0][0])\n",
    "    return fitted_value , np.asarray(predict), scaler\n",
    "\n",
    "#def get_rnn_analysis(matrix, filename):\n",
    "    #analysis_value = np.apply_along_axis(rnn_prediction,1,matrix,4)\n",
    "    #np.savetxt(filename, analysis_value, delimiter=\",\")\n",
    "    \n",
    "#get_rnn_analysis(RNN_matrix, \"rnn.csv\")"
   ]
  },
  {
   "cell_type": "code",
   "execution_count": 436,
   "metadata": {},
   "outputs": [],
   "source": [
    "def do_plot(ind, time_series = True, look_back = 4, amplify = 1):\n",
    "    fig = go.Figure()\n",
    "    fig.add_trace(go.Scatter(x = pd.to_datetime(time_list[:60], format = '%b-%Y'), y = df_time_series_dropna.iloc[ind,:], name=\"Observed value\",\n",
    "                             line_color='deepskyblue'))\n",
    "    if time_series:\n",
    "        time_series_data = get_fit_and_estimate(df_time_series_dropna.iloc[ind,:])\n",
    "        fig.add_trace(go.Scatter(x = pd.to_datetime(time_list[:60], format = '%b-%Y'), y = time_series_data[:60],\n",
    "                                 name= \"Fitted value\",line_color='dimgray'))\n",
    "        fig.add_trace(go.Scatter(x = pd.to_datetime(time_list[60:], format = '%b-%Y'), y = time_series_data[60:], \n",
    "                                 name=\"Predicted value\",line_color='red'))\n",
    "        fig.update_layout(title_text='Time Series Prediction',\n",
    "                          xaxis_rangeslider_visible=True)\n",
    "    else:\n",
    "        fitted_value, predicted_value, scaler = rnn_prediction(RNN_matrix[ind], look_back)\n",
    "        if amplify != 1:\n",
    "            fitted_mean = fitted_value.mean()\n",
    "            fitted_value = (fitted_value - fitted_mean) * amplify\n",
    "            predicted_mean = predicted_value.mean()\n",
    "            predicted_value = (predicted_value - predicted_mean) * amplify\n",
    "        fig.add_trace(go.Scatter(x = pd.to_datetime(time_list[look_back:60], format = '%b-%Y'), y = scaler.inverse_transform(fitted_value).reshape(60 - look_back),\n",
    "                                 name= \"Fitted value\",line_color='dimgray'))\n",
    "        fig.add_trace(go.Scatter(x = pd.to_datetime(time_list[60:], format = '%b-%Y'), y = scaler.inverse_transform(predicted_value.reshape(-1,1)).reshape(12), \n",
    "                                 name=\"Predicted value\",line_color='red'))\n",
    "        fig.update_layout(title_text='RNN Prediction',\n",
    "                          xaxis_rangeslider_visible=True)\n",
    "    fig.show()\n",
    "\n",
    "def do_RNN_plot(amplify):\n",
    "    di_plot()\n",
    "#do_plot(0)"
   ]
  },
  {
   "cell_type": "code",
   "execution_count": 441,
   "metadata": {},
   "outputs": [
    {
     "data": {
      "application/vnd.plotly.v1+json": {
       "config": {
        "plotlyServerURL": "https://plot.ly"
       },
       "data": [
        {
         "line": {
          "color": "deepskyblue"
         },
         "name": "Observed value",
         "type": "scatter",
         "x": [
          "2014-01-01T00:00:00",
          "2014-02-01T00:00:00",
          "2014-03-01T00:00:00",
          "2014-04-01T00:00:00",
          "2014-05-01T00:00:00",
          "2014-06-01T00:00:00",
          "2014-07-01T00:00:00",
          "2014-08-01T00:00:00",
          "2014-09-01T00:00:00",
          "2014-10-01T00:00:00",
          "2014-11-01T00:00:00",
          "2014-12-01T00:00:00",
          "2015-01-01T00:00:00",
          "2015-02-01T00:00:00",
          "2015-03-01T00:00:00",
          "2015-04-01T00:00:00",
          "2015-05-01T00:00:00",
          "2015-06-01T00:00:00",
          "2015-07-01T00:00:00",
          "2015-08-01T00:00:00",
          "2015-09-01T00:00:00",
          "2015-10-01T00:00:00",
          "2015-11-01T00:00:00",
          "2015-12-01T00:00:00",
          "2016-01-01T00:00:00",
          "2016-02-01T00:00:00",
          "2016-03-01T00:00:00",
          "2016-04-01T00:00:00",
          "2016-05-01T00:00:00",
          "2016-06-01T00:00:00",
          "2016-07-01T00:00:00",
          "2016-08-01T00:00:00",
          "2016-09-01T00:00:00",
          "2016-10-01T00:00:00",
          "2016-11-01T00:00:00",
          "2016-12-01T00:00:00",
          "2017-01-01T00:00:00",
          "2017-02-01T00:00:00",
          "2017-03-01T00:00:00",
          "2017-04-01T00:00:00",
          "2017-05-01T00:00:00",
          "2017-06-01T00:00:00",
          "2017-07-01T00:00:00",
          "2017-08-01T00:00:00",
          "2017-09-01T00:00:00",
          "2017-10-01T00:00:00",
          "2017-11-01T00:00:00",
          "2017-12-01T00:00:00",
          "2018-01-01T00:00:00",
          "2018-02-01T00:00:00",
          "2018-03-01T00:00:00",
          "2018-04-01T00:00:00",
          "2018-05-01T00:00:00",
          "2018-06-01T00:00:00",
          "2018-07-01T00:00:00",
          "2018-08-01T00:00:00",
          "2018-09-01T00:00:00",
          "2018-10-01T00:00:00",
          "2018-11-01T00:00:00",
          "2018-12-01T00:00:00"
         ],
         "y": [
          0,
          1,
          0,
          0,
          0,
          0,
          0,
          0,
          0,
          0,
          0,
          0,
          0,
          2,
          0,
          0,
          0,
          0,
          0,
          0,
          0,
          0,
          0,
          0,
          0,
          0,
          1,
          0,
          0,
          0,
          0,
          0,
          1,
          4,
          0,
          0,
          0,
          0,
          1,
          0,
          0,
          0,
          0,
          0,
          0,
          1,
          0,
          1,
          1,
          4,
          2,
          0,
          0,
          0,
          2,
          0,
          0,
          2,
          1,
          0
         ]
        },
        {
         "line": {
          "color": "dimgray"
         },
         "name": "Fitted value",
         "type": "scatter",
         "x": [
          "2014-01-01T00:00:00",
          "2014-02-01T00:00:00",
          "2014-03-01T00:00:00",
          "2014-04-01T00:00:00",
          "2014-05-01T00:00:00",
          "2014-06-01T00:00:00",
          "2014-07-01T00:00:00",
          "2014-08-01T00:00:00",
          "2014-09-01T00:00:00",
          "2014-10-01T00:00:00",
          "2014-11-01T00:00:00",
          "2014-12-01T00:00:00",
          "2015-01-01T00:00:00",
          "2015-02-01T00:00:00",
          "2015-03-01T00:00:00",
          "2015-04-01T00:00:00",
          "2015-05-01T00:00:00",
          "2015-06-01T00:00:00",
          "2015-07-01T00:00:00",
          "2015-08-01T00:00:00",
          "2015-09-01T00:00:00",
          "2015-10-01T00:00:00",
          "2015-11-01T00:00:00",
          "2015-12-01T00:00:00",
          "2016-01-01T00:00:00",
          "2016-02-01T00:00:00",
          "2016-03-01T00:00:00",
          "2016-04-01T00:00:00",
          "2016-05-01T00:00:00",
          "2016-06-01T00:00:00",
          "2016-07-01T00:00:00",
          "2016-08-01T00:00:00",
          "2016-09-01T00:00:00",
          "2016-10-01T00:00:00",
          "2016-11-01T00:00:00",
          "2016-12-01T00:00:00",
          "2017-01-01T00:00:00",
          "2017-02-01T00:00:00",
          "2017-03-01T00:00:00",
          "2017-04-01T00:00:00",
          "2017-05-01T00:00:00",
          "2017-06-01T00:00:00",
          "2017-07-01T00:00:00",
          "2017-08-01T00:00:00",
          "2017-09-01T00:00:00",
          "2017-10-01T00:00:00",
          "2017-11-01T00:00:00",
          "2017-12-01T00:00:00",
          "2018-01-01T00:00:00",
          "2018-02-01T00:00:00",
          "2018-03-01T00:00:00",
          "2018-04-01T00:00:00",
          "2018-05-01T00:00:00",
          "2018-06-01T00:00:00",
          "2018-07-01T00:00:00",
          "2018-08-01T00:00:00",
          "2018-09-01T00:00:00",
          "2018-10-01T00:00:00",
          "2018-11-01T00:00:00",
          "2018-12-01T00:00:00"
         ],
         "y": [
          0.012345679012345678,
          1.0240073868882733,
          0.03498881820871369,
          0.045295357525561075,
          0.0549339755001767,
          0.06391312611463207,
          0.07224264518396478,
          0.07993365038210282,
          0.08699844297872633,
          0.09150109373042392,
          1.095621292672601,
          0.04396551014965028,
          0.04764480574855878,
          0.05110393540391994,
          0.16514689398081395,
          0.1675695364666558,
          0.16950130789144618,
          0.17096075010106726,
          0.17032503505133445,
          1.0115246099152084,
          0.13035213540192536,
          0.12867078075459593,
          0.4426511876940643,
          0.089944703972751,
          0.08906887261153246,
          0.08817073339543757,
          0.0872490783767425,
          0.14032195164674183,
          0.8469335175457334,
          0.11066602597116953,
          0.1074505894460378,
          0.37019510657568,
          0.07441641934694931,
          0.12736465308424505,
          0.34633024248573224,
          0.500357551674436,
          0.3193632481388319,
          0.9110669989578759,
          0.29358482604602265,
          0.3420527497556678,
          0.5584853269453156,
          0.46439320195641753,
          0.9126583138331861,
          0.20350780736235174,
          0.3310215420882246,
          0.17827633957362765,
          0.7305299251836265,
          0.37236126536025493,
          0.24533691629849064,
          0.48255723115371996,
          0.6263743648950091,
          1.1142201494073525,
          0.5194954558218525,
          0.6224323999940206,
          0.6477428379099887,
          0.9956768434806935,
          0.8501165623220494,
          0.6733943863709868,
          1.3865519308398415,
          0.9851904472727331
         ]
        },
        {
         "line": {
          "color": "red"
         },
         "name": "Predicted value",
         "type": "scatter",
         "x": [
          "2019-01-01T00:00:00",
          "2019-02-01T00:00:00",
          "2019-03-01T00:00:00",
          "2019-04-01T00:00:00",
          "2019-05-01T00:00:00",
          "2019-06-01T00:00:00",
          "2019-07-01T00:00:00",
          "2019-08-01T00:00:00",
          "2019-09-01T00:00:00",
          "2019-10-01T00:00:00",
          "2019-11-01T00:00:00",
          "2019-12-01T00:00:00"
         ],
         "y": [
          0.9483283750100079,
          0.5014953421145384,
          0.6123045921997572,
          0.9806755498677473,
          0.8814736702098463,
          0.8088207096200948,
          1.0204094531949213,
          1.3894472495424781,
          1.066736060425661,
          1.0817261169667636,
          0.6348930840712942,
          0.745702334156513
         ]
        }
       ],
       "layout": {
        "template": {
         "data": {
          "bar": [
           {
            "error_x": {
             "color": "#2a3f5f"
            },
            "error_y": {
             "color": "#2a3f5f"
            },
            "marker": {
             "line": {
              "color": "#E5ECF6",
              "width": 0.5
             }
            },
            "type": "bar"
           }
          ],
          "barpolar": [
           {
            "marker": {
             "line": {
              "color": "#E5ECF6",
              "width": 0.5
             }
            },
            "type": "barpolar"
           }
          ],
          "carpet": [
           {
            "aaxis": {
             "endlinecolor": "#2a3f5f",
             "gridcolor": "white",
             "linecolor": "white",
             "minorgridcolor": "white",
             "startlinecolor": "#2a3f5f"
            },
            "baxis": {
             "endlinecolor": "#2a3f5f",
             "gridcolor": "white",
             "linecolor": "white",
             "minorgridcolor": "white",
             "startlinecolor": "#2a3f5f"
            },
            "type": "carpet"
           }
          ],
          "choropleth": [
           {
            "colorbar": {
             "outlinewidth": 0,
             "ticks": ""
            },
            "type": "choropleth"
           }
          ],
          "contour": [
           {
            "colorbar": {
             "outlinewidth": 0,
             "ticks": ""
            },
            "colorscale": [
             [
              0,
              "#0d0887"
             ],
             [
              0.1111111111111111,
              "#46039f"
             ],
             [
              0.2222222222222222,
              "#7201a8"
             ],
             [
              0.3333333333333333,
              "#9c179e"
             ],
             [
              0.4444444444444444,
              "#bd3786"
             ],
             [
              0.5555555555555556,
              "#d8576b"
             ],
             [
              0.6666666666666666,
              "#ed7953"
             ],
             [
              0.7777777777777778,
              "#fb9f3a"
             ],
             [
              0.8888888888888888,
              "#fdca26"
             ],
             [
              1,
              "#f0f921"
             ]
            ],
            "type": "contour"
           }
          ],
          "contourcarpet": [
           {
            "colorbar": {
             "outlinewidth": 0,
             "ticks": ""
            },
            "type": "contourcarpet"
           }
          ],
          "heatmap": [
           {
            "colorbar": {
             "outlinewidth": 0,
             "ticks": ""
            },
            "colorscale": [
             [
              0,
              "#0d0887"
             ],
             [
              0.1111111111111111,
              "#46039f"
             ],
             [
              0.2222222222222222,
              "#7201a8"
             ],
             [
              0.3333333333333333,
              "#9c179e"
             ],
             [
              0.4444444444444444,
              "#bd3786"
             ],
             [
              0.5555555555555556,
              "#d8576b"
             ],
             [
              0.6666666666666666,
              "#ed7953"
             ],
             [
              0.7777777777777778,
              "#fb9f3a"
             ],
             [
              0.8888888888888888,
              "#fdca26"
             ],
             [
              1,
              "#f0f921"
             ]
            ],
            "type": "heatmap"
           }
          ],
          "heatmapgl": [
           {
            "colorbar": {
             "outlinewidth": 0,
             "ticks": ""
            },
            "colorscale": [
             [
              0,
              "#0d0887"
             ],
             [
              0.1111111111111111,
              "#46039f"
             ],
             [
              0.2222222222222222,
              "#7201a8"
             ],
             [
              0.3333333333333333,
              "#9c179e"
             ],
             [
              0.4444444444444444,
              "#bd3786"
             ],
             [
              0.5555555555555556,
              "#d8576b"
             ],
             [
              0.6666666666666666,
              "#ed7953"
             ],
             [
              0.7777777777777778,
              "#fb9f3a"
             ],
             [
              0.8888888888888888,
              "#fdca26"
             ],
             [
              1,
              "#f0f921"
             ]
            ],
            "type": "heatmapgl"
           }
          ],
          "histogram": [
           {
            "marker": {
             "colorbar": {
              "outlinewidth": 0,
              "ticks": ""
             }
            },
            "type": "histogram"
           }
          ],
          "histogram2d": [
           {
            "colorbar": {
             "outlinewidth": 0,
             "ticks": ""
            },
            "colorscale": [
             [
              0,
              "#0d0887"
             ],
             [
              0.1111111111111111,
              "#46039f"
             ],
             [
              0.2222222222222222,
              "#7201a8"
             ],
             [
              0.3333333333333333,
              "#9c179e"
             ],
             [
              0.4444444444444444,
              "#bd3786"
             ],
             [
              0.5555555555555556,
              "#d8576b"
             ],
             [
              0.6666666666666666,
              "#ed7953"
             ],
             [
              0.7777777777777778,
              "#fb9f3a"
             ],
             [
              0.8888888888888888,
              "#fdca26"
             ],
             [
              1,
              "#f0f921"
             ]
            ],
            "type": "histogram2d"
           }
          ],
          "histogram2dcontour": [
           {
            "colorbar": {
             "outlinewidth": 0,
             "ticks": ""
            },
            "colorscale": [
             [
              0,
              "#0d0887"
             ],
             [
              0.1111111111111111,
              "#46039f"
             ],
             [
              0.2222222222222222,
              "#7201a8"
             ],
             [
              0.3333333333333333,
              "#9c179e"
             ],
             [
              0.4444444444444444,
              "#bd3786"
             ],
             [
              0.5555555555555556,
              "#d8576b"
             ],
             [
              0.6666666666666666,
              "#ed7953"
             ],
             [
              0.7777777777777778,
              "#fb9f3a"
             ],
             [
              0.8888888888888888,
              "#fdca26"
             ],
             [
              1,
              "#f0f921"
             ]
            ],
            "type": "histogram2dcontour"
           }
          ],
          "mesh3d": [
           {
            "colorbar": {
             "outlinewidth": 0,
             "ticks": ""
            },
            "type": "mesh3d"
           }
          ],
          "parcoords": [
           {
            "line": {
             "colorbar": {
              "outlinewidth": 0,
              "ticks": ""
             }
            },
            "type": "parcoords"
           }
          ],
          "pie": [
           {
            "automargin": true,
            "type": "pie"
           }
          ],
          "scatter": [
           {
            "marker": {
             "colorbar": {
              "outlinewidth": 0,
              "ticks": ""
             }
            },
            "type": "scatter"
           }
          ],
          "scatter3d": [
           {
            "line": {
             "colorbar": {
              "outlinewidth": 0,
              "ticks": ""
             }
            },
            "marker": {
             "colorbar": {
              "outlinewidth": 0,
              "ticks": ""
             }
            },
            "type": "scatter3d"
           }
          ],
          "scattercarpet": [
           {
            "marker": {
             "colorbar": {
              "outlinewidth": 0,
              "ticks": ""
             }
            },
            "type": "scattercarpet"
           }
          ],
          "scattergeo": [
           {
            "marker": {
             "colorbar": {
              "outlinewidth": 0,
              "ticks": ""
             }
            },
            "type": "scattergeo"
           }
          ],
          "scattergl": [
           {
            "marker": {
             "colorbar": {
              "outlinewidth": 0,
              "ticks": ""
             }
            },
            "type": "scattergl"
           }
          ],
          "scattermapbox": [
           {
            "marker": {
             "colorbar": {
              "outlinewidth": 0,
              "ticks": ""
             }
            },
            "type": "scattermapbox"
           }
          ],
          "scatterpolar": [
           {
            "marker": {
             "colorbar": {
              "outlinewidth": 0,
              "ticks": ""
             }
            },
            "type": "scatterpolar"
           }
          ],
          "scatterpolargl": [
           {
            "marker": {
             "colorbar": {
              "outlinewidth": 0,
              "ticks": ""
             }
            },
            "type": "scatterpolargl"
           }
          ],
          "scatterternary": [
           {
            "marker": {
             "colorbar": {
              "outlinewidth": 0,
              "ticks": ""
             }
            },
            "type": "scatterternary"
           }
          ],
          "surface": [
           {
            "colorbar": {
             "outlinewidth": 0,
             "ticks": ""
            },
            "colorscale": [
             [
              0,
              "#0d0887"
             ],
             [
              0.1111111111111111,
              "#46039f"
             ],
             [
              0.2222222222222222,
              "#7201a8"
             ],
             [
              0.3333333333333333,
              "#9c179e"
             ],
             [
              0.4444444444444444,
              "#bd3786"
             ],
             [
              0.5555555555555556,
              "#d8576b"
             ],
             [
              0.6666666666666666,
              "#ed7953"
             ],
             [
              0.7777777777777778,
              "#fb9f3a"
             ],
             [
              0.8888888888888888,
              "#fdca26"
             ],
             [
              1,
              "#f0f921"
             ]
            ],
            "type": "surface"
           }
          ],
          "table": [
           {
            "cells": {
             "fill": {
              "color": "#EBF0F8"
             },
             "line": {
              "color": "white"
             }
            },
            "header": {
             "fill": {
              "color": "#C8D4E3"
             },
             "line": {
              "color": "white"
             }
            },
            "type": "table"
           }
          ]
         },
         "layout": {
          "annotationdefaults": {
           "arrowcolor": "#2a3f5f",
           "arrowhead": 0,
           "arrowwidth": 1
          },
          "coloraxis": {
           "colorbar": {
            "outlinewidth": 0,
            "ticks": ""
           }
          },
          "colorscale": {
           "diverging": [
            [
             0,
             "#8e0152"
            ],
            [
             0.1,
             "#c51b7d"
            ],
            [
             0.2,
             "#de77ae"
            ],
            [
             0.3,
             "#f1b6da"
            ],
            [
             0.4,
             "#fde0ef"
            ],
            [
             0.5,
             "#f7f7f7"
            ],
            [
             0.6,
             "#e6f5d0"
            ],
            [
             0.7,
             "#b8e186"
            ],
            [
             0.8,
             "#7fbc41"
            ],
            [
             0.9,
             "#4d9221"
            ],
            [
             1,
             "#276419"
            ]
           ],
           "sequential": [
            [
             0,
             "#0d0887"
            ],
            [
             0.1111111111111111,
             "#46039f"
            ],
            [
             0.2222222222222222,
             "#7201a8"
            ],
            [
             0.3333333333333333,
             "#9c179e"
            ],
            [
             0.4444444444444444,
             "#bd3786"
            ],
            [
             0.5555555555555556,
             "#d8576b"
            ],
            [
             0.6666666666666666,
             "#ed7953"
            ],
            [
             0.7777777777777778,
             "#fb9f3a"
            ],
            [
             0.8888888888888888,
             "#fdca26"
            ],
            [
             1,
             "#f0f921"
            ]
           ],
           "sequentialminus": [
            [
             0,
             "#0d0887"
            ],
            [
             0.1111111111111111,
             "#46039f"
            ],
            [
             0.2222222222222222,
             "#7201a8"
            ],
            [
             0.3333333333333333,
             "#9c179e"
            ],
            [
             0.4444444444444444,
             "#bd3786"
            ],
            [
             0.5555555555555556,
             "#d8576b"
            ],
            [
             0.6666666666666666,
             "#ed7953"
            ],
            [
             0.7777777777777778,
             "#fb9f3a"
            ],
            [
             0.8888888888888888,
             "#fdca26"
            ],
            [
             1,
             "#f0f921"
            ]
           ]
          },
          "colorway": [
           "#636efa",
           "#EF553B",
           "#00cc96",
           "#ab63fa",
           "#FFA15A",
           "#19d3f3",
           "#FF6692",
           "#B6E880",
           "#FF97FF",
           "#FECB52"
          ],
          "font": {
           "color": "#2a3f5f"
          },
          "geo": {
           "bgcolor": "white",
           "lakecolor": "white",
           "landcolor": "#E5ECF6",
           "showlakes": true,
           "showland": true,
           "subunitcolor": "white"
          },
          "hoverlabel": {
           "align": "left"
          },
          "hovermode": "closest",
          "mapbox": {
           "style": "light"
          },
          "paper_bgcolor": "white",
          "plot_bgcolor": "#E5ECF6",
          "polar": {
           "angularaxis": {
            "gridcolor": "white",
            "linecolor": "white",
            "ticks": ""
           },
           "bgcolor": "#E5ECF6",
           "radialaxis": {
            "gridcolor": "white",
            "linecolor": "white",
            "ticks": ""
           }
          },
          "scene": {
           "xaxis": {
            "backgroundcolor": "#E5ECF6",
            "gridcolor": "white",
            "gridwidth": 2,
            "linecolor": "white",
            "showbackground": true,
            "ticks": "",
            "zerolinecolor": "white"
           },
           "yaxis": {
            "backgroundcolor": "#E5ECF6",
            "gridcolor": "white",
            "gridwidth": 2,
            "linecolor": "white",
            "showbackground": true,
            "ticks": "",
            "zerolinecolor": "white"
           },
           "zaxis": {
            "backgroundcolor": "#E5ECF6",
            "gridcolor": "white",
            "gridwidth": 2,
            "linecolor": "white",
            "showbackground": true,
            "ticks": "",
            "zerolinecolor": "white"
           }
          },
          "shapedefaults": {
           "line": {
            "color": "#2a3f5f"
           }
          },
          "ternary": {
           "aaxis": {
            "gridcolor": "white",
            "linecolor": "white",
            "ticks": ""
           },
           "baxis": {
            "gridcolor": "white",
            "linecolor": "white",
            "ticks": ""
           },
           "bgcolor": "#E5ECF6",
           "caxis": {
            "gridcolor": "white",
            "linecolor": "white",
            "ticks": ""
           }
          },
          "title": {
           "x": 0.05
          },
          "xaxis": {
           "automargin": true,
           "gridcolor": "white",
           "linecolor": "white",
           "ticks": "",
           "title": {
            "standoff": 15
           },
           "zerolinecolor": "white",
           "zerolinewidth": 2
          },
          "yaxis": {
           "automargin": true,
           "gridcolor": "white",
           "linecolor": "white",
           "ticks": "",
           "title": {
            "standoff": 15
           },
           "zerolinecolor": "white",
           "zerolinewidth": 2
          }
         }
        },
        "title": {
         "text": "Time Series Prediction"
        },
        "xaxis": {
         "rangeslider": {
          "visible": true
         }
        }
       }
      },
      "text/html": [
       "<div>\n",
       "        \n",
       "        \n",
       "            <div id=\"34369bd6-c130-40cd-a334-7b3e58770129\" class=\"plotly-graph-div\" style=\"height:525px; width:100%;\"></div>\n",
       "            <script type=\"text/javascript\">\n",
       "                require([\"plotly\"], function(Plotly) {\n",
       "                    window.PLOTLYENV=window.PLOTLYENV || {};\n",
       "                    \n",
       "                if (document.getElementById(\"34369bd6-c130-40cd-a334-7b3e58770129\")) {\n",
       "                    Plotly.newPlot(\n",
       "                        '34369bd6-c130-40cd-a334-7b3e58770129',\n",
       "                        [{\"line\": {\"color\": \"deepskyblue\"}, \"name\": \"Observed value\", \"type\": \"scatter\", \"x\": [\"2014-01-01T00:00:00\", \"2014-02-01T00:00:00\", \"2014-03-01T00:00:00\", \"2014-04-01T00:00:00\", \"2014-05-01T00:00:00\", \"2014-06-01T00:00:00\", \"2014-07-01T00:00:00\", \"2014-08-01T00:00:00\", \"2014-09-01T00:00:00\", \"2014-10-01T00:00:00\", \"2014-11-01T00:00:00\", \"2014-12-01T00:00:00\", \"2015-01-01T00:00:00\", \"2015-02-01T00:00:00\", \"2015-03-01T00:00:00\", \"2015-04-01T00:00:00\", \"2015-05-01T00:00:00\", \"2015-06-01T00:00:00\", \"2015-07-01T00:00:00\", \"2015-08-01T00:00:00\", \"2015-09-01T00:00:00\", \"2015-10-01T00:00:00\", \"2015-11-01T00:00:00\", \"2015-12-01T00:00:00\", \"2016-01-01T00:00:00\", \"2016-02-01T00:00:00\", \"2016-03-01T00:00:00\", \"2016-04-01T00:00:00\", \"2016-05-01T00:00:00\", \"2016-06-01T00:00:00\", \"2016-07-01T00:00:00\", \"2016-08-01T00:00:00\", \"2016-09-01T00:00:00\", \"2016-10-01T00:00:00\", \"2016-11-01T00:00:00\", \"2016-12-01T00:00:00\", \"2017-01-01T00:00:00\", \"2017-02-01T00:00:00\", \"2017-03-01T00:00:00\", \"2017-04-01T00:00:00\", \"2017-05-01T00:00:00\", \"2017-06-01T00:00:00\", \"2017-07-01T00:00:00\", \"2017-08-01T00:00:00\", \"2017-09-01T00:00:00\", \"2017-10-01T00:00:00\", \"2017-11-01T00:00:00\", \"2017-12-01T00:00:00\", \"2018-01-01T00:00:00\", \"2018-02-01T00:00:00\", \"2018-03-01T00:00:00\", \"2018-04-01T00:00:00\", \"2018-05-01T00:00:00\", \"2018-06-01T00:00:00\", \"2018-07-01T00:00:00\", \"2018-08-01T00:00:00\", \"2018-09-01T00:00:00\", \"2018-10-01T00:00:00\", \"2018-11-01T00:00:00\", \"2018-12-01T00:00:00\"], \"y\": [0.0, 1.0, 0.0, 0.0, 0.0, 0.0, 0.0, 0.0, 0.0, 0.0, 0.0, 0.0, 0.0, 2.0, 0.0, 0.0, 0.0, 0.0, 0.0, 0.0, 0.0, 0.0, 0.0, 0.0, 0.0, 0.0, 1.0, 0.0, 0.0, 0.0, 0.0, 0.0, 1.0, 4.0, 0.0, 0.0, 0.0, 0.0, 1.0, 0.0, 0.0, 0.0, 0.0, 0.0, 0.0, 1.0, 0.0, 1.0, 1.0, 4.0, 2.0, 0.0, 0.0, 0.0, 2.0, 0.0, 0.0, 2.0, 1.0, 0.0]}, {\"line\": {\"color\": \"dimgray\"}, \"name\": \"Fitted value\", \"type\": \"scatter\", \"x\": [\"2014-01-01T00:00:00\", \"2014-02-01T00:00:00\", \"2014-03-01T00:00:00\", \"2014-04-01T00:00:00\", \"2014-05-01T00:00:00\", \"2014-06-01T00:00:00\", \"2014-07-01T00:00:00\", \"2014-08-01T00:00:00\", \"2014-09-01T00:00:00\", \"2014-10-01T00:00:00\", \"2014-11-01T00:00:00\", \"2014-12-01T00:00:00\", \"2015-01-01T00:00:00\", \"2015-02-01T00:00:00\", \"2015-03-01T00:00:00\", \"2015-04-01T00:00:00\", \"2015-05-01T00:00:00\", \"2015-06-01T00:00:00\", \"2015-07-01T00:00:00\", \"2015-08-01T00:00:00\", \"2015-09-01T00:00:00\", \"2015-10-01T00:00:00\", \"2015-11-01T00:00:00\", \"2015-12-01T00:00:00\", \"2016-01-01T00:00:00\", \"2016-02-01T00:00:00\", \"2016-03-01T00:00:00\", \"2016-04-01T00:00:00\", \"2016-05-01T00:00:00\", \"2016-06-01T00:00:00\", \"2016-07-01T00:00:00\", \"2016-08-01T00:00:00\", \"2016-09-01T00:00:00\", \"2016-10-01T00:00:00\", \"2016-11-01T00:00:00\", \"2016-12-01T00:00:00\", \"2017-01-01T00:00:00\", \"2017-02-01T00:00:00\", \"2017-03-01T00:00:00\", \"2017-04-01T00:00:00\", \"2017-05-01T00:00:00\", \"2017-06-01T00:00:00\", \"2017-07-01T00:00:00\", \"2017-08-01T00:00:00\", \"2017-09-01T00:00:00\", \"2017-10-01T00:00:00\", \"2017-11-01T00:00:00\", \"2017-12-01T00:00:00\", \"2018-01-01T00:00:00\", \"2018-02-01T00:00:00\", \"2018-03-01T00:00:00\", \"2018-04-01T00:00:00\", \"2018-05-01T00:00:00\", \"2018-06-01T00:00:00\", \"2018-07-01T00:00:00\", \"2018-08-01T00:00:00\", \"2018-09-01T00:00:00\", \"2018-10-01T00:00:00\", \"2018-11-01T00:00:00\", \"2018-12-01T00:00:00\"], \"y\": [0.012345679012345678, 1.0240073868882733, 0.03498881820871369, 0.045295357525561075, 0.0549339755001767, 0.06391312611463207, 0.07224264518396478, 0.07993365038210282, 0.08699844297872633, 0.09150109373042392, 1.095621292672601, 0.04396551014965028, 0.04764480574855878, 0.05110393540391994, 0.16514689398081395, 0.1675695364666558, 0.16950130789144618, 0.17096075010106726, 0.17032503505133445, 1.0115246099152084, 0.13035213540192536, 0.12867078075459593, 0.4426511876940643, 0.089944703972751, 0.08906887261153246, 0.08817073339543757, 0.0872490783767425, 0.14032195164674183, 0.8469335175457334, 0.11066602597116953, 0.1074505894460378, 0.37019510657568, 0.07441641934694931, 0.12736465308424505, 0.34633024248573224, 0.500357551674436, 0.3193632481388319, 0.9110669989578759, 0.29358482604602265, 0.3420527497556678, 0.5584853269453156, 0.46439320195641753, 0.9126583138331861, 0.20350780736235174, 0.3310215420882246, 0.17827633957362765, 0.7305299251836265, 0.37236126536025493, 0.24533691629849064, 0.48255723115371996, 0.6263743648950091, 1.1142201494073525, 0.5194954558218525, 0.6224323999940206, 0.6477428379099887, 0.9956768434806935, 0.8501165623220494, 0.6733943863709868, 1.3865519308398415, 0.9851904472727331]}, {\"line\": {\"color\": \"red\"}, \"name\": \"Predicted value\", \"type\": \"scatter\", \"x\": [\"2019-01-01T00:00:00\", \"2019-02-01T00:00:00\", \"2019-03-01T00:00:00\", \"2019-04-01T00:00:00\", \"2019-05-01T00:00:00\", \"2019-06-01T00:00:00\", \"2019-07-01T00:00:00\", \"2019-08-01T00:00:00\", \"2019-09-01T00:00:00\", \"2019-10-01T00:00:00\", \"2019-11-01T00:00:00\", \"2019-12-01T00:00:00\"], \"y\": [0.9483283750100079, 0.5014953421145384, 0.6123045921997572, 0.9806755498677473, 0.8814736702098463, 0.8088207096200948, 1.0204094531949213, 1.3894472495424781, 1.066736060425661, 1.0817261169667636, 0.6348930840712942, 0.745702334156513]}],\n",
       "                        {\"template\": {\"data\": {\"bar\": [{\"error_x\": {\"color\": \"#2a3f5f\"}, \"error_y\": {\"color\": \"#2a3f5f\"}, \"marker\": {\"line\": {\"color\": \"#E5ECF6\", \"width\": 0.5}}, \"type\": \"bar\"}], \"barpolar\": [{\"marker\": {\"line\": {\"color\": \"#E5ECF6\", \"width\": 0.5}}, \"type\": \"barpolar\"}], \"carpet\": [{\"aaxis\": {\"endlinecolor\": \"#2a3f5f\", \"gridcolor\": \"white\", \"linecolor\": \"white\", \"minorgridcolor\": \"white\", \"startlinecolor\": \"#2a3f5f\"}, \"baxis\": {\"endlinecolor\": \"#2a3f5f\", \"gridcolor\": \"white\", \"linecolor\": \"white\", \"minorgridcolor\": \"white\", \"startlinecolor\": \"#2a3f5f\"}, \"type\": \"carpet\"}], \"choropleth\": [{\"colorbar\": {\"outlinewidth\": 0, \"ticks\": \"\"}, \"type\": \"choropleth\"}], \"contour\": [{\"colorbar\": {\"outlinewidth\": 0, \"ticks\": \"\"}, \"colorscale\": [[0.0, \"#0d0887\"], [0.1111111111111111, \"#46039f\"], [0.2222222222222222, \"#7201a8\"], [0.3333333333333333, \"#9c179e\"], [0.4444444444444444, \"#bd3786\"], [0.5555555555555556, \"#d8576b\"], [0.6666666666666666, \"#ed7953\"], [0.7777777777777778, \"#fb9f3a\"], [0.8888888888888888, \"#fdca26\"], [1.0, \"#f0f921\"]], \"type\": \"contour\"}], \"contourcarpet\": [{\"colorbar\": {\"outlinewidth\": 0, \"ticks\": \"\"}, \"type\": \"contourcarpet\"}], \"heatmap\": [{\"colorbar\": {\"outlinewidth\": 0, \"ticks\": \"\"}, \"colorscale\": [[0.0, \"#0d0887\"], [0.1111111111111111, \"#46039f\"], [0.2222222222222222, \"#7201a8\"], [0.3333333333333333, \"#9c179e\"], [0.4444444444444444, \"#bd3786\"], [0.5555555555555556, \"#d8576b\"], [0.6666666666666666, \"#ed7953\"], [0.7777777777777778, \"#fb9f3a\"], [0.8888888888888888, \"#fdca26\"], [1.0, \"#f0f921\"]], \"type\": \"heatmap\"}], \"heatmapgl\": [{\"colorbar\": {\"outlinewidth\": 0, \"ticks\": \"\"}, \"colorscale\": [[0.0, \"#0d0887\"], [0.1111111111111111, \"#46039f\"], [0.2222222222222222, \"#7201a8\"], [0.3333333333333333, \"#9c179e\"], [0.4444444444444444, \"#bd3786\"], [0.5555555555555556, \"#d8576b\"], [0.6666666666666666, \"#ed7953\"], [0.7777777777777778, \"#fb9f3a\"], [0.8888888888888888, \"#fdca26\"], [1.0, \"#f0f921\"]], \"type\": \"heatmapgl\"}], \"histogram\": [{\"marker\": {\"colorbar\": {\"outlinewidth\": 0, \"ticks\": \"\"}}, \"type\": \"histogram\"}], \"histogram2d\": [{\"colorbar\": {\"outlinewidth\": 0, \"ticks\": \"\"}, \"colorscale\": [[0.0, \"#0d0887\"], [0.1111111111111111, \"#46039f\"], [0.2222222222222222, \"#7201a8\"], [0.3333333333333333, \"#9c179e\"], [0.4444444444444444, \"#bd3786\"], [0.5555555555555556, \"#d8576b\"], [0.6666666666666666, \"#ed7953\"], [0.7777777777777778, \"#fb9f3a\"], [0.8888888888888888, \"#fdca26\"], [1.0, \"#f0f921\"]], \"type\": \"histogram2d\"}], \"histogram2dcontour\": [{\"colorbar\": {\"outlinewidth\": 0, \"ticks\": \"\"}, \"colorscale\": [[0.0, \"#0d0887\"], [0.1111111111111111, \"#46039f\"], [0.2222222222222222, \"#7201a8\"], [0.3333333333333333, \"#9c179e\"], [0.4444444444444444, \"#bd3786\"], [0.5555555555555556, \"#d8576b\"], [0.6666666666666666, \"#ed7953\"], [0.7777777777777778, \"#fb9f3a\"], [0.8888888888888888, \"#fdca26\"], [1.0, \"#f0f921\"]], \"type\": \"histogram2dcontour\"}], \"mesh3d\": [{\"colorbar\": {\"outlinewidth\": 0, \"ticks\": \"\"}, \"type\": \"mesh3d\"}], \"parcoords\": [{\"line\": {\"colorbar\": {\"outlinewidth\": 0, \"ticks\": \"\"}}, \"type\": \"parcoords\"}], \"pie\": [{\"automargin\": true, \"type\": \"pie\"}], \"scatter\": [{\"marker\": {\"colorbar\": {\"outlinewidth\": 0, \"ticks\": \"\"}}, \"type\": \"scatter\"}], \"scatter3d\": [{\"line\": {\"colorbar\": {\"outlinewidth\": 0, \"ticks\": \"\"}}, \"marker\": {\"colorbar\": {\"outlinewidth\": 0, \"ticks\": \"\"}}, \"type\": \"scatter3d\"}], \"scattercarpet\": [{\"marker\": {\"colorbar\": {\"outlinewidth\": 0, \"ticks\": \"\"}}, \"type\": \"scattercarpet\"}], \"scattergeo\": [{\"marker\": {\"colorbar\": {\"outlinewidth\": 0, \"ticks\": \"\"}}, \"type\": \"scattergeo\"}], \"scattergl\": [{\"marker\": {\"colorbar\": {\"outlinewidth\": 0, \"ticks\": \"\"}}, \"type\": \"scattergl\"}], \"scattermapbox\": [{\"marker\": {\"colorbar\": {\"outlinewidth\": 0, \"ticks\": \"\"}}, \"type\": \"scattermapbox\"}], \"scatterpolar\": [{\"marker\": {\"colorbar\": {\"outlinewidth\": 0, \"ticks\": \"\"}}, \"type\": \"scatterpolar\"}], \"scatterpolargl\": [{\"marker\": {\"colorbar\": {\"outlinewidth\": 0, \"ticks\": \"\"}}, \"type\": \"scatterpolargl\"}], \"scatterternary\": [{\"marker\": {\"colorbar\": {\"outlinewidth\": 0, \"ticks\": \"\"}}, \"type\": \"scatterternary\"}], \"surface\": [{\"colorbar\": {\"outlinewidth\": 0, \"ticks\": \"\"}, \"colorscale\": [[0.0, \"#0d0887\"], [0.1111111111111111, \"#46039f\"], [0.2222222222222222, \"#7201a8\"], [0.3333333333333333, \"#9c179e\"], [0.4444444444444444, \"#bd3786\"], [0.5555555555555556, \"#d8576b\"], [0.6666666666666666, \"#ed7953\"], [0.7777777777777778, \"#fb9f3a\"], [0.8888888888888888, \"#fdca26\"], [1.0, \"#f0f921\"]], \"type\": \"surface\"}], \"table\": [{\"cells\": {\"fill\": {\"color\": \"#EBF0F8\"}, \"line\": {\"color\": \"white\"}}, \"header\": {\"fill\": {\"color\": \"#C8D4E3\"}, \"line\": {\"color\": \"white\"}}, \"type\": \"table\"}]}, \"layout\": {\"annotationdefaults\": {\"arrowcolor\": \"#2a3f5f\", \"arrowhead\": 0, \"arrowwidth\": 1}, \"coloraxis\": {\"colorbar\": {\"outlinewidth\": 0, \"ticks\": \"\"}}, \"colorscale\": {\"diverging\": [[0, \"#8e0152\"], [0.1, \"#c51b7d\"], [0.2, \"#de77ae\"], [0.3, \"#f1b6da\"], [0.4, \"#fde0ef\"], [0.5, \"#f7f7f7\"], [0.6, \"#e6f5d0\"], [0.7, \"#b8e186\"], [0.8, \"#7fbc41\"], [0.9, \"#4d9221\"], [1, \"#276419\"]], \"sequential\": [[0.0, \"#0d0887\"], [0.1111111111111111, \"#46039f\"], [0.2222222222222222, \"#7201a8\"], [0.3333333333333333, \"#9c179e\"], [0.4444444444444444, \"#bd3786\"], [0.5555555555555556, \"#d8576b\"], [0.6666666666666666, \"#ed7953\"], [0.7777777777777778, \"#fb9f3a\"], [0.8888888888888888, \"#fdca26\"], [1.0, \"#f0f921\"]], \"sequentialminus\": [[0.0, \"#0d0887\"], [0.1111111111111111, \"#46039f\"], [0.2222222222222222, \"#7201a8\"], [0.3333333333333333, \"#9c179e\"], [0.4444444444444444, \"#bd3786\"], [0.5555555555555556, \"#d8576b\"], [0.6666666666666666, \"#ed7953\"], [0.7777777777777778, \"#fb9f3a\"], [0.8888888888888888, \"#fdca26\"], [1.0, \"#f0f921\"]]}, \"colorway\": [\"#636efa\", \"#EF553B\", \"#00cc96\", \"#ab63fa\", \"#FFA15A\", \"#19d3f3\", \"#FF6692\", \"#B6E880\", \"#FF97FF\", \"#FECB52\"], \"font\": {\"color\": \"#2a3f5f\"}, \"geo\": {\"bgcolor\": \"white\", \"lakecolor\": \"white\", \"landcolor\": \"#E5ECF6\", \"showlakes\": true, \"showland\": true, \"subunitcolor\": \"white\"}, \"hoverlabel\": {\"align\": \"left\"}, \"hovermode\": \"closest\", \"mapbox\": {\"style\": \"light\"}, \"paper_bgcolor\": \"white\", \"plot_bgcolor\": \"#E5ECF6\", \"polar\": {\"angularaxis\": {\"gridcolor\": \"white\", \"linecolor\": \"white\", \"ticks\": \"\"}, \"bgcolor\": \"#E5ECF6\", \"radialaxis\": {\"gridcolor\": \"white\", \"linecolor\": \"white\", \"ticks\": \"\"}}, \"scene\": {\"xaxis\": {\"backgroundcolor\": \"#E5ECF6\", \"gridcolor\": \"white\", \"gridwidth\": 2, \"linecolor\": \"white\", \"showbackground\": true, \"ticks\": \"\", \"zerolinecolor\": \"white\"}, \"yaxis\": {\"backgroundcolor\": \"#E5ECF6\", \"gridcolor\": \"white\", \"gridwidth\": 2, \"linecolor\": \"white\", \"showbackground\": true, \"ticks\": \"\", \"zerolinecolor\": \"white\"}, \"zaxis\": {\"backgroundcolor\": \"#E5ECF6\", \"gridcolor\": \"white\", \"gridwidth\": 2, \"linecolor\": \"white\", \"showbackground\": true, \"ticks\": \"\", \"zerolinecolor\": \"white\"}}, \"shapedefaults\": {\"line\": {\"color\": \"#2a3f5f\"}}, \"ternary\": {\"aaxis\": {\"gridcolor\": \"white\", \"linecolor\": \"white\", \"ticks\": \"\"}, \"baxis\": {\"gridcolor\": \"white\", \"linecolor\": \"white\", \"ticks\": \"\"}, \"bgcolor\": \"#E5ECF6\", \"caxis\": {\"gridcolor\": \"white\", \"linecolor\": \"white\", \"ticks\": \"\"}}, \"title\": {\"x\": 0.05}, \"xaxis\": {\"automargin\": true, \"gridcolor\": \"white\", \"linecolor\": \"white\", \"ticks\": \"\", \"title\": {\"standoff\": 15}, \"zerolinecolor\": \"white\", \"zerolinewidth\": 2}, \"yaxis\": {\"automargin\": true, \"gridcolor\": \"white\", \"linecolor\": \"white\", \"ticks\": \"\", \"title\": {\"standoff\": 15}, \"zerolinecolor\": \"white\", \"zerolinewidth\": 2}}}, \"title\": {\"text\": \"Time Series Prediction\"}, \"xaxis\": {\"rangeslider\": {\"visible\": true}}},\n",
       "                        {\"responsive\": true}\n",
       "                    ).then(function(){\n",
       "                            \n",
       "var gd = document.getElementById('34369bd6-c130-40cd-a334-7b3e58770129');\n",
       "var x = new MutationObserver(function (mutations, observer) {{\n",
       "        var display = window.getComputedStyle(gd).display;\n",
       "        if (!display || display === 'none') {{\n",
       "            console.log([gd, 'removed!']);\n",
       "            Plotly.purge(gd);\n",
       "            observer.disconnect();\n",
       "        }}\n",
       "}});\n",
       "\n",
       "// Listen for the removal of the full notebook cells\n",
       "var notebookContainer = gd.closest('#notebook-container');\n",
       "if (notebookContainer) {{\n",
       "    x.observe(notebookContainer, {childList: true});\n",
       "}}\n",
       "\n",
       "// Listen for the clearing of the current output cell\n",
       "var outputEl = gd.closest('.output');\n",
       "if (outputEl) {{\n",
       "    x.observe(outputEl, {childList: true});\n",
       "}}\n",
       "\n",
       "                        })\n",
       "                };\n",
       "                });\n",
       "            </script>\n",
       "        </div>"
      ]
     },
     "metadata": {},
     "output_type": "display_data"
    }
   ],
   "source": [
    "do_plot(3)"
   ]
  },
  {
   "cell_type": "code",
   "execution_count": 556,
   "metadata": {},
   "outputs": [],
   "source": [
    "import ipywidgets as widgets\n",
    "\n",
    "def journal_to_plot(journal,do_time_series,amplify):\n",
    "    if (journal in df_time_series_dropna.index):\n",
    "        ind = list(df_time_series_dropna.index).index(journal)\n",
    "    else:\n",
    "        return False\n",
    "    do_plot(ind,time_series = do_time_series, amplify = amplify)\n",
    "    return True\n",
    "\n",
    "journal_text = widgets.Text(value='Science', placeholder='Please input journal name', description='Journal',disabled=False)\n",
    "do_time_series = widgets.Checkbox(value=True, description='Use Time Analysis',disabled=False,indent=False)\n",
    "amplify = widgets.FloatSlider(value=1, min=1, max=4, step=0.1)\n",
    "amplify.layout.visibility = 'hidden'\n",
    "\n",
    "generate = widgets.Button(description='Generate Plot',disabled=False,button_style='success',tooltip='Click me',icon='check')\n",
    "\n",
    "out_predict =  widgets.Output()\n",
    "\n",
    "def RNN_handler(change):\n",
    "    if change.new:\n",
    "        amplify.layout.visibility = 'hidden'\n",
    "    else:\n",
    "        amplify.value = 1\n",
    "        amplify.layout.visibility = \"visible\"\n",
    "\n",
    "def generate_handler(event):\n",
    "    out_predict.clear_output()\n",
    "    generate.layout.visibility = 'hidden'\n",
    "    with out_predict:\n",
    "        if not journal_to_plot(journal_text.value, do_time_series.value, amplify.value):\n",
    "            display(\"The journal name inputed is not included in data set\")\n",
    "\n",
    "\n",
    "def status_changed(change):\n",
    "    generate.layout.visibility = 'visible'\n",
    "\n",
    "do_time_series.observe(RNN_handler, names = \"value\")\n",
    "generate.on_click(generate_handler)\n",
    "journal_text.observe(status_changed, names = \"value\")\n",
    "do_time_series.observe(status_changed, names = \"value\")\n",
    "amplify.observe(status_changed, names = \"value\")"
   ]
  },
  {
   "cell_type": "code",
   "execution_count": 557,
   "metadata": {},
   "outputs": [
    {
     "data": {
      "application/vnd.jupyter.widget-view+json": {
       "model_id": "8b988f3b62ba4a18bc0246b750f3dad5",
       "version_major": 2,
       "version_minor": 0
      },
      "text/plain": [
       "VBox(children=(HBox(children=(Text(value='Science', description='Journal', placeholder='Please input journal n…"
      ]
     },
     "metadata": {},
     "output_type": "display_data"
    },
    {
     "data": {
      "application/vnd.jupyter.widget-view+json": {
       "model_id": "5d0eadec0be944aa895d3c52098fa524",
       "version_major": 2,
       "version_minor": 0
      },
      "text/plain": [
       "Output()"
      ]
     },
     "metadata": {},
     "output_type": "display_data"
    }
   ],
   "source": [
    "predict_widgets = widgets.VBox([widgets.HBox([journal_text,do_time_series]),amplify,generate])\n",
    "display(predict_widgets)\n",
    "display(out_predict)"
   ]
  }
 ],
 "metadata": {
  "hide_input": false,
  "kernelspec": {
   "display_name": "Python 3",
   "language": "python",
   "name": "python3"
  },
  "language_info": {
   "codemirror_mode": {
    "name": "ipython",
    "version": 3
   },
   "file_extension": ".py",
   "mimetype": "text/x-python",
   "name": "python",
   "nbconvert_exporter": "python",
   "pygments_lexer": "ipython3",
   "version": "3.7.4"
  },
  "varInspector": {
   "cols": {
    "lenName": 16,
    "lenType": 16,
    "lenVar": 40
   },
   "kernels_config": {
    "python": {
     "delete_cmd_postfix": "",
     "delete_cmd_prefix": "del ",
     "library": "var_list.py",
     "varRefreshCmd": "print(var_dic_list())"
    },
    "r": {
     "delete_cmd_postfix": ") ",
     "delete_cmd_prefix": "rm(",
     "library": "var_list.r",
     "varRefreshCmd": "cat(var_dic_list()) "
    }
   },
   "types_to_exclude": [
    "module",
    "function",
    "builtin_function_or_method",
    "instance",
    "_Feature"
   ],
   "window_display": false
  }
 },
 "nbformat": 4,
 "nbformat_minor": 4
}
