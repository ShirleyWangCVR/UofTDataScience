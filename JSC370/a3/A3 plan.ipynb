{
 "cells": [
  {
   "cell_type": "markdown",
   "metadata": {},
   "source": [
    "# Which journals are downloaded most frequently?\n",
    "\n",
    "- Which are downloaded most frequently overall (total, pdf, html) (selected year month ranges)\n",
    "- which publishers are publisheing the most downloaded journals\n",
    "- Which platforms are hosting the most downloaded journals\n",
    "- Which packages have the most downloaded journals\n",
    "- Which journals/packages that have uoft publications that are downloaded the most frequently (with publishers, platforms, packages like before)\n",
    "\n"
   ]
  },
  {
   "cell_type": "markdown",
   "metadata": {},
   "source": [
    "# How many authors from UofT publish in the journals that are downloaded?\n",
    "\n",
    "- number of uoft publications and journals (and percentage)\n",
    "- distribution of downloads and total downloads\n",
    "- distribution of \"number of uoft authors\" + distribution of \"proportion of uoft authors\"\n",
    "- distribution of \"number of pages\"\n",
    "- value counts of Publication Type (turns out not that interesting), Document Type\n",
    "- distribution of categories, headings 1 (uoft report big category), subheadings (uoft report middle category), subjects (uoft report specifit category)"
   ]
  },
  {
   "cell_type": "markdown",
   "metadata": {},
   "source": [
    "\n",
    "\n",
    "# How do the download patterns change over time? Can you predict future downloads?\n",
    "\n",
    "- For visualization, do a trend graph\n",
    "\n",
    "- For prediction, do time series/ RNN. \n",
    "\n",
    "\n"
   ]
  },
  {
   "cell_type": "markdown",
   "metadata": {},
   "source": [
    "# Is it possible to use Web of Science data or another data source such as Crossref (see assignment #1) to gather information on the topic of the journal (e.g., Social Science, Life Science)?\n",
    "\n",
    "We wont do that. The information provided by habanero is very limited. We used it in A1 since the writes are nobel laureates so that we can get more information from them.\n",
    "\n",
    "# Which journals/publishers do UofT faculty publish with that are not in our journals collection (represented by the usage reports provided)?\n",
    "\n",
    "Venn diagram as noted in the announcement, with only the top in both so it doesn't get overcrowded.  Make lists on the side.\n",
    "\n",
    "# Any other interesting questions that your group think could be answered using this data.\n",
    "\n",
    "Hmm"
   ]
  }
 ],
 "metadata": {
  "kernelspec": {
   "display_name": "Python 3",
   "language": "python",
   "name": "python3"
  },
  "language_info": {
   "codemirror_mode": {
    "name": "ipython",
    "version": 3
   },
   "file_extension": ".py",
   "mimetype": "text/x-python",
   "name": "python",
   "nbconvert_exporter": "python",
   "pygments_lexer": "ipython3",
   "version": "3.7.4"
  }
 },
 "nbformat": 4,
 "nbformat_minor": 2
}
